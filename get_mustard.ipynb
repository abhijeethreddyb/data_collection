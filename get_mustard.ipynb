{
 "cells": [
  {
   "cell_type": "code",
   "execution_count": 1,
   "id": "1050a4d1-edf8-416d-8d87-4130006c93ec",
   "metadata": {},
   "outputs": [],
   "source": [
    "import os\n",
    "import shutil\n",
    "import geopandas as gpd\n",
    "import pandas as pd\n",
    "from zipfile import ZipFile\n",
    "import zipfile as zp"
   ]
  },
  {
   "cell_type": "code",
   "execution_count": 2,
   "id": "d3523d66-d728-49b6-a718-978b2c5a0408",
   "metadata": {},
   "outputs": [
    {
     "data": {
      "text/plain": [
       "'/wadhwani_kdss/e_drive/MNCFC_GT_CCE_Repository'"
      ]
     },
     "execution_count": 2,
     "metadata": {},
     "output_type": "execute_result"
    }
   ],
   "source": [
    "import os\n",
    "os.chdir(\"/wadhwani_kdss/e_drive/MNCFC_GT_CCE_Repository\")\n",
    "os.getcwd()"
   ]
  },
  {
   "cell_type": "code",
   "execution_count": 3,
   "id": "bc6cc8ae-de49-4967-af1b-0ea9f147ce8f",
   "metadata": {},
   "outputs": [],
   "source": [
    "def process_shapefile(shapefile_path):\n",
    "    # Read the shapefile using geopandas\n",
    "    gdf = gpd.read_file(shapefile_path)\n",
    "    \n",
    "    # Get the list of attribute/column names in the shapefile\n",
    "    attributes = list(gdf.columns)\n",
    "    print(\"Available attributes:\", attributes)\n",
    "    \n",
    "    # Ask the user to input the name of the column they want to use\n",
    "    selected_column = \"typeofcrop\"\n",
    "    \n",
    "    # Check if the selected column name is in the list of attributes\n",
    "    if selected_column not in attributes:\n",
    "        print(\"Selected column not found.\")\n",
    "        selected_column= input()\n",
    "    \n",
    "    # Get the unique values present in the selected column\n",
    "    unique_values = gdf[selected_column].unique()\n",
    "    print(\"Unique values in selected column:\", unique_values)\n",
    "    \n",
    "    # Ask the user to input specific unique values or leave empty to select all\n",
    "    selected_values = input(\"Enter comma-separated unique values (or leave empty for all): \")\n",
    "    if selected_values:\n",
    "        # If user input is not empty, split the input into a list of values\n",
    "        selected_values = [value.strip() for value in selected_values.split(',')]\n",
    "        \n",
    "        # Filter the GeoDataFrame to include only rows with selected unique values\n",
    "        filtered_gdf = gdf[gdf[selected_column].isin(selected_values)]\n",
    "    else:\n",
    "        # Return an empty GeoDataFrame\n",
    "        filtered_gdf = gpd.GeoDataFrame(columns=['geometry', 'latitude', 'longitude', 'selected_column'])\n",
    "    # Return the filtered GeoDataFrame\n",
    "    return filtered_gdf\n"
   ]
  },
  {
   "cell_type": "code",
   "execution_count": 4,
   "id": "0fd6be08-81a3-4412-b611-873ab80de0d6",
   "metadata": {},
   "outputs": [],
   "source": [
    "results=[]"
   ]
  },
  {
   "cell_type": "code",
   "execution_count": 5,
   "id": "9a8ab4f6-f265-4b64-b3af-43d9b4185db5",
   "metadata": {},
   "outputs": [],
   "source": [
    "def zip_read(zip_path):\n",
    "    archive = zp.ZipFile(zip_path)\n",
    "    file_list = archive.filelist\n",
    "    os.makedirs(r\"/wadhwani_kdss/c_drive/Users/user/abhijeeth/data\", exist_ok=True)\n",
    "    for file in file_list:\n",
    "        file_zip_path = file.filename\n",
    "        name_wt_ext = file.filename.split('/')[-1]\n",
    "        name, ext, size = name_wt_ext.split('.')[0], name_wt_ext.split('.')[-1], file.file_size\n",
    "    \n",
    "        if ext in ['shp', 'dbf','shx','SHX']:\n",
    "            if '/' not in file_zip_path:\n",
    "                archive.extract(file, r\"/wadhwani_kdss/c_drive/Users/user/abhijeeth/data\")\n",
    "            else:\n",
    "                shpfile_folder_path = '/'.join(file_zip_path.split('/')[:-1]) + '/'\n",
    "                if file_zip_path.startswith(shpfile_folder_path):\n",
    "                    archive.extract(file, r\"/wadhwani_kdss/c_drive/Users/user/abhijeeth/data\")\n",
    "    temp_dir ='/wadhwani_kdss/c_drive/Users/user/abhijeeth/data/shape'\n",
    "    shp_file = [filename for filename in os.listdir(temp_dir) if filename.endswith('.shp')][0]\n",
    "    print(shp_file)\n",
    "    result = process_shapefile(temp_dir+\"/\"+shp_file)\n",
    "    if result is not None:results.append(result)\n",
    "    shutil.rmtree(r'/wadhwani_kdss/c_drive/Users/user/abhijeeth/data',ignore_errors=True)\n"
   ]
  },
  {
   "cell_type": "code",
   "execution_count": 6,
   "id": "75ad685a-e5c7-4323-808b-14379b916b3b",
   "metadata": {},
   "outputs": [
    {
     "name": "stdout",
     "output_type": "stream",
     "text": [
      "2023/Andhra Pradesh/AP_01April_8May23/BhuvanFASAL2023050945201.zip\n"
     ]
    },
    {
     "name": "stdin",
     "output_type": "stream",
     "text": [
      "continue or skip c\n"
     ]
    },
    {
     "name": "stdout",
     "output_type": "stream",
     "text": [
      "BhuvanFASAL2023050945201.shp\n",
      "Available attributes: ['sid', 'date_time', 'apptype', 'photo1', 'photo2', 'rojectname', 'themename', 'rofilename', 'servername', 'org', 'mobileno', 'eationtime', 'uuid', 'deviceid', 'ictvillage', 'ieldsiteid', 'typeofcrop', 'fcropfield', 'rowthstage', 'hcondition', 'eronground', 'ropvariety', 'teofsowing', 'opsinfield', 'lcondition', 'herremarks', 'photos', 'photostext', 'geometry']\n",
      "Unique values in selected column: ['Cowpea' 'Green gram' 'Blackgram' 'Greengram' nan 'BLACKGRAM' 'GREENGRAM'\n",
      " 'PADDY' 'Polse blackgram' 'Pulse blackgram' 'Greens gram' 'Black gram'\n",
      " 'Paddy']\n"
     ]
    },
    {
     "name": "stdin",
     "output_type": "stream",
     "text": [
      "Enter comma-separated unique values (or leave empty for all):  \n"
     ]
    },
    {
     "name": "stdout",
     "output_type": "stream",
     "text": [
      "2023/Andhra Pradesh/AP_01FEB23_28FEB23/BhuvanFASAL2023030243231.zip\n"
     ]
    },
    {
     "name": "stdin",
     "output_type": "stream",
     "text": [
      "continue or skip c\n"
     ]
    },
    {
     "name": "stdout",
     "output_type": "stream",
     "text": [
      "BhuvanFASAL2023030243231.shp\n",
      "Available attributes: ['sid', 'date_time', 'apptype', 'photo1', 'photo2', 'rojectname', 'themename', 'rofilename', 'servername', 'org', 'mobileno', 'eationtime', 'uuid', 'deviceid', 'ictvillage', 'ieldsiteid', 'typeofcrop', 'fcropfield', 'rowthstage', 'hcondition', 'eronground', 'ropvariety', 'teofsowing', 'opsinfield', 'lcondition', 'herremarks', 'photos', 'photostext', 'geometry']\n",
      "Unique values in selected column: ['Maiz' 'Tobacco' 'Banana' 'Rice' 'Mize' 'Sugercane' 'Maize'\n",
      " '20230206-002' 'Tobaco' 'Tobbaco' 'Sugarcane' 'Paddy' 'Chilly plant'\n",
      " 'Cotton' 'Animal fodder' 'Grass' nan 'Sunflower' 'MaiE' 'Guava']\n"
     ]
    },
    {
     "name": "stdin",
     "output_type": "stream",
     "text": [
      "Enter comma-separated unique values (or leave empty for all):  \n"
     ]
    },
    {
     "name": "stdout",
     "output_type": "stream",
     "text": [
      "2023/Andhra Pradesh/AP_01MAR23_31MAR23/BhuvanFASAL2023041045744.zip\n"
     ]
    },
    {
     "name": "stdin",
     "output_type": "stream",
     "text": [
      "continue or skip c\n"
     ]
    },
    {
     "name": "stdout",
     "output_type": "stream",
     "text": [
      "BhuvanFASAL2023041045744.shp\n",
      "Available attributes: ['sid', 'date_time', 'apptype', 'photo1', 'photo2', 'rojectname', 'themename', 'rofilename', 'servername', 'org', 'mobileno', 'eationtime', 'uuid', 'deviceid', 'ictvillage', 'ieldsiteid', 'typeofcrop', 'fcropfield', 'rowthstage', 'hcondition', 'eronground', 'ropvariety', 'teofsowing', 'opsinfield', 'lcondition', 'herremarks', 'photos', 'photostext', 'geometry']\n",
      "Unique values in selected column: ['BLACK GRAM' 'RABI BLACKGRAM' 'BLACKGRAM' 'GREENGRAM' 'Blackgram'\n",
      " 'Greengram' 'RBI GREENGRAM' 'RABI BLACK GRAM' 'Green gram'\n",
      " 'Rabi Blackgram' 'PADDY' 'Sugarcane' 'Maize' 'Red Chilli' 'Pulse'\n",
      " 'Sunflower' 'Redchilli' 'RABI PADDY' '20230323-023' 'Red chilli' 'Paddy'\n",
      " 'BENGALGRAM' 'Mirchi' nan 'Sugar cane' '20230327-006' 'Horse gram'\n",
      " 'Black gram' 'Banana' 'Black gram pulse' 'Cowpea' 'COWPEA' 'Red gram'\n",
      " 'Black gram Pulse' 'Purse blackgram' 'Pulse blackgram' 'Pulse black gram'\n",
      " 'Pulse Blackgram']\n"
     ]
    },
    {
     "name": "stdin",
     "output_type": "stream",
     "text": [
      "Enter comma-separated unique values (or leave empty for all):  \n"
     ]
    },
    {
     "name": "stdout",
     "output_type": "stream",
     "text": [
      "2023/Assam/1Jan_28Jun/BhuvanFASAL20230628121125.zip\n"
     ]
    },
    {
     "name": "stdin",
     "output_type": "stream",
     "text": [
      "continue or skip c\n"
     ]
    },
    {
     "name": "stdout",
     "output_type": "stream",
     "text": [
      "BhuvanFASAL20230628121125.shp\n",
      "Available attributes: ['sid', 'date_time', 'apptype', 'photo1', 'photo2', 'rojectname', 'themename', 'rofilename', 'servername', 'org', 'mobileno', 'eationtime', 'uuid', 'deviceid', 'ictvillage', 'ieldsiteid', 'typeofcrop', 'fcropfield', 'rowthstage', 'hcondition', 'eronground', 'ropvariety', 'teofsowing', 'opsinfield', 'lcondition', 'herremarks', 'photos', 'photostext', 'geometry']\n",
      "Unique values in selected column: ['Jute' nan 'jute' 'JUTE']\n"
     ]
    },
    {
     "name": "stdin",
     "output_type": "stream",
     "text": [
      "Enter comma-separated unique values (or leave empty for all):  \n"
     ]
    },
    {
     "name": "stdout",
     "output_type": "stream",
     "text": [
      "2023/Assam/1June_9Aug2023/BhuvanFASAL2023080974711.zip\n"
     ]
    },
    {
     "name": "stdin",
     "output_type": "stream",
     "text": [
      "continue or skip c\n"
     ]
    },
    {
     "name": "stdout",
     "output_type": "stream",
     "text": [
      "BhuvanFASAL2023080974711.shp\n",
      "Available attributes: ['sid', 'date_time', 'apptype', 'photo1', 'photo2', 'rojectname', 'themename', 'rofilename', 'servername', 'org', 'mobileno', 'eationtime', 'uuid', 'deviceid', 'ictvillage', 'ieldsiteid', 'typeofcrop', 'fcropfield', 'rowthstage', 'hcondition', 'eronground', 'ropvariety', 'teofsowing', 'opsinfield', 'lcondition', 'herremarks', 'photos', 'photostext', 'geometry']\n",
      "Unique values in selected column: ['Jute' nan 'jute' 'JUTE' 'Maize' 'Tea' 'Flood water' 'Areca nut'\n",
      " 'Fallow land' 'Nil' 'Fallow land covered with grass' 'Paddy seadbed'\n",
      " 'Okara - ladies finger' 'Khyati' 'Dhencha' 'Brinjal' 'Sugarcane'\n",
      " 'Fallow land prepared for paddy transplantation' 'Paddy' 'Paddy nursery'\n",
      " 'Jutr']\n"
     ]
    },
    {
     "name": "stdin",
     "output_type": "stream",
     "text": [
      "Enter comma-separated unique values (or leave empty for all):  \n"
     ]
    },
    {
     "name": "stdout",
     "output_type": "stream",
     "text": [
      "2023/Bihar/1June_9Aug2023/BhuvanFASAL2023080974854.zip\n"
     ]
    },
    {
     "name": "stdin",
     "output_type": "stream",
     "text": [
      "continue or skip s\n"
     ]
    },
    {
     "name": "stdout",
     "output_type": "stream",
     "text": [
      "2023/Bihar/BH_01FEB23_28FEB23/BhuvanFASAL2023030243628.zip\n"
     ]
    },
    {
     "name": "stdin",
     "output_type": "stream",
     "text": [
      "continue or skip c\n"
     ]
    },
    {
     "name": "stdout",
     "output_type": "stream",
     "text": [
      "BhuvanFASAL2023030243628.shp\n",
      "Available attributes: ['sid', 'date_time', 'apptype', 'photo1', 'photo2', 'rojectname', 'themename', 'rofilename', 'servername', 'org', 'mobileno', 'eationtime', 'uuid', 'deviceid', 'ictvillage', 'ieldsiteid', 'typeofcrop', 'fcropfield', 'rowthstage', 'hcondition', 'eronground', 'ropvariety', 'teofsowing', 'opsinfield', 'lcondition', 'herremarks', 'photos', 'photostext', 'geometry']\n",
      "Unique values in selected column: ['Hyb shree ram' 'Hyb Pioneer' 'Mustard' 'Hyb Shree ram' 'Hyb RH30'\n",
      " 'Wheat']\n"
     ]
    },
    {
     "name": "stdin",
     "output_type": "stream",
     "text": [
      "Enter comma-separated unique values (or leave empty for all):  Mustard\n"
     ]
    },
    {
     "name": "stdout",
     "output_type": "stream",
     "text": [
      "2023/Chhattisgarh/1June_9Aug2023/BhuvanFASAL2023080975821.zip\n"
     ]
    },
    {
     "name": "stdin",
     "output_type": "stream",
     "text": [
      "continue or skip s\n"
     ]
    },
    {
     "name": "stdout",
     "output_type": "stream",
     "text": [
      "2023/Chhattisgarh/CG_01FEB23_28FEB23/BhuvanFASAL2023030243831.zip\n"
     ]
    },
    {
     "name": "stdin",
     "output_type": "stream",
     "text": [
      "continue or skip c\n"
     ]
    },
    {
     "name": "stdout",
     "output_type": "stream",
     "text": [
      "BhuvanFASAL2023030243831.shp\n",
      "Available attributes: ['sid', 'date_time', 'apptype', 'photo1', 'photo2', 'rojectname', 'themename', 'rofilename', 'servername', 'org', 'mobileno', 'eationtime', 'uuid', 'deviceid', 'ictvillage', 'ieldsiteid', 'typeofcrop', 'fcropfield', 'rowthstage', 'hcondition', 'eronground', 'ropvariety', 'teofsowing', 'opsinfield', 'lcondition', 'herremarks', 'photos', 'photostext', 'geometry']\n",
      "Unique values in selected column: ['Rice Paddy' 'Wheat' 'Gram' 'Tomato and cauliflower' 'Rice paddy'\n",
      " 'Musterd' 'Sugarcane' 'Pea' 'Gram and musterd' 'Mustard' 'Tomato'\n",
      " 'Bengal Gram' 'Bengal gram']\n"
     ]
    },
    {
     "name": "stdin",
     "output_type": "stream",
     "text": [
      "Enter comma-separated unique values (or leave empty for all):  Musterd,Mustard\n"
     ]
    },
    {
     "name": "stdout",
     "output_type": "stream",
     "text": [
      "2023/Gujarat/GJ_01FEB23_28FEB23/BhuvanFASAL2023030244156.zip\n"
     ]
    },
    {
     "name": "stdin",
     "output_type": "stream",
     "text": [
      "continue or skip c\n"
     ]
    },
    {
     "name": "stdout",
     "output_type": "stream",
     "text": [
      "BhuvanFASAL2023030244156.shp\n",
      "Available attributes: ['sid', 'date_time', 'apptype', 'photo1', 'photo2', 'rojectname', 'themename', 'rofilename', 'servername', 'org', 'mobileno', 'eationtime', 'uuid', 'deviceid', 'ictvillage', 'ieldsiteid', 'typeofcrop', 'fcropfield', 'rowthstage', 'hcondition', 'eronground', 'ropvariety', 'teofsowing', 'opsinfield', 'lcondition', 'herremarks', 'photos', 'photostext', 'geometry']\n",
      "Unique values in selected column: [nan 'WHEAT' 'Wheat' 'Wit' 'wheat' 'Whaet' 'Whait' 'Tobacco' 'Whet'\n",
      " 'Kharif Tobacco' 'TOBACCO']\n"
     ]
    },
    {
     "name": "stdin",
     "output_type": "stream",
     "text": [
      "Enter comma-separated unique values (or leave empty for all):  \n"
     ]
    },
    {
     "name": "stdout",
     "output_type": "stream",
     "text": [
      "2023/Gujarat/GJ_01JAN23_30APR23/BhuvanFASAL2023050860041.zip\n"
     ]
    },
    {
     "name": "stdin",
     "output_type": "stream",
     "text": [
      "continue or skip c\n"
     ]
    },
    {
     "name": "stdout",
     "output_type": "stream",
     "text": [
      "BhuvanFASAL2023050860041.shp\n",
      "Available attributes: ['sid', 'date_time', 'apptype', 'photo1', 'photo2', 'rojectname', 'themename', 'rofilename', 'servername', 'org', 'mobileno', 'eationtime', 'uuid', 'deviceid', 'ictvillage', 'ieldsiteid', 'typeofcrop', 'fcropfield', 'rowthstage', 'hcondition', 'eronground', 'ropvariety', 'teofsowing', 'opsinfield', 'lcondition', 'herremarks', 'photos', 'photostext', 'geometry']\n",
      "Unique values in selected column: ['Castor' 'WHEAT' 'MUSTARD' 'MUSATRD' 'Mustard' 'Mustarf' 'Mustrad' 'GRAM'\n",
      " 'Gram' 'Wheat' 'CORIANDER' 'Coriander' 'Chickpeas' 'CHICKPEA'\n",
      " 'Wheat (CCE)' 'wheat' 'Potato' 'Cauliflower' nan 'What' 'Wheet' 'Weat'\n",
      " 'Ghau' 'Whet' 'Whear' 'WHeat' 'Wit' 'Whaet' 'Whait' 'Tobacco'\n",
      " 'Kharif Tobacco' 'TOBACCO']\n"
     ]
    },
    {
     "name": "stdin",
     "output_type": "stream",
     "text": [
      "Enter comma-separated unique values (or leave empty for all):  MUSTARD,MUSATRD,Mustard,Mustarf,Mustrad\n"
     ]
    },
    {
     "name": "stdout",
     "output_type": "stream",
     "text": [
      "2023/Haryana/1June_9Aug2023/BhuvanFASAL2023080981014.zip\n"
     ]
    },
    {
     "name": "stdin",
     "output_type": "stream",
     "text": [
      "continue or skip s\n"
     ]
    },
    {
     "name": "stdout",
     "output_type": "stream",
     "text": [
      "2023/Haryana/1Mar_30June/BhuvanFASAL2023072671602.zip\n"
     ]
    },
    {
     "name": "stdin",
     "output_type": "stream",
     "text": [
      "continue or skip c\n"
     ]
    },
    {
     "name": "stdout",
     "output_type": "stream",
     "text": [
      "BhuvanFASAL2023072671602.shp\n",
      "Available attributes: ['sid', 'date_time', 'apptype', 'photo1', 'photo2', 'rojectname', 'themename', 'rofilename', 'servername', 'org', 'mobileno', 'eationtime', 'uuid', 'deviceid', 'ictvillage', 'ieldsiteid', 'typeofcrop', 'fcropfield', 'rowthstage', 'hcondition', 'eronground', 'ropvariety', 'teofsowing', 'opsinfield', 'lcondition', 'herremarks', 'photos', 'photostext', 'geometry']\n",
      "Unique values in selected column: ['Wheat' 'Mustard' 'No']\n"
     ]
    },
    {
     "name": "stdin",
     "output_type": "stream",
     "text": [
      "Enter comma-separated unique values (or leave empty for all):  Mustard\n"
     ]
    },
    {
     "name": "stdout",
     "output_type": "stream",
     "text": [
      "2023/Haryana/HR_01FEB23_28FEB23/BhuvanFASAL2023030244404.zip\n"
     ]
    },
    {
     "name": "stdin",
     "output_type": "stream",
     "text": [
      "continue or skip c\n"
     ]
    },
    {
     "name": "stdout",
     "output_type": "stream",
     "text": [
      "BhuvanFASAL2023030244404.shp\n",
      "Available attributes: ['sid', 'date_time', 'apptype', 'photo1', 'photo2', 'rojectname', 'themename', 'rofilename', 'servername', 'org', 'mobileno', 'eationtime', 'uuid', 'deviceid', 'ictvillage', 'ieldsiteid', 'typeofcrop', 'fcropfield', 'rowthstage', 'hcondition', 'eronground', 'ropvariety', 'teofsowing', 'opsinfield', 'lcondition', 'herremarks', 'photos', 'photostext', 'geometry']\n",
      "Unique values in selected column: ['Wheat' 'Mustard' 'Fellow land' 'Pea' 'Musterd' 'Musturd' 'Weat'\n",
      " 'Mustred' 'Mursted' nan 'Jau' 'Wheat 1st' '20230207-1.1' 'Sugarcane'\n",
      " '2967' 'Mustard plot 1' 'Wheat plot 1' 'Mustrad' 'WHeat' 'mustard'\n",
      " 'wheat']\n"
     ]
    },
    {
     "name": "stdin",
     "output_type": "stream",
     "text": [
      "Enter comma-separated unique values (or leave empty for all):  Mustard,Musterd,Musturd,Mustard plot 1,mustard\n"
     ]
    },
    {
     "name": "stdout",
     "output_type": "stream",
     "text": [
      "2023/Haryana/HR_01JAN23_31JAN23/BhuvanFASAL2023021354112.zip\n"
     ]
    },
    {
     "name": "stdin",
     "output_type": "stream",
     "text": [
      "continue or skip c\n"
     ]
    },
    {
     "name": "stdout",
     "output_type": "stream",
     "text": [
      "BhuvanFASAL2023021354112.shp\n",
      "Available attributes: ['sid', 'date_time', 'apptype', 'photo1', 'photo2', 'rojectname', 'themename', 'rofilename', 'servername', 'org', 'mobileno', 'eationtime', 'uuid', 'deviceid', 'ictvillage', 'ieldsiteid', 'typeofcrop', 'fcropfield', 'rowthstage', 'hcondition', 'eronground', 'ropvariety', 'teofsowing', 'opsinfield', 'lcondition', 'herremarks', 'photos', 'photostext', 'geometry']\n",
      "Unique values in selected column: ['Mustard' nan 'Wheat' 'mustred' 'mystres' 'mustrr' 'mystred' 'wheat'\n",
      " 'Rewari' 'Musted' 'Mustered' 'Sarson' '20230116' 'Musterd' 'No' 'Wheate'\n",
      " '20230120' 'Mustarf' 'Mutard' 'Mustrd' 'Musturd' 'Mustrad' 'Whaet']\n"
     ]
    },
    {
     "name": "stdin",
     "output_type": "stream",
     "text": [
      "Enter comma-separated unique values (or leave empty for all):  mustred,Mustrr,mystred,Musted,Mustered,Musterd,Mustarf,Mutard,Mustrd,Musturd,Mustrad\n"
     ]
    },
    {
     "name": "stdout",
     "output_type": "stream",
     "text": [
      "2023/Haryana/Haryana GT  1July-4Aug23/BhuvanFASAL2023080493006.zip\n"
     ]
    },
    {
     "name": "stdin",
     "output_type": "stream",
     "text": [
      "continue or skip s\n"
     ]
    },
    {
     "name": "stdout",
     "output_type": "stream",
     "text": [
      "2023/Jharkhand/1June_9Aug2023/BhuvanFASAL2023080981511.zip\n"
     ]
    },
    {
     "name": "stdin",
     "output_type": "stream",
     "text": [
      "continue or skip s\n"
     ]
    },
    {
     "name": "stdout",
     "output_type": "stream",
     "text": [
      "2023/Jharkhand/JH_01FEB23_28FEB23/BhuvanFASAL2023030342842.zip\n"
     ]
    },
    {
     "name": "stdin",
     "output_type": "stream",
     "text": [
      "continue or skip c\n"
     ]
    },
    {
     "name": "stdout",
     "output_type": "stream",
     "text": [
      "BhuvanFASAL2023030342842.shp\n",
      "Available attributes: ['sid', 'date_time', 'apptype', 'photo1', 'photo2', 'rojectname', 'themename', 'rofilename', 'servername', 'org', 'mobileno', 'eationtime', 'uuid', 'deviceid', 'ictvillage', 'ieldsiteid', 'typeofcrop', 'fcropfield', 'rowthstage', 'hcondition', 'eronground', 'ropvariety', 'teofsowing', 'opsinfield', 'lcondition', 'herremarks', 'photos', 'photostext', 'geometry']\n",
      "Unique values in selected column: ['Arhar' 'Kharif Arhar' 'Kharif arhar' 'Khriph arhar' nan]\n"
     ]
    },
    {
     "name": "stdin",
     "output_type": "stream",
     "text": [
      "Enter comma-separated unique values (or leave empty for all):  \n"
     ]
    },
    {
     "name": "stdout",
     "output_type": "stream",
     "text": [
      "2023/Karnataka/KR_01FEB23_28FEB23/BhuvanFASAL2023030645310.zip\n"
     ]
    },
    {
     "name": "stdin",
     "output_type": "stream",
     "text": [
      "continue or skip c\n"
     ]
    },
    {
     "name": "stdout",
     "output_type": "stream",
     "text": [
      "BhuvanFASAL2023030645310.shp\n",
      "Available attributes: ['sid', 'date_time', 'apptype', 'photo1', 'photo2', 'rojectname', 'themename', 'rofilename', 'servername', 'org', 'mobileno', 'eationtime', 'uuid', 'deviceid', 'ictvillage', 'ieldsiteid', 'typeofcrop', 'fcropfield', 'rowthstage', 'hcondition', 'eronground', 'ropvariety', 'teofsowing', 'opsinfield', 'lcondition', 'herremarks', 'photos', 'photostext', 'geometry']\n",
      "Unique values in selected column: ['Wheat' 'Jowar' 'Maize' 'Rice' 'Groundnut' 'Whet' 'Sugarcane' nan\n",
      " 'Ground nut' 'Cotton' 'Jowari' 'Chickpea' 'Mustard' 'Peanut' 'Millets'\n",
      " 'Maize corn' 'Soyabeen' 'Sorghum' 'Sorgum' 'Pearl millet' 'Jower'\n",
      " 'Sargam' 'Sarghum' 'Sunflower' 'Bangal gram' '300' 'Sugar cane'\n",
      " 'Bengal gram' 'Joway' 'Turmeric' 'Local' 'Wheay' 'Average' 'Sourgam'\n",
      " 'Whate' 'Jawar' 'Meize' 'Sargahum' 'Maze' 'Suger cane' 'Sugarcen' 'Vitta'\n",
      " 'Maize make' 'Vita' 'Meza' 'Sugercan' 'Sugercane' 'Sugercena' 'Vetta'\n",
      " 'Wheeta' 'Tomato' 'wheat' 'Bengalgram' 'Wheet' 'Jewar' 'Susrcane'\n",
      " 'Grondnut' 'Bangalgram' 'Soybean' 'maize' 'jower' 'bengal garm' 'jowar'\n",
      " 'jowra' '20230209-726' '2023 2 9' 'Green chilli' 'Shugar' 'Chilli'\n",
      " 'Surghum' '20230217-4' 'Supplover' 'Jawari' 'Grapes' 'Greps' 'SugarCar'\n",
      " 'Sugar care' 'Whito' 'Whiot' 'SugarCan' 'Whita' 'Wheti' 'Sugar'\n",
      " '2023.02.20' 'Whtio' 'Sourghum' 'Brinjal' 'Whote' 'Pdda' 'Jowr'\n",
      " 'Sorguhum' 'Whoter']\n"
     ]
    },
    {
     "name": "stdin",
     "output_type": "stream",
     "text": [
      "Enter comma-separated unique values (or leave empty for all):  Mustard\n"
     ]
    },
    {
     "name": "stdout",
     "output_type": "stream",
     "text": [
      "2023/Karnataka/KR_01JAN23_31JAN23/BhuvanFASAL2023021360349.zip\n"
     ]
    },
    {
     "name": "stdin",
     "output_type": "stream",
     "text": [
      "continue or skip c\n"
     ]
    },
    {
     "name": "stdout",
     "output_type": "stream",
     "text": [
      "BhuvanFASAL2023021360349.shp\n",
      "Available attributes: ['sid', 'date_time', 'apptype', 'photo1', 'photo2', 'rojectname', 'themename', 'rofilename', 'servername', 'org', 'mobileno', 'eationtime', 'uuid', 'deviceid', 'ictvillage', 'ieldsiteid', 'typeofcrop', 'fcropfield', 'rowthstage', 'hcondition', 'eronground', 'ropvariety', 'teofsowing', 'opsinfield', 'lcondition', 'herremarks', 'photos', 'photostext', 'geometry']\n",
      "Unique values in selected column: ['Hybrid' 'Hyabid' 'Local' 'Paddy' 'Jower' 'Chana' 'White' 'maize' 'Onion'\n",
      " 'Sugarcane' 'Wheat' 'Jowar' 'Maize' 'Bengal gram' 'Groundnut'\n",
      " 'Local jovar' 'Jovar local' 'Local bengalgrm' 'What' 'Jovara local'\n",
      " 'Bengalrm' 'Bengalgrm' 'Maize local' 'Zowar' 'Zowra' 'Bengal ghram'\n",
      " 'Bengal gharam' 'zowar' 'Groundnuts' 'Pomegranate' 'Paady' 'Banana'\n",
      " 'paddy' 'Sunplower' 'Mazie' 'Zowara' 'Bajra' nan 'Cotton' 'Sorghum'\n",
      " 'Chilli' 'Castor' 'Sasve' 'Mustard' 'Gram' 'Jawar' 'Green gram'\n",
      " 'Ground nut' 'Corn' 'Tommato' 'Cowpea' 'Bajara' 'Papaya' 'Castrol oil'\n",
      " 'Joear' 'Soyabean' 'Loc6' 'Sunflower' 'Jowat' 'Bengalgram' 'Meze'\n",
      " 'Bangal gram']\n"
     ]
    },
    {
     "name": "stdin",
     "output_type": "stream",
     "text": [
      "Enter comma-separated unique values (or leave empty for all):  Mustard\n"
     ]
    },
    {
     "name": "stdout",
     "output_type": "stream",
     "text": [
      "2023/MadhyaPradesh/1June_9Aug2023/BhuvanFASAL2023080982805.zip\n"
     ]
    },
    {
     "name": "stdin",
     "output_type": "stream",
     "text": [
      "continue or skip s\n"
     ]
    },
    {
     "name": "stdout",
     "output_type": "stream",
     "text": [
      "2023/MadhyaPradesh/MP_01JAN23_31JAN23/BhuvanFASAL2023021550854.zip\n"
     ]
    },
    {
     "name": "stdin",
     "output_type": "stream",
     "text": [
      "continue or skip c\n"
     ]
    },
    {
     "name": "stdout",
     "output_type": "stream",
     "text": [
      "BhuvanFASAL2023021550854.shp\n",
      "Available attributes: ['sid', 'date_time', 'apptype', 'photo1', 'photo2', 'rojectname', 'themename', 'rofilename', 'servername', 'org', 'mobileno', 'eationtime', 'uuid', 'deviceid', 'ictvillage', 'ieldsiteid', 'typeofcrop', 'fcropfield', 'rowthstage', 'hcondition', 'eronground', 'ropvariety', 'teofsowing', 'opsinfield', 'lcondition', 'herremarks', 'photos', 'photostext', 'geometry']\n",
      "Unique values in selected column: ['Gram' 'Wheat' 'Gram chana' 'Lentil (masoor)' 'Lentil(masoor)' 'Mustard'\n",
      " 'Lentil masur' 'No' 'Bhet' 'Musterd' 'Hybrid' nan 'Masturd' 'Mustrad'\n",
      " 'Wheet' 'Masur' 'GRAM' 'Beat' 'With' 'Whet' 'Gran' 'White' 'Chana'\n",
      " 'Lantil' 'Masoor' 'Lentils' 'Tiora' 'Pea' 'Onion' 'Whewt' 'Sarso' 'Alsi'\n",
      " 'Coriander' 'Musturd' 'Linseed' 'Sugarcane' 'Maize' 'Dhaniya' 'Gr'\n",
      " 'Potato' 'Gobi' '20230128-3' 'Peanut' 'Makka' 'Chilly' 'Bangalgram'\n",
      " 'Arhar' 'Garlic' 'Ready to next crops' 'Blank' 'Coliflower' 'Turmeric'\n",
      " 'Masor' 'Banana' 'Demo' 'Kapas' 'Fallow land' 'Garrlic' '20230130-32'\n",
      " 'Watermalon' 'Bengal Gram' 'Tomato' 'Sarso harvested' 'Lentil' 'Garam'\n",
      " 'Wheat hills' 'Fellow land' 'Jai']\n"
     ]
    },
    {
     "name": "stdin",
     "output_type": "stream",
     "text": [
      "Enter comma-separated unique values (or leave empty for all):  Mustard,Musterd,Masturd,Mustrad,Musturd\n"
     ]
    },
    {
     "name": "stdout",
     "output_type": "stream",
     "text": [
      "2023/MadhyaPradesh/MP_20JAN23_04FEB23/BhuvanFASAL20230204113509.zip\n"
     ]
    },
    {
     "name": "stdin",
     "output_type": "stream",
     "text": [
      "continue or skip c\n"
     ]
    },
    {
     "name": "stdout",
     "output_type": "stream",
     "text": [
      "BhuvanFASAL20230204113509.shp\n",
      "Available attributes: ['sid', 'date_time', 'apptype', 'photo1', 'photo2', 'rojectname', 'themename', 'rofilename', 'servername', 'org', 'mobileno', 'eationtime', 'uuid', 'deviceid', 'ictvillage', 'ieldsiteid', 'typeofcrop', 'fcropfield', 'rowthstage', 'hcondition', 'eronground', 'ropvariety', 'teofsowing', 'opsinfield', 'lcondition', 'herremarks', 'photos', 'photostext', 'geometry']\n",
      "Unique values in selected column: ['Mustard' 'Gram' 'Wheat' 'Wheet' 'Masur' 'Mustrad' nan 'GRAM' 'Beat'\n",
      " 'With' 'Lentil masur' 'Whet' 'Hybrid' 'Gran' 'White' 'Chana' 'Lantil'\n",
      " 'Masoor' 'Lentils' 'Tiora' 'Pea' 'Onion' 'Whewt' 'Sarso' 'Alsi'\n",
      " 'Coriander' 'Musturd' 'Linseed' 'Sugarcane' 'Maize' 'Dhaniya' 'Gr'\n",
      " 'Potato' 'Gobi' '20230128-3' 'Peanut' 'Makka' 'Chilly' 'Bangalgram'\n",
      " 'Arhar' 'Garlic' 'Ready to next crops' 'Blank' 'Coliflower' 'Turmeric'\n",
      " 'Masor' 'Banana' 'Demo' 'Kapas' 'Fallow land' 'Garrlic' '20230130-32'\n",
      " 'Watermalon' 'Bengal Gram' 'Tomato' 'Sarso harvested' 'Lentil' 'Garam'\n",
      " 'Wheat hills' 'Fellow land' 'Jai' 'Paddy' 'Wheat (jait)' 'Papaya'\n",
      " 'Tomatoes' 'Fallow' 'Pea and wheat' 'Chickpea' 'Onion garlic' 'Carrat'\n",
      " 'Patato' 'Cauliflower' 'Harvested' 'Gingar' 'Carrot' 'Oinion' 'Sugarcan'\n",
      " 'Bangal gram' 'gram']\n"
     ]
    },
    {
     "name": "stdin",
     "output_type": "stream",
     "text": [
      "Enter comma-separated unique values (or leave empty for all):  Mustrad,Musturd\n"
     ]
    },
    {
     "name": "stdout",
     "output_type": "stream",
     "text": [
      "2023/Maharashtra/MH_01JAN23_31JAN23/BhuvanFASAL2023030964308.zip\n"
     ]
    },
    {
     "name": "stdin",
     "output_type": "stream",
     "text": [
      "continue or skip c\n"
     ]
    },
    {
     "name": "stdout",
     "output_type": "stream",
     "text": [
      "BhuvanFASAL2023030964308.shp\n",
      "Available attributes: ['sid', 'date_time', 'apptype', 'photo1', 'photo2', 'rojectname', 'themename', 'rofilename', 'servername', 'org', 'mobileno', 'eationtime', 'uuid', 'deviceid', 'ictvillage', 'ieldsiteid', 'typeofcrop', 'fcropfield', 'rowthstage', 'hcondition', 'eronground', 'ropvariety', 'teofsowing', 'opsinfield', 'lcondition', 'herremarks', 'photos', 'photostext', 'geometry']\n",
      "Unique values in selected column: ['Gram' 'Bengal Gram' 'R jwari' 'Jwar' 'Harbhara' 'Jowar' 'Jawari'\n",
      " 'Rabbi jowar' 'Rabbi Jwari' 'jowar' nan 'Jawar' 'Rabbi jawar'\n",
      " 'Rabi Jowar' 'Rabbi Jowar' 'Pulse' 'Jawar land cover' 'Gram covered'\n",
      " 'Seasonal' 'Rabbi jawari' 'R.Jawar' 'R Jawar' 'Rabbi Jawar'\n",
      " 'Rabi sorghum' 'Sugarcane ratoon' 'Sugarcane suru' 'Pigeonpea(red gram)'\n",
      " 'Pigeon pea (redgram)' 'Sugarcane adsali' 'GRam' 'Pulses Gram'\n",
      " 'Pigeon pea(redgram)' 'Pigeonpea(redgram)' 'Sugarcane' 'Rose' 'Jowari'\n",
      " 'Garm' 'Bengal gram' 'Jawar coverd' 'Rabi jowar' 'Rabbi jwari'\n",
      " 'Rabbi Crop Jowar' 'Jvar' 'Sourgam' 'Sourgame' 'Rabbi Crop Gram' 'Tur'\n",
      " 'Rabi  Jowar' 'Kharif crop' 'Pulses' 'Rabbi jowar(sorghum)' 'Jawor'\n",
      " 'Sugarken' 'Rabi cereals' 'Sorghum' 'Bengal' 'Monocropping' 'Chana'\n",
      " 'Tur pigeon pea' 'Wheat' 'Maize' 'Annual Rabbi Jowar' 'Cotton' 'Nowar'\n",
      " 'O.40 ha Gram(Harbhara)' '0.40 Gram' 'Begal gram' 'Cereals Rabbi Jowar'\n",
      " 'Sorghum Jawar' 'Garam' 'Chick pea (Gram)' 'Chick pea' 'RABBI JOWAR'\n",
      " 'Rabbi' 'Weat' 'Onion' 'Tomato' 'Pulse ( Gram )' 'Chickpea' 'What' 'Gam'\n",
      " 'Bengalgram' 'Maiza' 'BengalGram' 'WHEAT' 'BENGAL GRAM' 'BENGALGRAM'\n",
      " 'ONION SEED' 'Irrigation' 'JAKI' 'Local' 'Oni' 'GRAM' 'Jowar sorghum'\n",
      " 'Sole' 'Javar' 'Pulses gram' 'Maka' 'BBENGAL GRAM' 'Gehu' 'Gran'\n",
      " 'Rabi jwari' 'Gahu' 'gram' 'jawar' 'Harabara' 'Grampulses' 'BENGAL Gram'\n",
      " 'Jewr' 'Rabbi jawar solo' 'Sugar ken' 'Rabbi gram solo' 'Kardaie'\n",
      " 'Rabbi Jawar solo' 'Rabbi jower' 'Mainz' 'Grapes' 'Bengel gram' 'Paddy'\n",
      " 'Jowae' 'Whet' 'Cereals' 'Mize' 'Makka' 'Ginger' 'Bajra' 'Meize'\n",
      " '20230129' 'Bingalgram' 'Wheet' 'Ukali']\n"
     ]
    },
    {
     "name": "stdin",
     "output_type": "stream",
     "text": [
      "Enter comma-separated unique values (or leave empty for all):  \n"
     ]
    },
    {
     "name": "stdout",
     "output_type": "stream",
     "text": [
      "2023/Odisha/1Jan_30April/BhuvanFASAL20230525114911.zip\n"
     ]
    },
    {
     "name": "stdin",
     "output_type": "stream",
     "text": [
      "continue or skip c\n"
     ]
    },
    {
     "name": "stdout",
     "output_type": "stream",
     "text": [
      "BhuvanFASAL20230525114911.shp\n",
      "Available attributes: ['sid', 'date_time', 'apptype', 'photo1', 'photo2', 'rojectname', 'themename', 'rofilename', 'servername', 'org', 'mobileno', 'eationtime', 'uuid', 'deviceid', 'ictvillage', 'ieldsiteid', 'typeofcrop', 'fcropfield', 'rowthstage', 'hcondition', 'eronground', 'ropvariety', 'teofsowing', 'opsinfield', 'lcondition', 'herremarks', 'photos', 'photostext', 'geometry']\n",
      "Unique values in selected column: ['Mustard']\n"
     ]
    },
    {
     "name": "stdin",
     "output_type": "stream",
     "text": [
      "Enter comma-separated unique values (or leave empty for all):  Mustard\n"
     ]
    },
    {
     "name": "stdout",
     "output_type": "stream",
     "text": [
      "2023/Punjab/1Jan_30April/BhuvanFASAL2023052650720.zip\n"
     ]
    },
    {
     "name": "stdin",
     "output_type": "stream",
     "text": [
      "continue or skip c\n"
     ]
    },
    {
     "name": "stdout",
     "output_type": "stream",
     "text": [
      "BhuvanFASAL2023052650720.shp\n",
      "Available attributes: ['sid', 'date_time', 'apptype', 'photo1', 'photo2', 'rojectname', 'themename', 'rofilename', 'servername', 'org', 'mobileno', 'eationtime', 'uuid', 'deviceid', 'ictvillage', 'ieldsiteid', 'typeofcrop', 'fcropfield', 'rowthstage', 'hcondition', 'eronground', 'ropvariety', 'teofsowing', 'opsinfield', 'lcondition', 'herremarks', 'photos', 'photostext', 'geometry']\n",
      "Unique values in selected column: ['Cereal Crop Wheat' 'WHEAT' 'Wheat' 'wheat' 'Whaet' nan 'Cereal'\n",
      " 'Cereal crop' 'Rabi season cereal wheat crop' 'vegetative' '187'\n",
      " 'Wheat HD 3086' 'Mustard' 'Rabi']\n"
     ]
    },
    {
     "name": "stdin",
     "output_type": "stream",
     "text": [
      "Enter comma-separated unique values (or leave empty for all):  Mustard\n"
     ]
    },
    {
     "name": "stdout",
     "output_type": "stream",
     "text": [
      "2023/Punjab/1June_9Aug2023/BhuvanFASAL2023080983441.zip\n"
     ]
    },
    {
     "name": "stdin",
     "output_type": "stream",
     "text": [
      "continue or skip s\n"
     ]
    },
    {
     "name": "stdout",
     "output_type": "stream",
     "text": [
      "2023/Punjab/PB_01FEB23_28FEB23/BhuvanFASAL20230310113542.zip\n"
     ]
    },
    {
     "name": "stdin",
     "output_type": "stream",
     "text": [
      "continue or skip c\n"
     ]
    },
    {
     "name": "stdout",
     "output_type": "stream",
     "text": [
      "BhuvanFASAL20230310113542.shp\n",
      "Available attributes: ['sid', 'date_time', 'apptype', 'photo1', 'photo2', 'rojectname', 'themename', 'rofilename', 'servername', 'org', 'mobileno', 'eationtime', 'uuid', 'deviceid', 'ictvillage', 'ieldsiteid', 'typeofcrop', 'fcropfield', 'rowthstage', 'hcondition', 'eronground', 'ropvariety', 'teofsowing', 'opsinfield', 'lcondition', 'herremarks', 'photos', 'photostext', 'geometry']\n",
      "Unique values in selected column: [nan 'Pady' 'Paddy' 'Cotton' 'Maize' 'Sunflower' 'Mango' 'Ffcg'\n",
      " 'Sunflower seed' 'Mung' 'Chilli' 'PADDY' 'Ridge guard' 'Broad beans'\n",
      " 'Black gram urdu' 'White jowar' 'Drumstick' 'Make' 'Ground nuts' 'Tomato'\n",
      " 'Peanuts' 'Pioneer' 'Pioneer p3301' 'Meiza ir' 'Meiza' 'Haibread'\n",
      " 'Hibread ganga kaveri' 'Local jowar' 'Hibread corp' 'Maize hibread'\n",
      " 'Pioneer P3001' 'Pioneer p3046' 'Pioneer p3001' 'Ganga Gk3155'\n",
      " 'Kaverikmh8322' 'Mazi' 'Mazie' 'Bengal gram' 'Deshi' 'Paddy IR'\n",
      " 'Maize IR' 'Maiz' 'Maze' 'Kaveri' 'Advankha' 'Bharath' '20221202'\n",
      " 'C chenta' 'No' 'Msize' 'Mize' 'Navatha' 'Ganga' 'Srighna' '20230224'\n",
      " 'Miaze' '.aize' 'Aize']\n"
     ]
    },
    {
     "name": "stdin",
     "output_type": "stream",
     "text": [
      "Enter comma-separated unique values (or leave empty for all):  \n"
     ]
    },
    {
     "name": "stdout",
     "output_type": "stream",
     "text": [
      "2023/Rajasthan/1June_9Aug2023/BhuvanFASAL2023080990146.zip\n"
     ]
    },
    {
     "name": "stdin",
     "output_type": "stream",
     "text": [
      "continue or skip s\n"
     ]
    },
    {
     "name": "stdout",
     "output_type": "stream",
     "text": [
      "2023/Rajasthan/1June_9Aug2023/BhuvanFASAL20230810120327.zip\n"
     ]
    },
    {
     "name": "stdin",
     "output_type": "stream",
     "text": [
      "continue or skip s\n"
     ]
    },
    {
     "name": "stdout",
     "output_type": "stream",
     "text": [
      "2023/Rajasthan/RJ_01FEB23_28FEB23/BhuvanFASAL2023031644548.zip\n"
     ]
    },
    {
     "name": "stdin",
     "output_type": "stream",
     "text": [
      "continue or skip c\n"
     ]
    },
    {
     "name": "stdout",
     "output_type": "stream",
     "text": [
      "BhuvanFASAL2023031644548.shp\n",
      "Available attributes: ['sid', 'date_time', 'apptype', 'photo1', 'photo2', 'rojectname', 'themename', 'rofilename', 'servername', 'org', 'mobileno', 'eationtime', 'uuid', 'deviceid', 'ictvillage', 'ieldsiteid', 'typeofcrop', 'fcropfield', 'rowthstage', 'hcondition', 'eronground', 'ropvariety', 'teofsowing', 'opsinfield', 'lcondition', 'herremarks', 'photos', 'photostext', 'geometry']\n",
      "Unique values in selected column: ['Mustard' 'Wheat' nan 'Musterd rabi' 'Grasses' 'Oilseed musterd' 'Maize'\n",
      " 'Desi' 'Gram' 'MUSTARD' 'Oilseed mustard' 'Oilseed mustered'\n",
      " 'Grass wheat' 'Ishabgol' 'Bengal gram' 'Barley' 'Bengal geam'\n",
      " 'Grasses wheat' 'Wheet' 'wheet' 'Arugula' 'Wheat and Yellow Mustard'\n",
      " 'Argula' 'Bangalgram' 'GNG1958' 'Bangel gram' 'JG315' 'Bengal Gram'\n",
      " 'Jg315' 'Bangal gram' '315' 'Bangal gran' 'Collins' 'Bengal garm'\n",
      " 'Mustured' 'wheat' 'Urugula' 'Engal gram' 'Rye(Mustard)' 'Chickpea'\n",
      " 'Whear' 'Fallow' 'Cumin' 'Other' 'Lentil' 'fallow' 'Fennel seeds' 'cumin'\n",
      " 'Fenel seeds' 'Isabgol' 'isabgol' 'Fenugreek' 'Raya' 'Garm' 'Geam'\n",
      " 'Raj 3077 wheat' 'mustard' 'bengal fram' 'GRAM' 'WHEAT' 'Bengale gram'\n",
      " 'Bangla gram' 'bengal gram' 'Bengle gram' 'Cahna' 'Mursturd' 'Bengal'\n",
      " 'Balck gram' 'Black gram' '.Gram' 'lentil' 'B.Gram' 'Mustrd' 'Mustrad'\n",
      " 'Mustrud' 'Mastrad' 'Wehat' 'Cehna' 'Grm' 'Mus tard' 'Muatard' 'gram'\n",
      " 'Jeera' 'bengl gram' 'Isbgol' 'Mistard' 'Cereal Wheat' 'Rabi' 'MUSTRAD'\n",
      " 'Musterd' 'Chana' 'Taramira']\n"
     ]
    },
    {
     "name": "stdin",
     "output_type": "stream",
     "text": [
      "Enter comma-separated unique values (or leave empty for all):  Mustard,Musterd rabi,MUSTARD,Mustured,Rye(Mustard),mustard,Mursturd,Mustrd,Mustrad,Mustrud,Mastrad,Muatard,Mistard,MUSTRAD,Musterd\n"
     ]
    },
    {
     "name": "stdout",
     "output_type": "stream",
     "text": [
      "2023/Rajasthan/RJ_01JAN23_31JAN23/BhuvanFASAL2023041343136.zip\n"
     ]
    },
    {
     "name": "stdin",
     "output_type": "stream",
     "text": [
      "continue or skip c\n"
     ]
    },
    {
     "name": "stdout",
     "output_type": "stream",
     "text": [
      "BhuvanFASAL2023041343136.shp\n",
      "Available attributes: ['sid', 'date_time', 'apptype', 'photo1', 'photo2', 'rojectname', 'themename', 'rofilename', 'servername', 'org', 'mobileno', 'eationtime', 'uuid', 'deviceid', 'ictvillage', 'ieldsiteid', 'typeofcrop', 'fcropfield', 'rowthstage', 'hcondition', 'eronground', 'ropvariety', 'teofsowing', 'opsinfield', 'lcondition', 'herremarks', 'photos', 'photostext', 'geometry']\n",
      "Unique values in selected column: ['Mustard' 'MUSTURD' 'Wheat' 'MUSTARD' 'Carrot' 'Musturd' nan 'Barley'\n",
      " 'No' 'Musterd' 'Good' 'Mustard crop' 'Mustered' 'Rijka' 'Gram' 'Saunaph'\n",
      " 'Masturd' 'mustard' 'Barely' 'Shreeram' 'Bassi' 'Mustarf' 'MUSTRAD'\n",
      " 'Mustard rabi' 'Mustatd' 'Mustrad' 'musturd' 'wheat' 'Raya' 'M' 'Mastard'\n",
      " 'Lentil' 'Masoor' 'Wheat rabi' 'Rabi' 'Mustrud' 'LENTIL' 'GRAM' 'Mustrd'\n",
      " 'Mustred' 'Musrard' 'Muastard' 'Mustured' 'musterd' 'Mursted' 'Musteard'\n",
      " 'Normal' 'Wheet' 'WHEAT' 'Whea' 'Mus' 'Cereal crop' 'MUSTAD' 'Alsi'\n",
      " 'Weat' 'White' 'Oil seed' 'gram' 'Isabgol' 'Methi' 'Cummin'\n",
      " 'Cereal crops' 'Cereal' 'Oilseed mustard' 'Oilseed musturdt'\n",
      " 'Bengal gram' 'Cumin' 'Sonph' 'Whest' 'Taramira' 'Ishabgol' 'Bangalgraam'\n",
      " 'Hybrid' 'Jowar' 'Bengal Gram' 'Mastrd' 'Musters' 'Chummin' 'Chana'\n",
      " 'Gram crop' 'Whnoeat' 'Mus6' 'Arugula' 'Gehu' 'Sarsho' 'Bengalgram' 'Sof']\n"
     ]
    },
    {
     "name": "stdin",
     "output_type": "stream",
     "text": [
      "Enter comma-separated unique values (or leave empty for all):  Mustard,MUSTURD,MUSTARD,Musturd,Musterd,Mustard crop,Mustered,Masturd,mustard,Mustarf,MUSTRAD,Mustard rabi,Mustatd,Mustrad,musturd,Mastard,Mustrud,Mustrd,Mustred,Mustard,Muastard,Mustured,musterd,Mursted,Musteard,MUSTAD,Mastrd,Musters,Mus6\n"
     ]
    },
    {
     "name": "stdout",
     "output_type": "stream",
     "text": [
      "2023/Rajasthan/RJ_01MAR23_31MAR23/BhuvanFASAL2023041345200.zip\n"
     ]
    },
    {
     "name": "stdin",
     "output_type": "stream",
     "text": [
      "continue or skip c\n"
     ]
    },
    {
     "name": "stdout",
     "output_type": "stream",
     "text": [
      "BhuvanFASAL2023041345200.shp\n",
      "Available attributes: ['sid', 'date_time', 'apptype', 'photo1', 'photo2', 'rojectname', 'themename', 'rofilename', 'servername', 'org', 'mobileno', 'eationtime', 'uuid', 'deviceid', 'ictvillage', 'ieldsiteid', 'typeofcrop', 'fcropfield', 'rowthstage', 'hcondition', 'eronground', 'ropvariety', 'teofsowing', 'opsinfield', 'lcondition', 'herremarks', 'photos', 'photostext', 'geometry']\n",
      "Unique values in selected column: ['Mustard' 'Gram' 'Wheat' 'wheat' 'Mustarf' 'Chana' 'Barely' 'Barley'\n",
      " 'Mustred' nan 'Wheet' 'Pakav' 'Whear' 'White' 'MUSTARD' 'WHEAT' 'GRAM'\n",
      " 'Desi' 'Whaet' 'Chna' 'WHeat' 'bengal gram' 'Bengal gram']\n"
     ]
    },
    {
     "name": "stdin",
     "output_type": "stream",
     "text": [
      "Enter comma-separated unique values (or leave empty for all):  Mustard,Mustarf,MUSTARD\n"
     ]
    },
    {
     "name": "stdout",
     "output_type": "stream",
     "text": [
      "2023/Tamil Nadu/TN_01DEC22_15FEB23/BhuvanFASAL20230216111606.zip\n"
     ]
    },
    {
     "name": "stdin",
     "output_type": "stream",
     "text": [
      "continue or skip s\n"
     ]
    },
    {
     "name": "stdout",
     "output_type": "stream",
     "text": [
      "2023/Telangana/TL_01JAN23_31JAN23/BhuvanFASAL2023031352222.zip\n"
     ]
    },
    {
     "name": "stdin",
     "output_type": "stream",
     "text": [
      "continue or skip c\n"
     ]
    },
    {
     "name": "stdout",
     "output_type": "stream",
     "text": [
      "BhuvanFASAL2023031352222.shp\n",
      "Available attributes: ['sid', 'date_time', 'apptype', 'photo1', 'photo2', 'rojectname', 'themename', 'rofilename', 'servername', 'org', 'mobileno', 'eationtime', 'uuid', 'deviceid', 'ictvillage', 'ieldsiteid', 'typeofcrop', 'fcropfield', 'rowthstage', 'hcondition', 'eronground', 'ropvariety', 'teofsowing', 'opsinfield', 'lcondition', 'herremarks', 'photos', 'photostext', 'geometry']\n",
      "Unique values in selected column: ['Paddy' 'Maize' 'Cottan' 'Cottun' 'Cutton' 'Cotton' 'Pady' 'Tulashi'\n",
      " '1010' 'Mize' 'No' '20220111224' 'Mizz' nan 'Sugarcane' 'PADDY'\n",
      " 'Bittergourd' 'Tomato' 'Cowpea' 'MAIZE' 'Beans' 'Mallbore' 'Chilly'\n",
      " 'Bengal gram' 'Mango' 'Urad' 'Sri janta' 'Onion' 'Chilli'\n",
      " 'Sunflower seeds (kusuma crop)' 'Sunflower' 'Tamota' 'Rice' 'Formoil'\n",
      " 'Jowarfooder' 'Mango trees' 'Urdu' 'Maiz' 'Pasdy' 'Redgram' 'Bangalgram'\n",
      " 'Eucalyptus trees' 'Tamota pumpkin' 'Brinjal' 'Groundnut' '20230120138'\n",
      " 'Navatha' 'Dhanalaxmi' 'Navt' 'Coriander' 'Ganga Kaveri' 'Moog' 'Mustard'\n",
      " '20230122' 'Sreejanta' 'Navata' 'Ganga kaveri' 'Syngenta' 'Winner' 'Veda'\n",
      " 'Soni' '20230123' 'Jowar' 'Test' 'Maiza' 'Sreeganta' 'Senagalu'\n",
      " 'Onion steeds' 'Pioner hibred seeds' 'Hibread maize pioneer' 'Cp janta'\n",
      " 'Dhanush sun flower seeds' 'Dhanya seeganta' 'Wheat' 'Ganaga kaveri'\n",
      " 'Dhanalakshmi' 'Super65' 'Navtha' 'Padya' 'Sonalika' 'Jai sriram'\n",
      " 'Sriram' 'Sri ram' 'Ganga' 'Dhanush' 'Gagan' 'Arjun' '20230126' 'Navatah'\n",
      " 'Delta' 'Mung' 'Sinduja' 'Vikas' 'Suda' 'Jothi' 'Shivam' 'Delte' 'Cotto'\n",
      " 'Maize makka' 'Cott' 'Jower' 'Ganaga kaveri 3155' 'Weat ganga' 'Pioneer'\n",
      " 'Ganga kaveri 3155' 'Pioneer 3167' 'Ganga kaveri 3153' 'Sreejanta 4165'\n",
      " 'Corteva' 'Kaveri kmh8322' 'Pioneer p3302' 'Adam crop mh333' 'Venu seeds'\n",
      " 'Kaverikmh8322']\n"
     ]
    },
    {
     "name": "stdin",
     "output_type": "stream",
     "text": [
      "Enter comma-separated unique values (or leave empty for all):  \n"
     ]
    },
    {
     "name": "stdout",
     "output_type": "stream",
     "text": [
      "2023/Uttar Pradesh/UP_01JAN23_17JAN23/BhuvanFASAL20230117115201.zip\n"
     ]
    },
    {
     "name": "stdin",
     "output_type": "stream",
     "text": [
      "continue or skip c\n"
     ]
    },
    {
     "name": "stdout",
     "output_type": "stream",
     "text": [
      "BhuvanFASAL20230117115201.shp\n",
      "Available attributes: ['sid', 'date_time', 'apptype', 'photo1', 'photo2', 'rojectname', 'themename', 'rofilename', 'servername', 'org', 'mobileno', 'eationtime', 'uuid', 'deviceid', 'ictvillage', 'ieldsiteid', 'typeofcrop', 'fcropfield', 'rowthstage', 'hcondition', 'eronground', 'ropvariety', 'teofsowing', 'opsinfield', 'lcondition', 'herremarks', 'photos', 'photostext', 'geometry']\n",
      "Unique values in selected column: ['Wheat' 'Maize' 'Mustard' 'Gram' 'Aaloo' 'Potato' 'M' 'Mustered' 'Sarso'\n",
      " nan 'Peas' 'Bassi' 'Pateto' 'Red chili' 'Wheet' 'Bengal gram' 'Test'\n",
      " 'Tomato' 'Red chilli' 'Shimla mirch' 'Musterd' 'mustard' 'Roag' 'Pabhe'\n",
      " 'Mustatd' '2023012 001' 'Pea pulse' '40x50' 'Desi' 'Mustrd' 'WHEAT'\n",
      " 'Bangal gram' 'Mustart' 'WHest' 'Sugarecane' 'Wheate']\n"
     ]
    },
    {
     "name": "stdin",
     "output_type": "stream",
     "text": [
      "Enter comma-separated unique values (or leave empty for all):  Mustard,Mustered,Musterd,mustard,Mustatd,Mustrd,Mustart\n"
     ]
    },
    {
     "name": "stdout",
     "output_type": "stream",
     "text": [
      "2023/Uttar Pradesh/UP_18FEB23_15FEB23/BhuvanFASAL2023021661801.zip\n"
     ]
    },
    {
     "name": "stdin",
     "output_type": "stream",
     "text": [
      "continue or skip c\n"
     ]
    },
    {
     "name": "stdout",
     "output_type": "stream",
     "text": [
      "BhuvanFASAL2023021661801.shp\n",
      "Available attributes: ['sid', 'date_time', 'apptype', 'photo1', 'photo2', 'rojectname', 'themename', 'rofilename', 'servername', 'org', 'mobileno', 'eationtime', 'uuid', 'deviceid', 'ictvillage', 'ieldsiteid', 'typeofcrop', 'fcropfield', 'rowthstage', 'hcondition', 'eronground', 'ropvariety', 'teofsowing', 'opsinfield', 'lcondition', 'herremarks', 'photos', 'photostext', 'geometry']\n",
      "Unique values in selected column: ['Wheat' 'Mustard' 'Wheatz' 'Potato' 'Mustered' 'Pioneer' 'Sarso' nan\n",
      " 'Mustart' 'Brinjal' 'Bassi' 'WHEAT' 'Couliflowe' 'Couliflower'\n",
      " '20230121-017' 'Sugarcane' 'Sugar cane' 'Masted' 'Chukanadr' 'Whet'\n",
      " 'Mustar d' 'Eggplant' '20230124-011' 'Banana' 'Hy' '20230121-012'\n",
      " 'Sugarecane' 'Satso' 'Barseem' 'Gram' 'sar' 'Mastard' 'sarso' 'Mustured'\n",
      " 'Makka' 'Musstard' 'Mustars' 'Mustrad' 'Tur' 'wheat' 'Wheat and potato'\n",
      " 'Rapeseed mustard' 'Wkeat' 'Beat' 'Masatad' 'Weat' 'Muturd' 'Whear'\n",
      " 'Maize' 'M' 'Musterd' 'Whaet' 'Masoor Rabi pulse' 'Hybrid' 'Mustarf'\n",
      " 'MAIXE' 'Maixe' 'HYBRID' 'Jg315' 'Hyb' 'Mystard' 'Patato' 'Barley'\n",
      " 'Barely' 'Masturd' 'Gehu' 'Misterd' 'Mustred' 'Mistred'\n",
      " 'Maize Mustard beans' 'Muaterd' '315' 'mustred' 'Mistard'\n",
      " 'Wheat and Mustard' 'Chilli' 'Pea' 'Mustrda' 'mustered' 'Mutrad'\n",
      " 'Mustead' '46' 'Mustad' 'Lentol' 'No' 'Mistrad' 'Musterad']\n"
     ]
    },
    {
     "name": "stdin",
     "output_type": "stream",
     "text": [
      "Enter comma-separated unique values (or leave empty for all):  Mustard,Mustart,Masted,Mustar d,Mastard,Mustured,Musstard,Mustars,Mustrad,Masatad,Muturd,Musterd,Mustarf,Mystard,Masturd,Mistred,Mistred,mustred,Mistrad,Mustrda,mustered,Mutrad,Mustead,Mustad,Mistrad,Musterad\n"
     ]
    },
    {
     "name": "stdout",
     "output_type": "stream",
     "text": [
      "2023/Uttar Pradesh/UP_1Mar_30April/BhuvanFASAL20230511112746.zip\n"
     ]
    },
    {
     "name": "stdin",
     "output_type": "stream",
     "text": [
      "continue or skip c\n"
     ]
    },
    {
     "name": "stdout",
     "output_type": "stream",
     "text": [
      "BhuvanFASAL20230511112746.shp\n",
      "Available attributes: ['sid', 'date_time', 'apptype', 'photo1', 'photo2', 'rojectname', 'themename', 'rofilename', 'servername', 'org', 'mobileno', 'eationtime', 'uuid', 'deviceid', 'ictvillage', 'ieldsiteid', 'typeofcrop', 'fcropfield', 'rowthstage', 'hcondition', 'eronground', 'ropvariety', 'teofsowing', 'opsinfield', 'lcondition', 'herremarks', 'photos', 'photostext', 'geometry']\n",
      "Unique values in selected column: ['Mustard' 'Mustered' 'Masur' 'Lentil' 'Gram' 'Wheat' nan 'Sugarcane']\n"
     ]
    },
    {
     "name": "stdin",
     "output_type": "stream",
     "text": [
      "Enter comma-separated unique values (or leave empty for all):  Mustard,Mustered\n"
     ]
    },
    {
     "name": "stdout",
     "output_type": "stream",
     "text": [
      "2023/Uttarakhand/UK_01JAN23_31JAN23/BhuvanFASAL2023022155058.zip\n"
     ]
    },
    {
     "name": "stdin",
     "output_type": "stream",
     "text": [
      "continue or skip c\n"
     ]
    },
    {
     "name": "stdout",
     "output_type": "stream",
     "text": [
      "BhuvanFASAL2023022155058.shp\n",
      "Available attributes: ['sid', 'date_time', 'apptype', 'photo1', 'photo2', 'rojectname', 'themename', 'rofilename', 'servername', 'org', 'mobileno', 'eationtime', 'uuid', 'deviceid', 'ictvillage', 'ieldsiteid', 'typeofcrop', 'fcropfield', 'rowthstage', 'hcondition', 'eronground', 'ropvariety', 'teofsowing', 'opsinfield', 'lcondition', 'herremarks', 'photos', 'photostext', 'geometry']\n",
      "Unique values in selected column: ['Wheat' nan 'wheat' 'Local' 'Locla']\n"
     ]
    },
    {
     "name": "stdin",
     "output_type": "stream",
     "text": [
      "Enter comma-separated unique values (or leave empty for all):  \n"
     ]
    },
    {
     "name": "stdout",
     "output_type": "stream",
     "text": [
      "2023/West Bengal/1June_9Aug2023/BhuvanFASAL20230809102511.zip\n"
     ]
    },
    {
     "name": "stdin",
     "output_type": "stream",
     "text": [
      "continue or skip s\n"
     ]
    },
    {
     "name": "stdout",
     "output_type": "stream",
     "text": [
      "2023/West Bengal/WB_01JAN23_28FEB23/BhuvanFASAL2023032150405.zip\n"
     ]
    },
    {
     "name": "stdin",
     "output_type": "stream",
     "text": [
      "continue or skip c\n"
     ]
    },
    {
     "name": "stdout",
     "output_type": "stream",
     "text": [
      "BhuvanFASAL2023032150405.shp\n",
      "Available attributes: ['sid', 'date_time', 'apptype', 'photo1', 'photo2', 'rojectname', 'themename', 'rofilename', 'servername', 'org', 'mobileno', 'eationtime', 'uuid', 'deviceid', 'ictvillage', 'ieldsiteid', 'typeofcrop', 'fcropfield', 'rowthstage', 'hcondition', 'eronground', 'ropvariety', 'teofsowing', 'opsinfield', 'lcondition', 'herremarks', 'photos', 'photostext', 'geometry']\n",
      "Unique values in selected column: ['Mustard' 'Rapeseed Mustard' 'Rapeseed  and Mustard'\n",
      " 'Rapeseed and Mustard' 'MUSTATD' 'MUST ARD' 'Mustrd' 'Mustards' nan\n",
      " 'BORO PADDY' 'Boro Paddy' 'Boro paddy' 'Minikit' 'Boro  Paddy']\n"
     ]
    },
    {
     "name": "stdin",
     "output_type": "stream",
     "text": [
      "Enter comma-separated unique values (or leave empty for all):  Mustard,MUSTATD,MUST ARD,Mustrd,Mustards\n"
     ]
    },
    {
     "name": "stdout",
     "output_type": "stream",
     "text": [
      "2023/West Bengal/WB_01MAR23_09JUL23/BhuvanFASAL2023071045430.zip\n"
     ]
    },
    {
     "name": "stdin",
     "output_type": "stream",
     "text": [
      "continue or skip c\n"
     ]
    },
    {
     "name": "stdout",
     "output_type": "stream",
     "text": [
      "BhuvanFASAL2023071045430.shp\n",
      "Available attributes: ['sid', 'date_time', 'apptype', 'photo1', 'photo2', 'rojectname', 'themename', 'rofilename', 'servername', 'org', 'mobileno', 'eationtime', 'uuid', 'deviceid', 'ictvillage', 'ieldsiteid', 'typeofcrop', 'fcropfield', 'rowthstage', 'hcondition', 'eronground', 'ropvariety', 'teofsowing', 'opsinfield', 'lcondition', 'herremarks', 'photos', 'photostext', 'geometry']\n",
      "Unique values in selected column: ['Boro paddy' 'Boro Paddy' 'Rabi Rice' 'BoroPaddy' 'Boro  Pafdy'\n",
      " 'Boro Pasdy' 'Vegetable' 'Maize' 'Boro  Paddy' 'Potato' 'BORO PADDY'\n",
      " 'Wheat' 'Boropaddy' 'Jute' 'Mesta' 'Tea' 'Tea   vegetable' 'JUTE' 'Jite'\n",
      " 'Forest' 'Dragon fruits']\n"
     ]
    },
    {
     "name": "stdin",
     "output_type": "stream",
     "text": [
      "Enter comma-separated unique values (or leave empty for all):  Mesta\n"
     ]
    }
   ],
   "source": [
    "def get_zip_file_paths(folder_path):\n",
    "    zip_file_paths = []\n",
    "    \n",
    "    for root, dirs, files in os.walk(folder_path):\n",
    "        for file in files:\n",
    "            if file.endswith('.zip'):\n",
    "                zip_file_paths.append(os.path.join(root, file))\n",
    "    \n",
    "    return zip_file_paths\n",
    "\n",
    "folder_name = \"2023\"  # Replace with the desired folder path\n",
    "zip_paths = get_zip_file_paths(folder_name)\n",
    "# print(zip_paths)\n",
    "# zip_read(zip_paths[0])\n",
    "for file in zip_paths:\n",
    "    print(file)\n",
    "    choice = input(\"continue or skip\")\n",
    "    if choice == 'c':\n",
    "        zip_read(file)\n"
   ]
  },
  {
   "cell_type": "code",
   "execution_count": 7,
   "id": "fdcd0e22-7e74-4b7e-8840-3f688f5d3dbf",
   "metadata": {},
   "outputs": [
    {
     "name": "stdout",
     "output_type": "stream",
     "text": [
      "2022/AndhraPradesh/AP_01JAN22_30OCT22/BhuvanFASAL20221014110814.zip\n"
     ]
    },
    {
     "name": "stdin",
     "output_type": "stream",
     "text": [
      "continue or skip s\n"
     ]
    },
    {
     "name": "stdout",
     "output_type": "stream",
     "text": [
      "2022/AndhraPradesh/AP_01NOV22_31DEC22/BhuvanFASAL20230203112016.zip\n"
     ]
    },
    {
     "name": "stdin",
     "output_type": "stream",
     "text": [
      "continue or skip c\n"
     ]
    },
    {
     "name": "stdout",
     "output_type": "stream",
     "text": [
      "BhuvanFASAL20230203112016.shp\n",
      "Available attributes: ['sid', 'date_time', 'apptype', 'photo1', 'photo2', 'rojectname', 'themename', 'rofilename', 'servername', 'org', 'mobileno', 'eationtime', 'uuid', 'deviceid', 'ictvillage', 'ieldsiteid', 'typeofcrop', 'fcropfield', 'rowthstage', 'hcondition', 'eronground', 'ropvariety', 'teofsowing', 'opsinfield', 'lcondition', 'herremarks', 'photos', 'photostext', 'geometry']\n",
      "Unique values in selected column: ['Paddy' 'paddy' 'Groundnut' 'Pigeon pea with cotton' 'Sigile'\n",
      " 'Ground nut' nan 'REDGRAM' 'Cotton' 'Redgram' 'PADDY' 'GROUND NUT'\n",
      " 'Jowarfooder' 'Banana' 'Maize grain' 'Cauliflower']\n"
     ]
    },
    {
     "name": "stdin",
     "output_type": "stream",
     "text": [
      "Enter comma-separated unique values (or leave empty for all):  \n"
     ]
    },
    {
     "name": "stdout",
     "output_type": "stream",
     "text": [
      "2022/Assam/AS_01JAN22_31DEC22/BhuvanFASAL20230118111851.zip\n"
     ]
    },
    {
     "name": "stdin",
     "output_type": "stream",
     "text": [
      "continue or skip s\n"
     ]
    },
    {
     "name": "stdout",
     "output_type": "stream",
     "text": [
      "2022/Bihar/BH_01JAN22_31DEC22/BhuvanFASAL2023011875026.zip\n"
     ]
    },
    {
     "name": "stdin",
     "output_type": "stream",
     "text": [
      "continue or skip s\n"
     ]
    },
    {
     "name": "stdout",
     "output_type": "stream",
     "text": [
      "2022/Chandigarh/CH_01JAN22_31DEC22/BhuvanFASAL2023011882733.zip\n"
     ]
    },
    {
     "name": "stdin",
     "output_type": "stream",
     "text": [
      "continue or skip s\n"
     ]
    },
    {
     "name": "stdout",
     "output_type": "stream",
     "text": [
      "2022/Chhattisgarh/CG_01JAN22_31DEC22/BhuvanFASAL20230118114603.zip\n"
     ]
    },
    {
     "name": "stdin",
     "output_type": "stream",
     "text": [
      "continue or skip s\n"
     ]
    },
    {
     "name": "stdout",
     "output_type": "stream",
     "text": [
      "2022/Delhi/Jan-Dec 22/BhuvanFASAL2023011963521.zip\n"
     ]
    },
    {
     "name": "stdin",
     "output_type": "stream",
     "text": [
      "continue or skip s\n"
     ]
    },
    {
     "name": "stdout",
     "output_type": "stream",
     "text": [
      "2022/Gujarat/GJ_01NOV22_31DEC22/BhuvanFASAL20230203112214.zip\n"
     ]
    },
    {
     "name": "stdin",
     "output_type": "stream",
     "text": [
      "continue or skip c\n"
     ]
    },
    {
     "name": "stdout",
     "output_type": "stream",
     "text": [
      "BhuvanFASAL20230203112214.shp\n",
      "Available attributes: ['sid', 'date_time', 'apptype', 'photo1', 'photo2', 'rojectname', 'themename', 'rofilename', 'servername', 'org', 'mobileno', 'eationtime', 'uuid', 'deviceid', 'ictvillage', 'ieldsiteid', 'typeofcrop', 'fcropfield', 'rowthstage', 'hcondition', 'eronground', 'ropvariety', 'teofsowing', 'opsinfield', 'lcondition', 'herremarks', 'photos', 'photostext', 'geometry']\n",
      "Unique values in selected column: ['Cotton' nan 'Chillies' 'Castor' 'Castar' 'Demo' '20221229']\n"
     ]
    },
    {
     "name": "stdin",
     "output_type": "stream",
     "text": [
      "Enter comma-separated unique values (or leave empty for all):  \n"
     ]
    },
    {
     "name": "stdout",
     "output_type": "stream",
     "text": [
      "2022/Gujarat/GJ_01SEP22_31OCT22/BhuvanFASAL20221118110403.zip\n"
     ]
    },
    {
     "name": "stdin",
     "output_type": "stream",
     "text": [
      "continue or skip s\n"
     ]
    },
    {
     "name": "stdout",
     "output_type": "stream",
     "text": [
      "2022/Haryana/HR_01APR22_31OCT22/BhuvanFASAL2022111644819.zip\n"
     ]
    },
    {
     "name": "stdin",
     "output_type": "stream",
     "text": [
      "continue or skip s\n"
     ]
    },
    {
     "name": "stdout",
     "output_type": "stream",
     "text": [
      "2022/Haryana/HR_01JAN22_31MAR22/BhuvanFASAL2022111545918.zip\n"
     ]
    },
    {
     "name": "stdin",
     "output_type": "stream",
     "text": [
      "continue or skip s\n"
     ]
    },
    {
     "name": "stdout",
     "output_type": "stream",
     "text": [
      "2022/Haryana/HR_01NOV22_31DEC22/BhuvanFASAL20230203112849.zip\n"
     ]
    },
    {
     "name": "stdin",
     "output_type": "stream",
     "text": [
      "continue or skip c\n"
     ]
    },
    {
     "name": "stdout",
     "output_type": "stream",
     "text": [
      "BhuvanFASAL20230203112849.shp\n",
      "Available attributes: ['sid', 'date_time', 'apptype', 'photo1', 'photo2', 'rojectname', 'themename', 'rofilename', 'servername', 'org', 'mobileno', 'eationtime', 'uuid', 'deviceid', 'ictvillage', 'ieldsiteid', 'typeofcrop', 'fcropfield', 'rowthstage', 'hcondition', 'eronground', 'ropvariety', 'teofsowing', 'opsinfield', 'lcondition', 'herremarks', 'photos', 'photostext', 'geometry']\n",
      "Unique values in selected column: ['Cotton' 'Paddy' nan 'Wheat' 'Mustard' 'M' 'Mustred' 'Demo']\n"
     ]
    },
    {
     "name": "stdin",
     "output_type": "stream",
     "text": [
      "Enter comma-separated unique values (or leave empty for all):  Mustard,Mustred\n"
     ]
    },
    {
     "name": "stdout",
     "output_type": "stream",
     "text": [
      "2022/Himachal Pradesh/HP_01JAN22_31DEC22/BhuvanFASAL2023011963753.zip\n"
     ]
    },
    {
     "name": "stdin",
     "output_type": "stream",
     "text": [
      "continue or skip s\n"
     ]
    },
    {
     "name": "stdout",
     "output_type": "stream",
     "text": [
      "2022/Jharkhand/JH_01JAN22_31DEC22/BhuvanFASAL2023011970208.zip\n"
     ]
    },
    {
     "name": "stdin",
     "output_type": "stream",
     "text": [
      "continue or skip s\n"
     ]
    },
    {
     "name": "stdout",
     "output_type": "stream",
     "text": [
      "2022/Karnataka/KR_01JAN22_31DEC22/BhuvanFASAL2023011975148.zip\n"
     ]
    },
    {
     "name": "stdin",
     "output_type": "stream",
     "text": [
      "continue or skip s\n"
     ]
    },
    {
     "name": "stdout",
     "output_type": "stream",
     "text": [
      "2022/Kerala/KL_01JAN22_31DEC22/BhuvanFASAL2023012044702.zip\n"
     ]
    },
    {
     "name": "stdin",
     "output_type": "stream",
     "text": [
      "continue or skip s\n"
     ]
    },
    {
     "name": "stdout",
     "output_type": "stream",
     "text": [
      "2022/MadhyaPradesh/16Sep_30Sep/BhuvanFASAL20230612115137.zip\n"
     ]
    },
    {
     "name": "stdin",
     "output_type": "stream",
     "text": [
      "continue or skip s\n"
     ]
    },
    {
     "name": "stdout",
     "output_type": "stream",
     "text": [
      "2022/MadhyaPradesh/1Jan_30June/BhuvanFASAL2023061294931.zip\n"
     ]
    },
    {
     "name": "stdin",
     "output_type": "stream",
     "text": [
      "continue or skip s\n"
     ]
    },
    {
     "name": "stdout",
     "output_type": "stream",
     "text": [
      "2022/MadhyaPradesh/1July_31August/BhuvanFASAL20230612100042.zip\n"
     ]
    },
    {
     "name": "stdin",
     "output_type": "stream",
     "text": [
      "continue or skip s\n"
     ]
    },
    {
     "name": "stdout",
     "output_type": "stream",
     "text": [
      "2022/MadhyaPradesh/1Oct_31Dec/BhuvanFASAL20230612123156.zip\n"
     ]
    },
    {
     "name": "stdin",
     "output_type": "stream",
     "text": [
      "continue or skip c\n"
     ]
    },
    {
     "name": "stdout",
     "output_type": "stream",
     "text": [
      "BhuvanFASAL20230612123156.shp\n",
      "Available attributes: ['sid', 'date_time', 'apptype', 'photo1', 'photo2', 'rojectname', 'themename', 'rofilename', 'servername', 'org', 'mobileno', 'eationtime', 'uuid', 'deviceid', 'ictvillage', 'ieldsiteid', 'typeofcrop', 'fcropfield', 'rowthstage', 'hcondition', 'eronground', 'ropvariety', 'teofsowing', 'opsinfield', 'lcondition', 'herremarks', 'photos', 'photostext', 'geometry']\n",
      "Unique values in selected column: ['Soybean' 'Soyabean' 'SOYABEAN' 'Soyabin' 'Paddy dhan' 'Cotton'\n",
      " 'soyabean' 'Bajra' 'Jowar' 'Sesamum' 'Soyabeen' 'Maize' nan '9560'\n",
      " 'Paddy' 'Paddy (dhan)' 'Sugarcane' 'paddy dhan' 'Masoor' 'Gehu' 'Whaet'\n",
      " 'Chana' 'Rayda' 'Masur' 'Gahu' 'Wheat' 'Mustard' '306' 'Mashur'\n",
      " 'Mustard 45s46' 'Bangal gram' 'Wheat 306' 'Musturd' 'Lentil masur' 'Gram'\n",
      " 'Lentil' 'Chick pea' 'Gram(Chick pea)' 'Gram(chick pea)' 'Gram chick pea'\n",
      " 'Musty' 'Black gram' 'Wheat hills' 'Lentil (Masoor)' 'Pea' 'Arhar'\n",
      " 'Fallow land' 'Lentil (Masoor' 'Sarso' 'Peanut' 'Potato' 'Gram chana'\n",
      " 'Lentils' 'Masor' 'Coriander' 'Matar' 'Chilli' 'Tomato' 'Corn' 'Brinjal'\n",
      " 'Mistard' 'Alsi' 'Onion' 'Masur lentil' 'Lentil Masur' 'Paddy seedlings'\n",
      " 'Fallow land paddy harvested' 'Tomatoes' 'Fallow land of paddy' 'Garlic'\n",
      " 'Gary' 'Sarsoo' 'Whet' 'Carrot' 'Sugarcan' 'Black Gram' 'Cabbage' 'Satso'\n",
      " 'Orange' 'Fallow']\n"
     ]
    },
    {
     "name": "stdin",
     "output_type": "stream",
     "text": [
      "Enter comma-separated unique values (or leave empty for all):  Mustard,Musturd\n"
     ]
    },
    {
     "name": "stdout",
     "output_type": "stream",
     "text": [
      "2022/MadhyaPradesh/1Sep_15Sep/BhuvanFASAL20230612105950.zip\n"
     ]
    },
    {
     "name": "stdin",
     "output_type": "stream",
     "text": [
      "continue or skip c\n"
     ]
    },
    {
     "name": "stdout",
     "output_type": "stream",
     "text": [
      "BhuvanFASAL20230612105950.shp\n",
      "Available attributes: ['sid', 'date_time', 'apptype', 'photo1', 'photo2', 'rojectname', 'themename', 'rofilename', 'servername', 'org', 'mobileno', 'eationtime', 'uuid', 'deviceid', 'ictvillage', 'ieldsiteid', 'typeofcrop', 'fcropfield', 'rowthstage', 'hcondition', 'eronground', 'ropvariety', 'teofsowing', 'opsinfield', 'lcondition', 'herremarks', 'photos', 'photostext', 'geometry']\n",
      "Unique values in selected column: ['Pearl millet' 'Soyabeen' 'Pearl Millet' 'Guar' 'Maize' 'Bajra'\n",
      " 'Soyabean' 'Urad' 'Jowar' 'Sesamum' 'Sesmum' 'Paddy' 'Sugarcane'\n",
      " 'Soyabin' 'Cotton' 'soyabean' 'JOWAR' nan 'Bajara' 'Soybean' 'Urd'\n",
      " 'Soybt' '100x150' 'Kharif' 'Peal Millet' 'kharif' 'Peral Millet'\n",
      " 'Peeal Millet' 'Soyabean 1025' 'Hybrid' 'Peal Mille' 'Pearl Mil late'\n",
      " 'Soybin' 'maize' 'Pearl Milet' 'No' '150' 'Pearl' 'Peal millet'\n",
      " 'Syngenta' 'Madhya Pradesh Ujjain' 'Cottan' 'Paddy (dhan)' '300' 'Makka'\n",
      " '9560' 'BAJRA' 'Soyqbeen' 'maixe' 'Jawahar makka 8' 'Chilli' 'Soyabee'\n",
      " 'Green gram' 'Soyabern' 'Soyab6' 'Black gram' 'soyabeen']\n"
     ]
    },
    {
     "name": "stdin",
     "output_type": "stream",
     "text": [
      "Enter comma-separated unique values (or leave empty for all):  \n"
     ]
    },
    {
     "name": "stdout",
     "output_type": "stream",
     "text": [
      "2022/Maharashtra/MH_01JAN22_31AUG22/BhuvanFASAL2023012050935.zip\n"
     ]
    },
    {
     "name": "stdin",
     "output_type": "stream",
     "text": [
      "continue or skip s\n"
     ]
    },
    {
     "name": "stdout",
     "output_type": "stream",
     "text": [
      "2022/Maharashtra/MH_01SEP22_31DEC22/BhuvanFASAL2023013044811.zip\n"
     ]
    },
    {
     "name": "stdin",
     "output_type": "stream",
     "text": [
      "continue or skip c\n"
     ]
    },
    {
     "name": "stdout",
     "output_type": "stream",
     "text": [
      "BhuvanFASAL2023013044811.shp\n",
      "Available attributes: ['sid', 'date_time', 'apptype', 'photo1', 'photo2', 'rojectname', 'themename', 'rofilename', 'servername', 'org', 'mobileno', 'eationtime', 'uuid', 'deviceid', 'ictvillage', 'ieldsiteid', 'typeofcrop', 'fcropfield', 'rowthstage', 'hcondition', 'eronground', 'ropvariety', 'teofsowing', 'opsinfield', 'lcondition', 'herremarks', 'photos', 'photostext', 'geometry']\n",
      "Unique values in selected column: [nan 'Soybean' 'Cotton' 'Sugarcane' 'Soyabean' 'Kotan' 'Cotan'\n",
      " 'Pigeon Pea' 'Bajra' 'Tur' 'Soyaben'\n",
      " 'Crop is having some un all direction' 'Soyabin' 'Maize' 'Onion'\n",
      " 'Green gram' 'Groundnut' 'Grountnut' 'Soyabeen' 'Turmeric' 'Urad'\n",
      " 'Ground nut' 'Tur-Red Gram' 'Tur- Red Gram' 'Banana' 'Turmric'\n",
      " 'Black gram' 'Bajri' 'Jawar' 'Soyabin  Baht' 'Paddy' 'Moog' 'Maze'\n",
      " 'Soyben' 'Bajara' 'Pigeonpea' 'Coton' 'Jowar' 'Udid' 'Arher tur' 'Urid'\n",
      " 'Mug' 'Soyaben-' 'Oilseeds' 'Urrad' 'Cottan' 'Pulse' 'Kharip jawar'\n",
      " 'Fibre' 'Pulses' 'soyabean' 'Soyaben and red gram' 'Cotton tur'\n",
      " 'Red Gram' 'C' 'Red gram' 'Oilseed' 'soyabeen' '20220907-18' 'Rashi'\n",
      " 'Kharip' 'Bhuimug' '20220908-036' 'Maiz' '20220907' 'Crop average' '1.2'\n",
      " 'Cootn' 'Karishma' 'Cottin' 'Soyabeaan' 'BULDANA' 'Soyqbeen' 'Spyabeen'\n",
      " 'Single' 'Soybean -6' 'Fiber' 'Soyabern' 'soyabin' '20220913-60'\n",
      " 'Soybeen' 'SAYBEEN' 'Pearl millet' 'Moong' 'Soyabbean' 'Kds' 'SugarCane'\n",
      " 'Soaybin' 'Soybin' 'Cotton.' '20220914-2' 'SOYABEAN' 'ng' 'Pioneer'\n",
      " 'soyaben' 'Khushi' 'Turmaric' 'Cotyon' 'Hybarid' 'JS335' 'Cotton 2'\n",
      " 'Soyabean or red gram' 'Soyabean Or tur' 'Tour' 'Cotten' 'Ture'\n",
      " 'Rad Gram' 'Soya bean' 'Redgram' 'Blackgram' 'Soyabean  tur'\n",
      " 'Soyabean or tur' 'Sesamum' 'Sugercane' 'Sowing' '20220919-061' 'Amla'\n",
      " 'Lemon' 'Sweetcorn' 'Sesum' 'Average' 'cotton' 'Soybeaj' 'Promogranat'\n",
      " 'Pigeon pea' 'Sugar cane' 'Soyy' 'Pearlmillet' 'Orange' '100'\n",
      " 'Promegranate' '726' 'Ginger' 'Citton' '3' 'Pigonpea arhar' 'Cotty'\n",
      " 'Soybeem' 'Cauliflower' 'Mazik maka' 'Cottn' 'Sunflower' 'Fallow'\n",
      " 'Soyabina' 'Pegion pea' 'Soyabe n' 'Soyabea n' 'Sorghum' 'Crop' 'Local'\n",
      " 'Red chilli' 'Harwest' 'Soya' 'Pigeon pea tur' 'Raed gram' 'Sugarcan'\n",
      " 'Ajeet' 'Red chilly' 'Spyabean' 'Soyabean the' 'Hybrid' 'Cotron'\n",
      " 'Suyabeen' 'Green Chilli' 'Cauli flower' 'Red Chilli' 'Fingarmillet'\n",
      " 'Bhendi' 'Turerice' 'Hiramoti' 'Hybrida' 'Flower' 'SoyaBin' 'Bajarat'\n",
      " 'Maka' 'Guava' 'soybean' 'Pigeon pea(TUR)' 'Soybean (Bhat)'\n",
      " 'Sugarcane adsali' 'Sugarcane ratoon' 'Sugarcane suru'\n",
      " 'Sugarcane purvhangami' 'Erand' 'Fingarmilet (Nachani)' 'Fingermilet'\n",
      " 'Fingarmilet' 'Wheat' 'Desi' 'Bengal Gram' 'Sorgrhum.Jawar' 'Bengal'\n",
      " 'Rabbi Jowar' 'Gram' 'Rabi cereal' 'Jawat' 'Gram seed' 'Sorghum Rabi'\n",
      " 'Gram (leguminous)' 'Gram(legumolinous)']\n"
     ]
    },
    {
     "name": "stdin",
     "output_type": "stream",
     "text": [
      "Enter comma-separated unique values (or leave empty for all):  \n"
     ]
    },
    {
     "name": "stdout",
     "output_type": "stream",
     "text": [
      "2022/Meghalaya/MG_01JAN22_31DEC22/BhuvanFASAL20230124102033.zip\n"
     ]
    },
    {
     "name": "stdin",
     "output_type": "stream",
     "text": [
      "continue or skip s\n"
     ]
    },
    {
     "name": "stdout",
     "output_type": "stream",
     "text": [
      "2022/Odisha/OD_01JAN22_30SEP22/BhuvanFASAL2022112380755.zip\n"
     ]
    },
    {
     "name": "stdin",
     "output_type": "stream",
     "text": [
      "continue or skip s\n"
     ]
    },
    {
     "name": "stdout",
     "output_type": "stream",
     "text": [
      "2022/Odisha/OD_01OCT22_31DEC22/BhuvanFASAL2022112460659.zip\n"
     ]
    },
    {
     "name": "stdin",
     "output_type": "stream",
     "text": [
      "continue or skip c\n"
     ]
    },
    {
     "name": "stdout",
     "output_type": "stream",
     "text": [
      "BhuvanFASAL2022112460659.shp\n",
      "Available attributes: ['sid', 'date_time', 'apptype', 'photo1', 'photo2', 'rojectname', 'themename', 'rofilename', 'servername', 'org', 'mobileno', 'eationtime', 'uuid', 'deviceid', 'ictvillage', 'ieldsiteid', 'typeofcrop', 'fcropfield', 'rowthstage', 'hcondition', 'eronground', 'ropvariety', 'teofsowing', 'opsinfield', 'lcondition', 'herremarks', 'photos', 'photostext', 'geometry']\n",
      "Unique values in selected column: ['Paddy' 'NONPADDY' 'PADDY' 'Millet' 'RICE' 'Sugarcane' 'PAddy' 'Nonpaddy'\n",
      " 'Rice' 'Paddy crop' 'HYV(Swarna)' 'Ragi' 'Cereal crops (paddy)'\n",
      " 'Cereal crops paddy' 'Horse gram' 'Til' 'Blackgram' 'Arhar'\n",
      " 'high yield crop paddy' 'Paddu' 'Sesamum' 'paddy' 'Black Gram' nan\n",
      " 'HIGH YIELDING' 'Non-paddy' 'Nonpaddy(Green gram)' 'Non-Paddy'\n",
      " '20221007-009' 'Sadhana' 'Paddt' 'MAIZE' 'Groundnut' 'Cotton( Nonpaddy)'\n",
      " 'pasdy' 'Pady' 'Oilseed' 'Biri' 'Sesamom' 'Arahar' 'Cereal' 'Ground nut'\n",
      " 'Cotton' 'Pulse' 'Ginger' 'Banana' 'Okra' 'Maize' 'Radish' 'Tomato'\n",
      " 'Rasi' 'Moong' 'Horsegram' 'Non paddy' 'Biri Non paddy' 'Padd' 'Cowpee'\n",
      " 'Mung' 'Till' 'Sponge gourd' 'Green gram' 'Khariff' 'Black gram' 'Kulthi'\n",
      " 'Vegetable' 'Paddy and non paddy' 'Sweetcorn' 'Sesame' 'Hybrid' 'Millets'\n",
      " 'Aarhar' 'Arhar and paddy' 'Cereal Crop' 'Cereal crop (Paddy)'\n",
      " 'Cereal Crop (Paddy)' 'Cereals Crop (Paddy)' 'Paddy 80m100m']\n"
     ]
    },
    {
     "name": "stdin",
     "output_type": "stream",
     "text": [
      "Enter comma-separated unique values (or leave empty for all):  \n"
     ]
    },
    {
     "name": "stdout",
     "output_type": "stream",
     "text": [
      "2022/Punjab/PB_01JAN22_31DEC22/BhuvanFASAL2023011844758.zip\n"
     ]
    },
    {
     "name": "stdin",
     "output_type": "stream",
     "text": [
      "continue or skip s\n"
     ]
    },
    {
     "name": "stdout",
     "output_type": "stream",
     "text": [
      "2022/Rajasthan/1May_27Aug/BhuvanFASAL20230529121250.zip\n"
     ]
    },
    {
     "name": "stdin",
     "output_type": "stream",
     "text": [
      "continue or skip s\n"
     ]
    },
    {
     "name": "stdout",
     "output_type": "stream",
     "text": [
      "2022/Rajasthan/RJ_01JAN22_30APR22/BhuvanFASAL2023041265508.zip\n"
     ]
    },
    {
     "name": "stdin",
     "output_type": "stream",
     "text": [
      "continue or skip s\n"
     ]
    },
    {
     "name": "stdout",
     "output_type": "stream",
     "text": [
      "2022/Rajasthan/RJ_01OCT22_31JAN23/BhuvanFASAL2023011352926.zip\n"
     ]
    },
    {
     "name": "stdin",
     "output_type": "stream",
     "text": [
      "continue or skip c\n"
     ]
    },
    {
     "name": "stdout",
     "output_type": "stream",
     "text": [
      "BhuvanFASAL2023011352926.shp\n",
      "Available attributes: ['sid', 'date_time', 'apptype', 'photo1', 'photo2', 'rojectname', 'themename', 'rofilename', 'servername', 'org', 'mobileno', 'eationtime', 'uuid', 'deviceid', 'ictvillage', 'ieldsiteid', 'typeofcrop', 'fcropfield', 'rowthstage', 'hcondition', 'eronground', 'ropvariety', 'teofsowing', 'opsinfield', 'lcondition', 'herremarks', 'photos', 'photostext', 'geometry']\n",
      "Unique values in selected column: ['Ground nut' 'Cottan' 'HG365' 'Bajra' 'Soybena' 'Soybaan' 'Guar'\n",
      " 'Soybean' 'Paddy' 'Bajara' 'Gaur' nan 'gawar' 'Gawer' 'Gawar' 'Soyabean'\n",
      " 'Soyabin' 'Cotton' 'Moong' 'Sesasum' 'Soyabin2' 'Soyabin3' 'Js2039'\n",
      " 'Soyabin 6' 'Soyavin' 'Local' 'Shoyabin' 'Til' 'Groundnut' 'Bad'\n",
      " 'Soyabine' 'Maize' 'Sesame' 'Sesuam' 'Penaut' 'Shoyabeen' 'Wheat'\n",
      " 'Simple' 'Ghuruhugunt' 'Onion' 'Methi' 'Cauliflower' 'FullGobhi'\n",
      " 'Mungfuli' 'Mustard' 'No' 'Hybrid' 'Musterd' 'Demo' 'MUSTURD' 'MUSTARD'\n",
      " 'Carrot' 'Musturd' 'Barley' 'Good' 'Mustard crop' 'Mustered' 'Rijka'\n",
      " 'Gram' 'Saunaph' 'Masturd' 'mustard' 'Barely' 'Shreeram' 'Bassi'\n",
      " 'Mustarf' 'MUSTRAD' 'Mustard rabi' 'Mustatd' 'Mustrad' 'musturd' 'Raya'\n",
      " 'M' 'Mastard' 'Lentil' 'Wheat rabi' 'Rabi' 'Mustrud' 'LENTIL' 'GRAM'\n",
      " 'Mustrd' 'Mustred']\n"
     ]
    },
    {
     "name": "stdin",
     "output_type": "stream",
     "text": [
      "Enter comma-separated unique values (or leave empty for all):  Mustard,Musterd,MUSTURD,MUSTARD,Musturd,Mustard crop,Mustered,Masturd,mustard,Mustarf,MUSTRAD,Mustard rabi,Mustatd,Mustrad,musturd,Mastard,Mustrud,Mustrd,Mustred\n"
     ]
    },
    {
     "name": "stdout",
     "output_type": "stream",
     "text": [
      "2022/Rajasthan/RJ_01OCT22_31JAN23/BhuvanFASAL2023011755338.zip\n"
     ]
    },
    {
     "name": "stdin",
     "output_type": "stream",
     "text": [
      "continue or skip c\n"
     ]
    },
    {
     "name": "stdout",
     "output_type": "stream",
     "text": [
      "BhuvanFASAL2023011755338.shp\n",
      "Available attributes: ['sid', 'date_time', 'apptype', 'photo1', 'photo2', 'rojectname', 'themename', 'rofilename', 'servername', 'org', 'mobileno', 'eationtime', 'uuid', 'deviceid', 'ictvillage', 'ieldsiteid', 'typeofcrop', 'fcropfield', 'rowthstage', 'hcondition', 'eronground', 'ropvariety', 'teofsowing', 'opsinfield', 'lcondition', 'herremarks', 'photos', 'photostext', 'geometry']\n",
      "Unique values in selected column: ['Mustard' 'musturd' 'Wheat' 'Mustered' 'Bassi' 'wheat' 'Raya' 'mustard'\n",
      " 'M' 'Musturd' 'Mastard' 'Gram' 'Lentil' 'Masoor' 'Musterd' nan\n",
      " 'Wheat rabi' 'Rabi' 'Mustrud' 'LENTIL' 'GRAM' 'Mustrad' 'MUSTARD'\n",
      " 'Mustrd' 'Mustred' 'Mustarf' 'Musrard' 'Muastard' 'Mustured' 'musterd'\n",
      " 'Mursted' 'Musteard' 'Normal' 'Masturd' 'Mustatd' 'Wheet' 'WHEAT' 'Whea'\n",
      " 'Mus']\n"
     ]
    },
    {
     "name": "stdin",
     "output_type": "stream",
     "text": [
      "Enter comma-separated unique values (or leave empty for all):  Mustard,musturd,Mustered,mustard,Musturd,Mastard,Musterd,Mustrad,MUSTARD,Mustrd,Mustred,Mustarf,Mustard,Muastard,Mustured,musterd,Mursted,Musteard,Masturd,Mustatd,Mus\n"
     ]
    },
    {
     "name": "stdout",
     "output_type": "stream",
     "text": [
      "2022/Tamil Nadu/TN_01JAN22_31DEC22/BhuvanFASAL20230124102622.zip\n"
     ]
    },
    {
     "name": "stdin",
     "output_type": "stream",
     "text": [
      "continue or skip s\n"
     ]
    },
    {
     "name": "stdout",
     "output_type": "stream",
     "text": [
      "2022/Telangana/TL_01JAN22_31DEC22/BhuvanFASAL2023012744323.zip\n"
     ]
    },
    {
     "name": "stdin",
     "output_type": "stream",
     "text": [
      "continue or skip s\n"
     ]
    },
    {
     "name": "stdout",
     "output_type": "stream",
     "text": [
      "2022/Uttar Pradesh/UP_01JAN22_31MAR22/BhuvanFASAL2022102034843.zip\n"
     ]
    },
    {
     "name": "stdin",
     "output_type": "stream",
     "text": [
      "continue or skip s\n"
     ]
    },
    {
     "name": "stdout",
     "output_type": "stream",
     "text": [
      "2022/Uttar Pradesh/UP_01JUL22_30SEP22/BhuvanFASAL2022102145005.zip\n"
     ]
    },
    {
     "name": "stdin",
     "output_type": "stream",
     "text": [
      "continue or skip s\n"
     ]
    },
    {
     "name": "stdout",
     "output_type": "stream",
     "text": [
      "2022/Uttarakhand/UK_01JAN22_31DEC22/BhuvanFASAL20230124110449.zip\n"
     ]
    },
    {
     "name": "stdin",
     "output_type": "stream",
     "text": [
      "continue or skip s\n"
     ]
    }
   ],
   "source": [
    "def get_zip_file_paths(folder_path):\n",
    "    zip_file_paths = []\n",
    "    \n",
    "    for root, dirs, files in os.walk(folder_path):\n",
    "        for file in files:\n",
    "            if file.endswith('.zip'):\n",
    "                zip_file_paths.append(os.path.join(root, file))\n",
    "    \n",
    "    return zip_file_paths\n",
    "\n",
    "folder_name = \"2022\"  # Replace with the desired folder path\n",
    "zip_paths = get_zip_file_paths(folder_name)\n",
    "# print(zip_paths)\n",
    "# zip_read(zip_paths[0])\n",
    "for file in zip_paths:\n",
    "    print(file)\n",
    "    choice = input(\"continue or skip\")\n",
    "    if choice == 'c':\n",
    "        zip_read(file)\n"
   ]
  },
  {
   "cell_type": "code",
   "execution_count": 8,
   "id": "ae5ccb6f-c869-4605-9cad-0edd056a6730",
   "metadata": {},
   "outputs": [],
   "source": [
    "final_gdf = gpd.GeoDataFrame(pd.concat(results, ignore_index=True), geometry='geometry')\n",
    "final_gdf.to_csv('/wadhwani_kdss/c_drive/Users/user/abhijeeth/raw_mustard_data.csv',index=False)"
   ]
  },
  {
   "cell_type": "code",
   "execution_count": 9,
   "id": "05485772-db2d-414e-999f-fdfb276d66d6",
   "metadata": {},
   "outputs": [
    {
     "data": {
      "text/html": [
       "<div>\n",
       "<style scoped>\n",
       "    .dataframe tbody tr th:only-of-type {\n",
       "        vertical-align: middle;\n",
       "    }\n",
       "\n",
       "    .dataframe tbody tr th {\n",
       "        vertical-align: top;\n",
       "    }\n",
       "\n",
       "    .dataframe thead th {\n",
       "        text-align: right;\n",
       "    }\n",
       "</style>\n",
       "<table border=\"1\" class=\"dataframe\">\n",
       "  <thead>\n",
       "    <tr style=\"text-align: right;\">\n",
       "      <th></th>\n",
       "      <th>geometry</th>\n",
       "      <th>latitude</th>\n",
       "      <th>longitude</th>\n",
       "      <th>selected_column</th>\n",
       "      <th>sid</th>\n",
       "      <th>date_time</th>\n",
       "      <th>apptype</th>\n",
       "      <th>photo1</th>\n",
       "      <th>photo2</th>\n",
       "      <th>rojectname</th>\n",
       "      <th>...</th>\n",
       "      <th>rowthstage</th>\n",
       "      <th>hcondition</th>\n",
       "      <th>eronground</th>\n",
       "      <th>ropvariety</th>\n",
       "      <th>teofsowing</th>\n",
       "      <th>opsinfield</th>\n",
       "      <th>lcondition</th>\n",
       "      <th>herremarks</th>\n",
       "      <th>photos</th>\n",
       "      <th>photostext</th>\n",
       "    </tr>\n",
       "  </thead>\n",
       "  <tbody>\n",
       "    <tr>\n",
       "      <th>0</th>\n",
       "      <td>POINT (84.16813 26.62269)</td>\n",
       "      <td>NaN</td>\n",
       "      <td>NaN</td>\n",
       "      <td>NaN</td>\n",
       "      <td>5604933.0</td>\n",
       "      <td>2023-02-24</td>\n",
       "      <td>fdc</td>\n",
       "      <td>photo1_fdc_BhuvanFASAL_FDCBhuvanFASAL1dot3_FAS...</td>\n",
       "      <td>photo2_fdc_BhuvanFASAL_FDCBhuvanFASAL1dot3_FAS...</td>\n",
       "      <td>BhuvanFASAL</td>\n",
       "      <td>...</td>\n",
       "      <td>Flowering</td>\n",
       "      <td>Average</td>\n",
       "      <td>61-80</td>\n",
       "      <td>Pys-1</td>\n",
       "      <td>20112022</td>\n",
       "      <td>No</td>\n",
       "      <td>Moist</td>\n",
       "      <td>Ok</td>\n",
       "      <td>photo1_fdc_BhuvanFASAL_FDCBhuvanFASAL1dot3_FAS...</td>\n",
       "      <td>,</td>\n",
       "    </tr>\n",
       "    <tr>\n",
       "      <th>1</th>\n",
       "      <td>POINT (84.16491 26.56208)</td>\n",
       "      <td>NaN</td>\n",
       "      <td>NaN</td>\n",
       "      <td>NaN</td>\n",
       "      <td>5605106.0</td>\n",
       "      <td>2023-02-24</td>\n",
       "      <td>fdc</td>\n",
       "      <td>photo1_fdc_BhuvanFASAL_FDCBhuvanFASAL1dot3_FAS...</td>\n",
       "      <td>photo2_fdc_BhuvanFASAL_FDCBhuvanFASAL1dot3_FAS...</td>\n",
       "      <td>BhuvanFASAL</td>\n",
       "      <td>...</td>\n",
       "      <td>Maturity</td>\n",
       "      <td>Good</td>\n",
       "      <td>80</td>\n",
       "      <td>Hybrid</td>\n",
       "      <td>21112022</td>\n",
       "      <td>No</td>\n",
       "      <td>Moist</td>\n",
       "      <td>No</td>\n",
       "      <td>photo1_fdc_BhuvanFASAL_FDCBhuvanFASAL1dot3_FAS...</td>\n",
       "      <td>,</td>\n",
       "    </tr>\n",
       "    <tr>\n",
       "      <th>2</th>\n",
       "      <td>POINT (84.20059 26.55733)</td>\n",
       "      <td>NaN</td>\n",
       "      <td>NaN</td>\n",
       "      <td>NaN</td>\n",
       "      <td>5605546.0</td>\n",
       "      <td>2023-02-25</td>\n",
       "      <td>fdc</td>\n",
       "      <td>photo1_fdc_BhuvanFASAL_FDCBhuvanFASAL1dot3_FAS...</td>\n",
       "      <td>photo2_fdc_BhuvanFASAL_FDCBhuvanFASAL1dot3_FAS...</td>\n",
       "      <td>BhuvanFASAL</td>\n",
       "      <td>...</td>\n",
       "      <td>Flowering</td>\n",
       "      <td>Average</td>\n",
       "      <td>61-80</td>\n",
       "      <td>DDW47</td>\n",
       "      <td>20112022</td>\n",
       "      <td>No</td>\n",
       "      <td>Moist</td>\n",
       "      <td>Ok</td>\n",
       "      <td>photo1_fdc_BhuvanFASAL_FDCBhuvanFASAL1dot3_FAS...</td>\n",
       "      <td>,</td>\n",
       "    </tr>\n",
       "    <tr>\n",
       "      <th>3</th>\n",
       "      <td>POINT (80.75560 21.09516)</td>\n",
       "      <td>NaN</td>\n",
       "      <td>NaN</td>\n",
       "      <td>NaN</td>\n",
       "      <td>5593512.0</td>\n",
       "      <td>2023-02-02</td>\n",
       "      <td>fdc</td>\n",
       "      <td>photo1_fdc_BhuvanFASAL_FDCBhuvanFASAL1dot3_FAS...</td>\n",
       "      <td>photo2_fdc_BhuvanFASAL_FDCBhuvanFASAL1dot3_FAS...</td>\n",
       "      <td>BhuvanFASAL</td>\n",
       "      <td>...</td>\n",
       "      <td>Flowering</td>\n",
       "      <td>Good</td>\n",
       "      <td>80</td>\n",
       "      <td>NaN</td>\n",
       "      <td>23112022</td>\n",
       "      <td>NaN</td>\n",
       "      <td>Moist</td>\n",
       "      <td>NaN</td>\n",
       "      <td>photo1_fdc_BhuvanFASAL_FDCBhuvanFASAL1dot3_FAS...</td>\n",
       "      <td>,</td>\n",
       "    </tr>\n",
       "    <tr>\n",
       "      <th>4</th>\n",
       "      <td>POINT (80.76268 21.09465)</td>\n",
       "      <td>NaN</td>\n",
       "      <td>NaN</td>\n",
       "      <td>NaN</td>\n",
       "      <td>5593547.0</td>\n",
       "      <td>2023-02-02</td>\n",
       "      <td>fdc</td>\n",
       "      <td>photo1_fdc_BhuvanFASAL_FDCBhuvanFASAL1dot3_FAS...</td>\n",
       "      <td>photo2_fdc_BhuvanFASAL_FDCBhuvanFASAL1dot3_FAS...</td>\n",
       "      <td>BhuvanFASAL</td>\n",
       "      <td>...</td>\n",
       "      <td>Others:- Frouit forming</td>\n",
       "      <td>Good</td>\n",
       "      <td>80</td>\n",
       "      <td>NaN</td>\n",
       "      <td>26112022</td>\n",
       "      <td>NaN</td>\n",
       "      <td>Moist</td>\n",
       "      <td>NaN</td>\n",
       "      <td>photo1_fdc_BhuvanFASAL_FDCBhuvanFASAL1dot3_FAS...</td>\n",
       "      <td>,</td>\n",
       "    </tr>\n",
       "    <tr>\n",
       "      <th>...</th>\n",
       "      <td>...</td>\n",
       "      <td>...</td>\n",
       "      <td>...</td>\n",
       "      <td>...</td>\n",
       "      <td>...</td>\n",
       "      <td>...</td>\n",
       "      <td>...</td>\n",
       "      <td>...</td>\n",
       "      <td>...</td>\n",
       "      <td>...</td>\n",
       "      <td>...</td>\n",
       "      <td>...</td>\n",
       "      <td>...</td>\n",
       "      <td>...</td>\n",
       "      <td>...</td>\n",
       "      <td>...</td>\n",
       "      <td>...</td>\n",
       "      <td>...</td>\n",
       "      <td>...</td>\n",
       "      <td>...</td>\n",
       "      <td>...</td>\n",
       "    </tr>\n",
       "    <tr>\n",
       "      <th>7236</th>\n",
       "      <td>POINT (75.90048 26.11097)</td>\n",
       "      <td>NaN</td>\n",
       "      <td>NaN</td>\n",
       "      <td>NaN</td>\n",
       "      <td>5580872.0</td>\n",
       "      <td>2023-01-16</td>\n",
       "      <td>fdc</td>\n",
       "      <td>photo1_fdc_BhuvanFASAL_FDCBhuvanFASAL1dot3_FAS...</td>\n",
       "      <td>photo2_fdc_BhuvanFASAL_FDCBhuvanFASAL1dot3_FAS...</td>\n",
       "      <td>BhuvanFASAL</td>\n",
       "      <td>...</td>\n",
       "      <td>Flowering</td>\n",
       "      <td>Average</td>\n",
       "      <td>61-80</td>\n",
       "      <td>Shree krishna</td>\n",
       "      <td>16102022</td>\n",
       "      <td>No</td>\n",
       "      <td>Dry</td>\n",
       "      <td>No</td>\n",
       "      <td>photo1_fdc_BhuvanFASAL_FDCBhuvanFASAL1dot3_FAS...</td>\n",
       "      <td>,</td>\n",
       "    </tr>\n",
       "    <tr>\n",
       "      <th>7237</th>\n",
       "      <td>POINT (76.36567 27.99353)</td>\n",
       "      <td>NaN</td>\n",
       "      <td>NaN</td>\n",
       "      <td>NaN</td>\n",
       "      <td>5580802.0</td>\n",
       "      <td>2023-01-16</td>\n",
       "      <td>fdc</td>\n",
       "      <td>photo1_fdc_BhuvanFASAL_FDCBhuvanFASAL1dot3_FAS...</td>\n",
       "      <td>photo2_fdc_BhuvanFASAL_FDCBhuvanFASAL1dot3_FAS...</td>\n",
       "      <td>BhuvanFASAL</td>\n",
       "      <td>...</td>\n",
       "      <td>Flowering</td>\n",
       "      <td>Average</td>\n",
       "      <td>80</td>\n",
       "      <td>NaN</td>\n",
       "      <td>NaN</td>\n",
       "      <td>NaN</td>\n",
       "      <td>Moist</td>\n",
       "      <td>NaN</td>\n",
       "      <td>photo1_fdc_BhuvanFASAL_FDCBhuvanFASAL1dot3_FAS...</td>\n",
       "      <td>,</td>\n",
       "    </tr>\n",
       "    <tr>\n",
       "      <th>7238</th>\n",
       "      <td>POINT (75.87745 26.11805)</td>\n",
       "      <td>NaN</td>\n",
       "      <td>NaN</td>\n",
       "      <td>NaN</td>\n",
       "      <td>5580874.0</td>\n",
       "      <td>2023-01-16</td>\n",
       "      <td>fdc</td>\n",
       "      <td>photo1_fdc_BhuvanFASAL_FDCBhuvanFASAL1dot3_FAS...</td>\n",
       "      <td>photo2_fdc_BhuvanFASAL_FDCBhuvanFASAL1dot3_FAS...</td>\n",
       "      <td>BhuvanFASAL</td>\n",
       "      <td>...</td>\n",
       "      <td>Flowering</td>\n",
       "      <td>Good</td>\n",
       "      <td>41-60</td>\n",
       "      <td>Poineer</td>\n",
       "      <td>14102022</td>\n",
       "      <td>No</td>\n",
       "      <td>Dry</td>\n",
       "      <td>No</td>\n",
       "      <td>photo1_fdc_BhuvanFASAL_FDCBhuvanFASAL1dot3_FAS...</td>\n",
       "      <td>,</td>\n",
       "    </tr>\n",
       "    <tr>\n",
       "      <th>7239</th>\n",
       "      <td>POINT (76.72536 27.81159)</td>\n",
       "      <td>NaN</td>\n",
       "      <td>NaN</td>\n",
       "      <td>NaN</td>\n",
       "      <td>5580975.0</td>\n",
       "      <td>2023-01-17</td>\n",
       "      <td>fdc</td>\n",
       "      <td>photo1_fdc_BhuvanFASAL_FDCBhuvanFASAL1dot3_FAS...</td>\n",
       "      <td>photo2_fdc_BhuvanFASAL_FDCBhuvanFASAL1dot3_FAS...</td>\n",
       "      <td>BhuvanFASAL</td>\n",
       "      <td>...</td>\n",
       "      <td>Flowering</td>\n",
       "      <td>Good</td>\n",
       "      <td>80</td>\n",
       "      <td>Pioneer</td>\n",
       "      <td>15102022</td>\n",
       "      <td>No</td>\n",
       "      <td>Moist</td>\n",
       "      <td>Ok</td>\n",
       "      <td>photo1_fdc_BhuvanFASAL_FDCBhuvanFASAL1dot3_FAS...</td>\n",
       "      <td>,</td>\n",
       "    </tr>\n",
       "    <tr>\n",
       "      <th>7240</th>\n",
       "      <td>POINT (73.78509 26.50751)</td>\n",
       "      <td>NaN</td>\n",
       "      <td>NaN</td>\n",
       "      <td>NaN</td>\n",
       "      <td>5581009.0</td>\n",
       "      <td>2023-01-17</td>\n",
       "      <td>fdc</td>\n",
       "      <td>photo1_fdc_BhuvanFASAL_FDCBhuvanFASAL1dot3_FAS...</td>\n",
       "      <td>photo2_fdc_BhuvanFASAL_FDCBhuvanFASAL1dot3_FAS...</td>\n",
       "      <td>BhuvanFASAL</td>\n",
       "      <td>...</td>\n",
       "      <td>Maturity</td>\n",
       "      <td>Good</td>\n",
       "      <td>80</td>\n",
       "      <td>Nuzeevidu seeds</td>\n",
       "      <td>02102022</td>\n",
       "      <td>Not</td>\n",
       "      <td>Moist</td>\n",
       "      <td>Very good condition crop.maximum production</td>\n",
       "      <td>photo1_fdc_BhuvanFASAL_FDCBhuvanFASAL1dot3_FAS...</td>\n",
       "      <td>,</td>\n",
       "    </tr>\n",
       "  </tbody>\n",
       "</table>\n",
       "<p>7241 rows × 32 columns</p>\n",
       "</div>"
      ],
      "text/plain": [
       "                       geometry latitude longitude selected_column        sid  \\\n",
       "0     POINT (84.16813 26.62269)      NaN       NaN             NaN  5604933.0   \n",
       "1     POINT (84.16491 26.56208)      NaN       NaN             NaN  5605106.0   \n",
       "2     POINT (84.20059 26.55733)      NaN       NaN             NaN  5605546.0   \n",
       "3     POINT (80.75560 21.09516)      NaN       NaN             NaN  5593512.0   \n",
       "4     POINT (80.76268 21.09465)      NaN       NaN             NaN  5593547.0   \n",
       "...                         ...      ...       ...             ...        ...   \n",
       "7236  POINT (75.90048 26.11097)      NaN       NaN             NaN  5580872.0   \n",
       "7237  POINT (76.36567 27.99353)      NaN       NaN             NaN  5580802.0   \n",
       "7238  POINT (75.87745 26.11805)      NaN       NaN             NaN  5580874.0   \n",
       "7239  POINT (76.72536 27.81159)      NaN       NaN             NaN  5580975.0   \n",
       "7240  POINT (73.78509 26.50751)      NaN       NaN             NaN  5581009.0   \n",
       "\n",
       "       date_time apptype                                             photo1  \\\n",
       "0     2023-02-24     fdc  photo1_fdc_BhuvanFASAL_FDCBhuvanFASAL1dot3_FAS...   \n",
       "1     2023-02-24     fdc  photo1_fdc_BhuvanFASAL_FDCBhuvanFASAL1dot3_FAS...   \n",
       "2     2023-02-25     fdc  photo1_fdc_BhuvanFASAL_FDCBhuvanFASAL1dot3_FAS...   \n",
       "3     2023-02-02     fdc  photo1_fdc_BhuvanFASAL_FDCBhuvanFASAL1dot3_FAS...   \n",
       "4     2023-02-02     fdc  photo1_fdc_BhuvanFASAL_FDCBhuvanFASAL1dot3_FAS...   \n",
       "...          ...     ...                                                ...   \n",
       "7236  2023-01-16     fdc  photo1_fdc_BhuvanFASAL_FDCBhuvanFASAL1dot3_FAS...   \n",
       "7237  2023-01-16     fdc  photo1_fdc_BhuvanFASAL_FDCBhuvanFASAL1dot3_FAS...   \n",
       "7238  2023-01-16     fdc  photo1_fdc_BhuvanFASAL_FDCBhuvanFASAL1dot3_FAS...   \n",
       "7239  2023-01-17     fdc  photo1_fdc_BhuvanFASAL_FDCBhuvanFASAL1dot3_FAS...   \n",
       "7240  2023-01-17     fdc  photo1_fdc_BhuvanFASAL_FDCBhuvanFASAL1dot3_FAS...   \n",
       "\n",
       "                                                 photo2   rojectname  ...  \\\n",
       "0     photo2_fdc_BhuvanFASAL_FDCBhuvanFASAL1dot3_FAS...  BhuvanFASAL  ...   \n",
       "1     photo2_fdc_BhuvanFASAL_FDCBhuvanFASAL1dot3_FAS...  BhuvanFASAL  ...   \n",
       "2     photo2_fdc_BhuvanFASAL_FDCBhuvanFASAL1dot3_FAS...  BhuvanFASAL  ...   \n",
       "3     photo2_fdc_BhuvanFASAL_FDCBhuvanFASAL1dot3_FAS...  BhuvanFASAL  ...   \n",
       "4     photo2_fdc_BhuvanFASAL_FDCBhuvanFASAL1dot3_FAS...  BhuvanFASAL  ...   \n",
       "...                                                 ...          ...  ...   \n",
       "7236  photo2_fdc_BhuvanFASAL_FDCBhuvanFASAL1dot3_FAS...  BhuvanFASAL  ...   \n",
       "7237  photo2_fdc_BhuvanFASAL_FDCBhuvanFASAL1dot3_FAS...  BhuvanFASAL  ...   \n",
       "7238  photo2_fdc_BhuvanFASAL_FDCBhuvanFASAL1dot3_FAS...  BhuvanFASAL  ...   \n",
       "7239  photo2_fdc_BhuvanFASAL_FDCBhuvanFASAL1dot3_FAS...  BhuvanFASAL  ...   \n",
       "7240  photo2_fdc_BhuvanFASAL_FDCBhuvanFASAL1dot3_FAS...  BhuvanFASAL  ...   \n",
       "\n",
       "                   rowthstage hcondition eronground       ropvariety  \\\n",
       "0                   Flowering    Average      61-80            Pys-1   \n",
       "1                    Maturity       Good         80           Hybrid   \n",
       "2                   Flowering    Average      61-80            DDW47   \n",
       "3                   Flowering       Good         80              NaN   \n",
       "4     Others:- Frouit forming       Good         80              NaN   \n",
       "...                       ...        ...        ...              ...   \n",
       "7236                Flowering    Average      61-80    Shree krishna   \n",
       "7237                Flowering    Average         80              NaN   \n",
       "7238                Flowering       Good      41-60          Poineer   \n",
       "7239                Flowering       Good         80          Pioneer   \n",
       "7240                 Maturity       Good         80  Nuzeevidu seeds   \n",
       "\n",
       "     teofsowing opsinfield lcondition  \\\n",
       "0      20112022         No      Moist   \n",
       "1      21112022         No      Moist   \n",
       "2      20112022         No      Moist   \n",
       "3      23112022        NaN      Moist   \n",
       "4      26112022        NaN      Moist   \n",
       "...         ...        ...        ...   \n",
       "7236   16102022         No        Dry   \n",
       "7237        NaN        NaN      Moist   \n",
       "7238   14102022         No        Dry   \n",
       "7239   15102022         No      Moist   \n",
       "7240   02102022        Not      Moist   \n",
       "\n",
       "                                       herremarks  \\\n",
       "0                                              Ok   \n",
       "1                                              No   \n",
       "2                                              Ok   \n",
       "3                                             NaN   \n",
       "4                                             NaN   \n",
       "...                                           ...   \n",
       "7236                                           No   \n",
       "7237                                          NaN   \n",
       "7238                                           No   \n",
       "7239                                           Ok   \n",
       "7240  Very good condition crop.maximum production   \n",
       "\n",
       "                                                 photos photostext  \n",
       "0     photo1_fdc_BhuvanFASAL_FDCBhuvanFASAL1dot3_FAS...          ,  \n",
       "1     photo1_fdc_BhuvanFASAL_FDCBhuvanFASAL1dot3_FAS...          ,  \n",
       "2     photo1_fdc_BhuvanFASAL_FDCBhuvanFASAL1dot3_FAS...          ,  \n",
       "3     photo1_fdc_BhuvanFASAL_FDCBhuvanFASAL1dot3_FAS...          ,  \n",
       "4     photo1_fdc_BhuvanFASAL_FDCBhuvanFASAL1dot3_FAS...          ,  \n",
       "...                                                 ...        ...  \n",
       "7236  photo1_fdc_BhuvanFASAL_FDCBhuvanFASAL1dot3_FAS...          ,  \n",
       "7237  photo1_fdc_BhuvanFASAL_FDCBhuvanFASAL1dot3_FAS...          ,  \n",
       "7238  photo1_fdc_BhuvanFASAL_FDCBhuvanFASAL1dot3_FAS...          ,  \n",
       "7239  photo1_fdc_BhuvanFASAL_FDCBhuvanFASAL1dot3_FAS...          ,  \n",
       "7240  photo1_fdc_BhuvanFASAL_FDCBhuvanFASAL1dot3_FAS...          ,  \n",
       "\n",
       "[7241 rows x 32 columns]"
      ]
     },
     "execution_count": 9,
     "metadata": {},
     "output_type": "execute_result"
    }
   ],
   "source": [
    "final_gdf"
   ]
  },
  {
   "cell_type": "code",
   "execution_count": 10,
   "id": "14dc8f32-be84-42e4-b15d-7d78a76b4f98",
   "metadata": {},
   "outputs": [],
   "source": [
    "final_gdf.drop(['sid','date_time','apptype','photo1','photo2','rojectname','servername','org'],axis=1,inplace=True)"
   ]
  },
  {
   "cell_type": "code",
   "execution_count": 11,
   "id": "132e6dca-680d-4e06-b644-13e38193a857",
   "metadata": {},
   "outputs": [],
   "source": [
    "final_gdf.drop(['themename','rofilename','mobileno','eationtime','uuid','deviceid','ictvillage','ieldsiteid','fcropfield'],axis=1,inplace=True)"
   ]
  },
  {
   "cell_type": "code",
   "execution_count": 12,
   "id": "4c4a3e56-149b-40fa-8632-aa21bf280b4d",
   "metadata": {},
   "outputs": [],
   "source": [
    "final_gdf.drop(['rowthstage','hcondition','eronground','ropvariety','teofsowing','opsinfield','lcondition','herremarks','photostext','latitude','longitude','selected_column'],axis=1,inplace=True)"
   ]
  },
  {
   "cell_type": "code",
   "execution_count": 13,
   "id": "42c9d1aa-2f11-455d-96c3-3c912c56ac05",
   "metadata": {},
   "outputs": [],
   "source": [
    "final_gdf.drop(['photos'],axis=1,inplace=True)"
   ]
  },
  {
   "cell_type": "code",
   "execution_count": 14,
   "id": "dfc8b573-fb30-4d82-857c-8199585bbe8a",
   "metadata": {},
   "outputs": [
    {
     "data": {
      "text/html": [
       "<div>\n",
       "<style scoped>\n",
       "    .dataframe tbody tr th:only-of-type {\n",
       "        vertical-align: middle;\n",
       "    }\n",
       "\n",
       "    .dataframe tbody tr th {\n",
       "        vertical-align: top;\n",
       "    }\n",
       "\n",
       "    .dataframe thead th {\n",
       "        text-align: right;\n",
       "    }\n",
       "</style>\n",
       "<table border=\"1\" class=\"dataframe\">\n",
       "  <thead>\n",
       "    <tr style=\"text-align: right;\">\n",
       "      <th></th>\n",
       "      <th>geometry</th>\n",
       "      <th>typeofcrop</th>\n",
       "    </tr>\n",
       "  </thead>\n",
       "  <tbody>\n",
       "    <tr>\n",
       "      <th>0</th>\n",
       "      <td>POINT (84.16813 26.62269)</td>\n",
       "      <td>Mustard</td>\n",
       "    </tr>\n",
       "    <tr>\n",
       "      <th>1</th>\n",
       "      <td>POINT (84.16491 26.56208)</td>\n",
       "      <td>Mustard</td>\n",
       "    </tr>\n",
       "    <tr>\n",
       "      <th>2</th>\n",
       "      <td>POINT (84.20059 26.55733)</td>\n",
       "      <td>Mustard</td>\n",
       "    </tr>\n",
       "    <tr>\n",
       "      <th>3</th>\n",
       "      <td>POINT (80.75560 21.09516)</td>\n",
       "      <td>Musterd</td>\n",
       "    </tr>\n",
       "    <tr>\n",
       "      <th>4</th>\n",
       "      <td>POINT (80.76268 21.09465)</td>\n",
       "      <td>Musterd</td>\n",
       "    </tr>\n",
       "    <tr>\n",
       "      <th>...</th>\n",
       "      <td>...</td>\n",
       "      <td>...</td>\n",
       "    </tr>\n",
       "    <tr>\n",
       "      <th>7236</th>\n",
       "      <td>POINT (75.90048 26.11097)</td>\n",
       "      <td>Mustard</td>\n",
       "    </tr>\n",
       "    <tr>\n",
       "      <th>7237</th>\n",
       "      <td>POINT (76.36567 27.99353)</td>\n",
       "      <td>Mustard</td>\n",
       "    </tr>\n",
       "    <tr>\n",
       "      <th>7238</th>\n",
       "      <td>POINT (75.87745 26.11805)</td>\n",
       "      <td>Mustard</td>\n",
       "    </tr>\n",
       "    <tr>\n",
       "      <th>7239</th>\n",
       "      <td>POINT (76.72536 27.81159)</td>\n",
       "      <td>Musterd</td>\n",
       "    </tr>\n",
       "    <tr>\n",
       "      <th>7240</th>\n",
       "      <td>POINT (73.78509 26.50751)</td>\n",
       "      <td>Mustard</td>\n",
       "    </tr>\n",
       "  </tbody>\n",
       "</table>\n",
       "<p>7241 rows × 2 columns</p>\n",
       "</div>"
      ],
      "text/plain": [
       "                       geometry typeofcrop\n",
       "0     POINT (84.16813 26.62269)    Mustard\n",
       "1     POINT (84.16491 26.56208)    Mustard\n",
       "2     POINT (84.20059 26.55733)    Mustard\n",
       "3     POINT (80.75560 21.09516)    Musterd\n",
       "4     POINT (80.76268 21.09465)    Musterd\n",
       "...                         ...        ...\n",
       "7236  POINT (75.90048 26.11097)    Mustard\n",
       "7237  POINT (76.36567 27.99353)    Mustard\n",
       "7238  POINT (75.87745 26.11805)    Mustard\n",
       "7239  POINT (76.72536 27.81159)    Musterd\n",
       "7240  POINT (73.78509 26.50751)    Mustard\n",
       "\n",
       "[7241 rows x 2 columns]"
      ]
     },
     "execution_count": 14,
     "metadata": {},
     "output_type": "execute_result"
    }
   ],
   "source": [
    "final_gdf"
   ]
  },
  {
   "cell_type": "code",
   "execution_count": 15,
   "id": "0695af15-bbdc-420f-a486-9c33f6135ae1",
   "metadata": {},
   "outputs": [],
   "source": [
    "final_gdf.to_csv('/wadhwani_kdss/c_drive/Users/user/abhijeeth/mustard_2023.csv',index=False)"
   ]
  },
  {
   "cell_type": "code",
   "execution_count": null,
   "id": "b311043b-8181-428c-916e-cbeabfaa2c65",
   "metadata": {},
   "outputs": [],
   "source": []
  }
 ],
 "metadata": {
  "kernelspec": {
   "display_name": "Python 3 (ipykernel)",
   "language": "python",
   "name": "python3"
  },
  "language_info": {
   "codemirror_mode": {
    "name": "ipython",
    "version": 3
   },
   "file_extension": ".py",
   "mimetype": "text/x-python",
   "name": "python",
   "nbconvert_exporter": "python",
   "pygments_lexer": "ipython3",
   "version": "3.9.17"
  }
 },
 "nbformat": 4,
 "nbformat_minor": 5
}
