{
 "cells": [
  {
   "cell_type": "code",
   "execution_count": 1,
   "id": "a89f36f7-0d7c-4f52-8f21-37b28dbd7005",
   "metadata": {},
   "outputs": [],
   "source": [
    "import os\n",
    "import shutil\n",
    "import geopandas as gpd\n",
    "import pandas as pd\n",
    "from zipfile import ZipFile\n",
    "import zipfile as zp"
   ]
  },
  {
   "cell_type": "code",
   "execution_count": 2,
   "id": "7b2010a0-6cdc-4e45-bdf7-84f122fce340",
   "metadata": {},
   "outputs": [
    {
     "data": {
      "text/plain": [
       "'/wadhwani_kdss/e_drive/MNCFC_GT_CCE_Repository'"
      ]
     },
     "execution_count": 2,
     "metadata": {},
     "output_type": "execute_result"
    }
   ],
   "source": [
    "import os\n",
    "os.chdir(\"/wadhwani_kdss/e_drive/MNCFC_GT_CCE_Repository\")\n",
    "os.getcwd()"
   ]
  },
  {
   "cell_type": "code",
   "execution_count": 3,
   "id": "e64d7022-f259-4e97-845b-4627214773ce",
   "metadata": {},
   "outputs": [],
   "source": [
    "def process_shapefile(shapefile_path):\n",
    "    # Read the shapefile using geopandas\n",
    "    gdf = gpd.read_file(shapefile_path)\n",
    "    \n",
    "    # Get the list of attribute/column names in the shapefile\n",
    "    attributes = list(gdf.columns)\n",
    "    print(\"Available attributes:\", attributes)\n",
    "    \n",
    "    # Ask the user to input the name of the column they want to use\n",
    "    selected_column = \"typeofcrop\"\n",
    "    \n",
    "    # Check if the selected column name is in the list of attributes\n",
    "    if selected_column not in attributes:\n",
    "        print(\"Selected column not found.\")\n",
    "        selected_column= input()\n",
    "    \n",
    "    # Get the unique values present in the selected column\n",
    "    unique_values = gdf[selected_column].unique()\n",
    "    print(\"Unique values in selected column:\", unique_values)\n",
    "    \n",
    "    # Ask the user to input specific unique values or leave empty to select all\n",
    "    selected_values = input(\"Enter comma-separated unique values (or leave empty for all): \")\n",
    "    if selected_values:\n",
    "        # If user input is not empty, split the input into a list of values\n",
    "        selected_values = [value.strip() for value in selected_values.split(',')]\n",
    "        \n",
    "        # Filter the GeoDataFrame to include only rows with selected unique values\n",
    "        filtered_gdf = gdf[gdf[selected_column].isin(selected_values)]\n",
    "    else:\n",
    "        # Return an empty GeoDataFrame\n",
    "        filtered_gdf = gpd.GeoDataFrame(columns=['geometry', 'latitude', 'longitude', 'selected_column'])\n",
    "    # Return the filtered GeoDataFrame\n",
    "    return filtered_gdf\n"
   ]
  },
  {
   "cell_type": "code",
   "execution_count": 4,
   "id": "7d5fa354-eefc-4cc1-800f-e8c786d6f898",
   "metadata": {},
   "outputs": [],
   "source": [
    "results=[]"
   ]
  },
  {
   "cell_type": "code",
   "execution_count": 5,
   "id": "cee0bb09-a9d3-4c76-96aa-75fd3d966439",
   "metadata": {},
   "outputs": [],
   "source": [
    "def zip_read(zip_path):\n",
    "    archive = zp.ZipFile(zip_path)\n",
    "    file_list = archive.filelist\n",
    "    os.makedirs(r\"/wadhwani_kdss/c_drive/Users/user/abhijeeth/data\", exist_ok=True)\n",
    "    for file in file_list:\n",
    "        file_zip_path = file.filename\n",
    "        name_wt_ext = file.filename.split('/')[-1]\n",
    "        name, ext, size = name_wt_ext.split('.')[0], name_wt_ext.split('.')[-1], file.file_size\n",
    "    \n",
    "        if ext in ['shp', 'dbf','shx','SHX']:\n",
    "            if '/' not in file_zip_path:\n",
    "                archive.extract(file, r\"/wadhwani_kdss/c_drive/Users/user/abhijeeth/data\")\n",
    "            else:\n",
    "                shpfile_folder_path = '/'.join(file_zip_path.split('/')[:-1]) + '/'\n",
    "                if file_zip_path.startswith(shpfile_folder_path):\n",
    "                    archive.extract(file, r\"/wadhwani_kdss/c_drive/Users/user/abhijeeth/data\")\n",
    "    temp_dir ='/wadhwani_kdss/c_drive/Users/user/abhijeeth/data/shape'\n",
    "    shp_file = [filename for filename in os.listdir(temp_dir) if filename.endswith('.shp')][0]\n",
    "    print(shp_file)\n",
    "    result = process_shapefile(temp_dir+\"/\"+shp_file)\n",
    "    if result is not None:results.append(result)\n",
    "    shutil.rmtree(r'/wadhwani_kdss/c_drive/Users/user/abhijeeth/data',ignore_errors=True)\n"
   ]
  },
  {
   "cell_type": "code",
   "execution_count": 6,
   "id": "9992595b-10e7-4008-b83a-f93aa4b59854",
   "metadata": {},
   "outputs": [
    {
     "name": "stdout",
     "output_type": "stream",
     "text": [
      "2023/Andhra Pradesh/AP_01April_8May23/BhuvanFASAL2023050945201.zip\n"
     ]
    },
    {
     "name": "stdin",
     "output_type": "stream",
     "text": [
      "continue or skip c\n"
     ]
    },
    {
     "name": "stdout",
     "output_type": "stream",
     "text": [
      "BhuvanFASAL2023050945201.shp\n",
      "Available attributes: ['sid', 'date_time', 'apptype', 'photo1', 'photo2', 'rojectname', 'themename', 'rofilename', 'servername', 'org', 'mobileno', 'eationtime', 'uuid', 'deviceid', 'ictvillage', 'ieldsiteid', 'typeofcrop', 'fcropfield', 'rowthstage', 'hcondition', 'eronground', 'ropvariety', 'teofsowing', 'opsinfield', 'lcondition', 'herremarks', 'photos', 'photostext', 'geometry']\n",
      "Unique values in selected column: ['Cowpea' 'Green gram' 'Blackgram' 'Greengram' nan 'BLACKGRAM' 'GREENGRAM'\n",
      " 'PADDY' 'Polse blackgram' 'Pulse blackgram' 'Greens gram' 'Black gram'\n",
      " 'Paddy']\n"
     ]
    },
    {
     "name": "stdin",
     "output_type": "stream",
     "text": [
      "Enter comma-separated unique values (or leave empty for all):  PADDY,Paddy\n"
     ]
    },
    {
     "name": "stdout",
     "output_type": "stream",
     "text": [
      "2023/Andhra Pradesh/AP_01FEB23_28FEB23/BhuvanFASAL2023030243231.zip\n"
     ]
    },
    {
     "name": "stdin",
     "output_type": "stream",
     "text": [
      "continue or skip c\n"
     ]
    },
    {
     "name": "stdout",
     "output_type": "stream",
     "text": [
      "BhuvanFASAL2023030243231.shp\n",
      "Available attributes: ['sid', 'date_time', 'apptype', 'photo1', 'photo2', 'rojectname', 'themename', 'rofilename', 'servername', 'org', 'mobileno', 'eationtime', 'uuid', 'deviceid', 'ictvillage', 'ieldsiteid', 'typeofcrop', 'fcropfield', 'rowthstage', 'hcondition', 'eronground', 'ropvariety', 'teofsowing', 'opsinfield', 'lcondition', 'herremarks', 'photos', 'photostext', 'geometry']\n",
      "Unique values in selected column: ['Maiz' 'Tobacco' 'Banana' 'Rice' 'Mize' 'Sugercane' 'Maize'\n",
      " '20230206-002' 'Tobaco' 'Tobbaco' 'Sugarcane' 'Paddy' 'Chilly plant'\n",
      " 'Cotton' 'Animal fodder' 'Grass' nan 'Sunflower' 'MaiE' 'Guava']\n"
     ]
    },
    {
     "name": "stdin",
     "output_type": "stream",
     "text": [
      "Enter comma-separated unique values (or leave empty for all):  Paddy\n"
     ]
    },
    {
     "name": "stdout",
     "output_type": "stream",
     "text": [
      "2023/Andhra Pradesh/AP_01MAR23_31MAR23/BhuvanFASAL2023041045744.zip\n"
     ]
    },
    {
     "name": "stdin",
     "output_type": "stream",
     "text": [
      "continue or skip c\n"
     ]
    },
    {
     "name": "stdout",
     "output_type": "stream",
     "text": [
      "BhuvanFASAL2023041045744.shp\n",
      "Available attributes: ['sid', 'date_time', 'apptype', 'photo1', 'photo2', 'rojectname', 'themename', 'rofilename', 'servername', 'org', 'mobileno', 'eationtime', 'uuid', 'deviceid', 'ictvillage', 'ieldsiteid', 'typeofcrop', 'fcropfield', 'rowthstage', 'hcondition', 'eronground', 'ropvariety', 'teofsowing', 'opsinfield', 'lcondition', 'herremarks', 'photos', 'photostext', 'geometry']\n",
      "Unique values in selected column: ['BLACK GRAM' 'RABI BLACKGRAM' 'BLACKGRAM' 'GREENGRAM' 'Blackgram'\n",
      " 'Greengram' 'RBI GREENGRAM' 'RABI BLACK GRAM' 'Green gram'\n",
      " 'Rabi Blackgram' 'PADDY' 'Sugarcane' 'Maize' 'Red Chilli' 'Pulse'\n",
      " 'Sunflower' 'Redchilli' 'RABI PADDY' '20230323-023' 'Red chilli' 'Paddy'\n",
      " 'BENGALGRAM' 'Mirchi' nan 'Sugar cane' '20230327-006' 'Horse gram'\n",
      " 'Black gram' 'Banana' 'Black gram pulse' 'Cowpea' 'COWPEA' 'Red gram'\n",
      " 'Black gram Pulse' 'Purse blackgram' 'Pulse blackgram' 'Pulse black gram'\n",
      " 'Pulse Blackgram']\n"
     ]
    },
    {
     "name": "stdin",
     "output_type": "stream",
     "text": [
      "Enter comma-separated unique values (or leave empty for all):  PADDY\n"
     ]
    },
    {
     "name": "stdout",
     "output_type": "stream",
     "text": [
      "2023/Assam/1Jan_28Jun/BhuvanFASAL20230628121125.zip\n"
     ]
    },
    {
     "name": "stdin",
     "output_type": "stream",
     "text": [
      "continue or skip c\n"
     ]
    },
    {
     "name": "stdout",
     "output_type": "stream",
     "text": [
      "BhuvanFASAL20230628121125.shp\n",
      "Available attributes: ['sid', 'date_time', 'apptype', 'photo1', 'photo2', 'rojectname', 'themename', 'rofilename', 'servername', 'org', 'mobileno', 'eationtime', 'uuid', 'deviceid', 'ictvillage', 'ieldsiteid', 'typeofcrop', 'fcropfield', 'rowthstage', 'hcondition', 'eronground', 'ropvariety', 'teofsowing', 'opsinfield', 'lcondition', 'herremarks', 'photos', 'photostext', 'geometry']\n",
      "Unique values in selected column: ['Jute' nan 'jute' 'JUTE']\n"
     ]
    },
    {
     "name": "stdin",
     "output_type": "stream",
     "text": [
      "Enter comma-separated unique values (or leave empty for all):  \n"
     ]
    },
    {
     "name": "stdout",
     "output_type": "stream",
     "text": [
      "2023/Assam/1June_9Aug2023/BhuvanFASAL2023080974711.zip\n"
     ]
    },
    {
     "name": "stdin",
     "output_type": "stream",
     "text": [
      "continue or skip s\n"
     ]
    },
    {
     "name": "stdout",
     "output_type": "stream",
     "text": [
      "2023/Bihar/1June_9Aug2023/BhuvanFASAL2023080974854.zip\n"
     ]
    },
    {
     "name": "stdin",
     "output_type": "stream",
     "text": [
      "continue or skip s\n"
     ]
    },
    {
     "name": "stdout",
     "output_type": "stream",
     "text": [
      "2023/Bihar/BH_01FEB23_28FEB23/BhuvanFASAL2023030243628.zip\n"
     ]
    },
    {
     "name": "stdin",
     "output_type": "stream",
     "text": [
      "continue or skip c\n"
     ]
    },
    {
     "name": "stdout",
     "output_type": "stream",
     "text": [
      "BhuvanFASAL2023030243628.shp\n",
      "Available attributes: ['sid', 'date_time', 'apptype', 'photo1', 'photo2', 'rojectname', 'themename', 'rofilename', 'servername', 'org', 'mobileno', 'eationtime', 'uuid', 'deviceid', 'ictvillage', 'ieldsiteid', 'typeofcrop', 'fcropfield', 'rowthstage', 'hcondition', 'eronground', 'ropvariety', 'teofsowing', 'opsinfield', 'lcondition', 'herremarks', 'photos', 'photostext', 'geometry']\n",
      "Unique values in selected column: ['Hyb shree ram' 'Hyb Pioneer' 'Mustard' 'Hyb Shree ram' 'Hyb RH30'\n",
      " 'Wheat']\n"
     ]
    },
    {
     "name": "stdin",
     "output_type": "stream",
     "text": [
      "Enter comma-separated unique values (or leave empty for all):  \n"
     ]
    },
    {
     "name": "stdout",
     "output_type": "stream",
     "text": [
      "2023/Chhattisgarh/1June_9Aug2023/BhuvanFASAL2023080975821.zip\n"
     ]
    },
    {
     "name": "stdin",
     "output_type": "stream",
     "text": [
      "continue or skip s\n"
     ]
    },
    {
     "name": "stdout",
     "output_type": "stream",
     "text": [
      "2023/Chhattisgarh/CG_01FEB23_28FEB23/BhuvanFASAL2023030243831.zip\n"
     ]
    },
    {
     "name": "stdin",
     "output_type": "stream",
     "text": [
      "continue or skip c\n"
     ]
    },
    {
     "name": "stdout",
     "output_type": "stream",
     "text": [
      "BhuvanFASAL2023030243831.shp\n",
      "Available attributes: ['sid', 'date_time', 'apptype', 'photo1', 'photo2', 'rojectname', 'themename', 'rofilename', 'servername', 'org', 'mobileno', 'eationtime', 'uuid', 'deviceid', 'ictvillage', 'ieldsiteid', 'typeofcrop', 'fcropfield', 'rowthstage', 'hcondition', 'eronground', 'ropvariety', 'teofsowing', 'opsinfield', 'lcondition', 'herremarks', 'photos', 'photostext', 'geometry']\n",
      "Unique values in selected column: ['Rice Paddy' 'Wheat' 'Gram' 'Tomato and cauliflower' 'Rice paddy'\n",
      " 'Musterd' 'Sugarcane' 'Pea' 'Gram and musterd' 'Mustard' 'Tomato'\n",
      " 'Bengal Gram' 'Bengal gram']\n"
     ]
    },
    {
     "name": "stdin",
     "output_type": "stream",
     "text": [
      "Enter comma-separated unique values (or leave empty for all):  Rice Paddy,Rice paddy\n"
     ]
    },
    {
     "name": "stdout",
     "output_type": "stream",
     "text": [
      "2023/Gujarat/GJ_01FEB23_28FEB23/BhuvanFASAL2023030244156.zip\n"
     ]
    },
    {
     "name": "stdin",
     "output_type": "stream",
     "text": [
      "continue or skip c\n"
     ]
    },
    {
     "name": "stdout",
     "output_type": "stream",
     "text": [
      "BhuvanFASAL2023030244156.shp\n",
      "Available attributes: ['sid', 'date_time', 'apptype', 'photo1', 'photo2', 'rojectname', 'themename', 'rofilename', 'servername', 'org', 'mobileno', 'eationtime', 'uuid', 'deviceid', 'ictvillage', 'ieldsiteid', 'typeofcrop', 'fcropfield', 'rowthstage', 'hcondition', 'eronground', 'ropvariety', 'teofsowing', 'opsinfield', 'lcondition', 'herremarks', 'photos', 'photostext', 'geometry']\n",
      "Unique values in selected column: [nan 'WHEAT' 'Wheat' 'Wit' 'wheat' 'Whaet' 'Whait' 'Tobacco' 'Whet'\n",
      " 'Kharif Tobacco' 'TOBACCO']\n"
     ]
    },
    {
     "name": "stdin",
     "output_type": "stream",
     "text": [
      "Enter comma-separated unique values (or leave empty for all):  \n"
     ]
    },
    {
     "name": "stdout",
     "output_type": "stream",
     "text": [
      "2023/Gujarat/GJ_01JAN23_30APR23/BhuvanFASAL2023050860041.zip\n"
     ]
    },
    {
     "name": "stdin",
     "output_type": "stream",
     "text": [
      "continue or skip c\n"
     ]
    },
    {
     "name": "stdout",
     "output_type": "stream",
     "text": [
      "BhuvanFASAL2023050860041.shp\n",
      "Available attributes: ['sid', 'date_time', 'apptype', 'photo1', 'photo2', 'rojectname', 'themename', 'rofilename', 'servername', 'org', 'mobileno', 'eationtime', 'uuid', 'deviceid', 'ictvillage', 'ieldsiteid', 'typeofcrop', 'fcropfield', 'rowthstage', 'hcondition', 'eronground', 'ropvariety', 'teofsowing', 'opsinfield', 'lcondition', 'herremarks', 'photos', 'photostext', 'geometry']\n",
      "Unique values in selected column: ['Castor' 'WHEAT' 'MUSTARD' 'MUSATRD' 'Mustard' 'Mustarf' 'Mustrad' 'GRAM'\n",
      " 'Gram' 'Wheat' 'CORIANDER' 'Coriander' 'Chickpeas' 'CHICKPEA'\n",
      " 'Wheat (CCE)' 'wheat' 'Potato' 'Cauliflower' nan 'What' 'Wheet' 'Weat'\n",
      " 'Ghau' 'Whet' 'Whear' 'WHeat' 'Wit' 'Whaet' 'Whait' 'Tobacco'\n",
      " 'Kharif Tobacco' 'TOBACCO']\n"
     ]
    },
    {
     "name": "stdin",
     "output_type": "stream",
     "text": [
      "Enter comma-separated unique values (or leave empty for all):  \n"
     ]
    },
    {
     "name": "stdout",
     "output_type": "stream",
     "text": [
      "2023/Haryana/1June_9Aug2023/BhuvanFASAL2023080981014.zip\n"
     ]
    },
    {
     "name": "stdin",
     "output_type": "stream",
     "text": [
      "continue or skip s\n"
     ]
    },
    {
     "name": "stdout",
     "output_type": "stream",
     "text": [
      "2023/Haryana/1Mar_30June/BhuvanFASAL2023072671602.zip\n"
     ]
    },
    {
     "name": "stdin",
     "output_type": "stream",
     "text": [
      "continue or skip c\n"
     ]
    },
    {
     "name": "stdout",
     "output_type": "stream",
     "text": [
      "BhuvanFASAL2023072671602.shp\n",
      "Available attributes: ['sid', 'date_time', 'apptype', 'photo1', 'photo2', 'rojectname', 'themename', 'rofilename', 'servername', 'org', 'mobileno', 'eationtime', 'uuid', 'deviceid', 'ictvillage', 'ieldsiteid', 'typeofcrop', 'fcropfield', 'rowthstage', 'hcondition', 'eronground', 'ropvariety', 'teofsowing', 'opsinfield', 'lcondition', 'herremarks', 'photos', 'photostext', 'geometry']\n",
      "Unique values in selected column: ['Wheat' 'Mustard' 'No']\n"
     ]
    },
    {
     "name": "stdin",
     "output_type": "stream",
     "text": [
      "Enter comma-separated unique values (or leave empty for all):  \n"
     ]
    },
    {
     "name": "stdout",
     "output_type": "stream",
     "text": [
      "2023/Haryana/HR_01FEB23_28FEB23/BhuvanFASAL2023030244404.zip\n"
     ]
    },
    {
     "name": "stdin",
     "output_type": "stream",
     "text": [
      "continue or skip c\n"
     ]
    },
    {
     "name": "stdout",
     "output_type": "stream",
     "text": [
      "BhuvanFASAL2023030244404.shp\n",
      "Available attributes: ['sid', 'date_time', 'apptype', 'photo1', 'photo2', 'rojectname', 'themename', 'rofilename', 'servername', 'org', 'mobileno', 'eationtime', 'uuid', 'deviceid', 'ictvillage', 'ieldsiteid', 'typeofcrop', 'fcropfield', 'rowthstage', 'hcondition', 'eronground', 'ropvariety', 'teofsowing', 'opsinfield', 'lcondition', 'herremarks', 'photos', 'photostext', 'geometry']\n",
      "Unique values in selected column: ['Wheat' 'Mustard' 'Fellow land' 'Pea' 'Musterd' 'Musturd' 'Weat'\n",
      " 'Mustred' 'Mursted' nan 'Jau' 'Wheat 1st' '20230207-1.1' 'Sugarcane'\n",
      " '2967' 'Mustard plot 1' 'Wheat plot 1' 'Mustrad' 'WHeat' 'mustard'\n",
      " 'wheat']\n"
     ]
    },
    {
     "name": "stdin",
     "output_type": "stream",
     "text": [
      "Enter comma-separated unique values (or leave empty for all):  \n"
     ]
    },
    {
     "name": "stdout",
     "output_type": "stream",
     "text": [
      "2023/Haryana/HR_01JAN23_31JAN23/BhuvanFASAL2023021354112.zip\n"
     ]
    },
    {
     "name": "stdin",
     "output_type": "stream",
     "text": [
      "continue or skip c\n"
     ]
    },
    {
     "name": "stdout",
     "output_type": "stream",
     "text": [
      "BhuvanFASAL2023021354112.shp\n",
      "Available attributes: ['sid', 'date_time', 'apptype', 'photo1', 'photo2', 'rojectname', 'themename', 'rofilename', 'servername', 'org', 'mobileno', 'eationtime', 'uuid', 'deviceid', 'ictvillage', 'ieldsiteid', 'typeofcrop', 'fcropfield', 'rowthstage', 'hcondition', 'eronground', 'ropvariety', 'teofsowing', 'opsinfield', 'lcondition', 'herremarks', 'photos', 'photostext', 'geometry']\n",
      "Unique values in selected column: ['Mustard' nan 'Wheat' 'mustred' 'mystres' 'mustrr' 'mystred' 'wheat'\n",
      " 'Rewari' 'Musted' 'Mustered' 'Sarson' '20230116' 'Musterd' 'No' 'Wheate'\n",
      " '20230120' 'Mustarf' 'Mutard' 'Mustrd' 'Musturd' 'Mustrad' 'Whaet']\n"
     ]
    },
    {
     "name": "stdin",
     "output_type": "stream",
     "text": [
      "Enter comma-separated unique values (or leave empty for all):  \n"
     ]
    },
    {
     "name": "stdout",
     "output_type": "stream",
     "text": [
      "2023/Haryana/Haryana GT  1July-4Aug23/BhuvanFASAL2023080493006.zip\n"
     ]
    },
    {
     "name": "stdin",
     "output_type": "stream",
     "text": [
      "continue or skip s\n"
     ]
    },
    {
     "name": "stdout",
     "output_type": "stream",
     "text": [
      "2023/Jharkhand/1June_9Aug2023/BhuvanFASAL2023080981511.zip\n"
     ]
    },
    {
     "name": "stdin",
     "output_type": "stream",
     "text": [
      "continue or skip s\n"
     ]
    },
    {
     "name": "stdout",
     "output_type": "stream",
     "text": [
      "2023/Jharkhand/JH_01FEB23_28FEB23/BhuvanFASAL2023030342842.zip\n"
     ]
    },
    {
     "name": "stdin",
     "output_type": "stream",
     "text": [
      "continue or skip c\n"
     ]
    },
    {
     "name": "stdout",
     "output_type": "stream",
     "text": [
      "BhuvanFASAL2023030342842.shp\n",
      "Available attributes: ['sid', 'date_time', 'apptype', 'photo1', 'photo2', 'rojectname', 'themename', 'rofilename', 'servername', 'org', 'mobileno', 'eationtime', 'uuid', 'deviceid', 'ictvillage', 'ieldsiteid', 'typeofcrop', 'fcropfield', 'rowthstage', 'hcondition', 'eronground', 'ropvariety', 'teofsowing', 'opsinfield', 'lcondition', 'herremarks', 'photos', 'photostext', 'geometry']\n",
      "Unique values in selected column: ['Arhar' 'Kharif Arhar' 'Kharif arhar' 'Khriph arhar' nan]\n"
     ]
    },
    {
     "name": "stdin",
     "output_type": "stream",
     "text": [
      "Enter comma-separated unique values (or leave empty for all):  \n"
     ]
    },
    {
     "name": "stdout",
     "output_type": "stream",
     "text": [
      "2023/Karnataka/KR_01FEB23_28FEB23/BhuvanFASAL2023030645310.zip\n"
     ]
    },
    {
     "name": "stdin",
     "output_type": "stream",
     "text": [
      "continue or skip c\n"
     ]
    },
    {
     "name": "stdout",
     "output_type": "stream",
     "text": [
      "BhuvanFASAL2023030645310.shp\n",
      "Available attributes: ['sid', 'date_time', 'apptype', 'photo1', 'photo2', 'rojectname', 'themename', 'rofilename', 'servername', 'org', 'mobileno', 'eationtime', 'uuid', 'deviceid', 'ictvillage', 'ieldsiteid', 'typeofcrop', 'fcropfield', 'rowthstage', 'hcondition', 'eronground', 'ropvariety', 'teofsowing', 'opsinfield', 'lcondition', 'herremarks', 'photos', 'photostext', 'geometry']\n",
      "Unique values in selected column: ['Wheat' 'Jowar' 'Maize' 'Rice' 'Groundnut' 'Whet' 'Sugarcane' nan\n",
      " 'Ground nut' 'Cotton' 'Jowari' 'Chickpea' 'Mustard' 'Peanut' 'Millets'\n",
      " 'Maize corn' 'Soyabeen' 'Sorghum' 'Sorgum' 'Pearl millet' 'Jower'\n",
      " 'Sargam' 'Sarghum' 'Sunflower' 'Bangal gram' '300' 'Sugar cane'\n",
      " 'Bengal gram' 'Joway' 'Turmeric' 'Local' 'Wheay' 'Average' 'Sourgam'\n",
      " 'Whate' 'Jawar' 'Meize' 'Sargahum' 'Maze' 'Suger cane' 'Sugarcen' 'Vitta'\n",
      " 'Maize make' 'Vita' 'Meza' 'Sugercan' 'Sugercane' 'Sugercena' 'Vetta'\n",
      " 'Wheeta' 'Tomato' 'wheat' 'Bengalgram' 'Wheet' 'Jewar' 'Susrcane'\n",
      " 'Grondnut' 'Bangalgram' 'Soybean' 'maize' 'jower' 'bengal garm' 'jowar'\n",
      " 'jowra' '20230209-726' '2023 2 9' 'Green chilli' 'Shugar' 'Chilli'\n",
      " 'Surghum' '20230217-4' 'Supplover' 'Jawari' 'Grapes' 'Greps' 'SugarCar'\n",
      " 'Sugar care' 'Whito' 'Whiot' 'SugarCan' 'Whita' 'Wheti' 'Sugar'\n",
      " '2023.02.20' 'Whtio' 'Sourghum' 'Brinjal' 'Whote' 'Pdda' 'Jowr'\n",
      " 'Sorguhum' 'Whoter']\n"
     ]
    },
    {
     "name": "stdin",
     "output_type": "stream",
     "text": [
      "Enter comma-separated unique values (or leave empty for all):  \n"
     ]
    },
    {
     "name": "stdout",
     "output_type": "stream",
     "text": [
      "2023/Karnataka/KR_01JAN23_31JAN23/BhuvanFASAL2023021360349.zip\n"
     ]
    },
    {
     "name": "stdin",
     "output_type": "stream",
     "text": [
      "continue or skip c\n"
     ]
    },
    {
     "name": "stdout",
     "output_type": "stream",
     "text": [
      "BhuvanFASAL2023021360349.shp\n",
      "Available attributes: ['sid', 'date_time', 'apptype', 'photo1', 'photo2', 'rojectname', 'themename', 'rofilename', 'servername', 'org', 'mobileno', 'eationtime', 'uuid', 'deviceid', 'ictvillage', 'ieldsiteid', 'typeofcrop', 'fcropfield', 'rowthstage', 'hcondition', 'eronground', 'ropvariety', 'teofsowing', 'opsinfield', 'lcondition', 'herremarks', 'photos', 'photostext', 'geometry']\n",
      "Unique values in selected column: ['Hybrid' 'Hyabid' 'Local' 'Paddy' 'Jower' 'Chana' 'White' 'maize' 'Onion'\n",
      " 'Sugarcane' 'Wheat' 'Jowar' 'Maize' 'Bengal gram' 'Groundnut'\n",
      " 'Local jovar' 'Jovar local' 'Local bengalgrm' 'What' 'Jovara local'\n",
      " 'Bengalrm' 'Bengalgrm' 'Maize local' 'Zowar' 'Zowra' 'Bengal ghram'\n",
      " 'Bengal gharam' 'zowar' 'Groundnuts' 'Pomegranate' 'Paady' 'Banana'\n",
      " 'paddy' 'Sunplower' 'Mazie' 'Zowara' 'Bajra' nan 'Cotton' 'Sorghum'\n",
      " 'Chilli' 'Castor' 'Sasve' 'Mustard' 'Gram' 'Jawar' 'Green gram'\n",
      " 'Ground nut' 'Corn' 'Tommato' 'Cowpea' 'Bajara' 'Papaya' 'Castrol oil'\n",
      " 'Joear' 'Soyabean' 'Loc6' 'Sunflower' 'Jowat' 'Bengalgram' 'Meze'\n",
      " 'Bangal gram']\n"
     ]
    },
    {
     "name": "stdin",
     "output_type": "stream",
     "text": [
      "Enter comma-separated unique values (or leave empty for all):  Paddy,Paady,paddy\n"
     ]
    },
    {
     "name": "stdout",
     "output_type": "stream",
     "text": [
      "2023/MadhyaPradesh/1June_9Aug2023/BhuvanFASAL2023080982805.zip\n"
     ]
    },
    {
     "name": "stdin",
     "output_type": "stream",
     "text": [
      "continue or skip s\n"
     ]
    },
    {
     "name": "stdout",
     "output_type": "stream",
     "text": [
      "2023/MadhyaPradesh/MP_01JAN23_31JAN23/BhuvanFASAL2023021550854.zip\n"
     ]
    },
    {
     "name": "stdin",
     "output_type": "stream",
     "text": [
      "continue or skip c\n"
     ]
    },
    {
     "name": "stdout",
     "output_type": "stream",
     "text": [
      "BhuvanFASAL2023021550854.shp\n",
      "Available attributes: ['sid', 'date_time', 'apptype', 'photo1', 'photo2', 'rojectname', 'themename', 'rofilename', 'servername', 'org', 'mobileno', 'eationtime', 'uuid', 'deviceid', 'ictvillage', 'ieldsiteid', 'typeofcrop', 'fcropfield', 'rowthstage', 'hcondition', 'eronground', 'ropvariety', 'teofsowing', 'opsinfield', 'lcondition', 'herremarks', 'photos', 'photostext', 'geometry']\n",
      "Unique values in selected column: ['Gram' 'Wheat' 'Gram chana' 'Lentil (masoor)' 'Lentil(masoor)' 'Mustard'\n",
      " 'Lentil masur' 'No' 'Bhet' 'Musterd' 'Hybrid' nan 'Masturd' 'Mustrad'\n",
      " 'Wheet' 'Masur' 'GRAM' 'Beat' 'With' 'Whet' 'Gran' 'White' 'Chana'\n",
      " 'Lantil' 'Masoor' 'Lentils' 'Tiora' 'Pea' 'Onion' 'Whewt' 'Sarso' 'Alsi'\n",
      " 'Coriander' 'Musturd' 'Linseed' 'Sugarcane' 'Maize' 'Dhaniya' 'Gr'\n",
      " 'Potato' 'Gobi' '20230128-3' 'Peanut' 'Makka' 'Chilly' 'Bangalgram'\n",
      " 'Arhar' 'Garlic' 'Ready to next crops' 'Blank' 'Coliflower' 'Turmeric'\n",
      " 'Masor' 'Banana' 'Demo' 'Kapas' 'Fallow land' 'Garrlic' '20230130-32'\n",
      " 'Watermalon' 'Bengal Gram' 'Tomato' 'Sarso harvested' 'Lentil' 'Garam'\n",
      " 'Wheat hills' 'Fellow land' 'Jai']\n"
     ]
    },
    {
     "name": "stdin",
     "output_type": "stream",
     "text": [
      "Enter comma-separated unique values (or leave empty for all):  \n"
     ]
    },
    {
     "name": "stdout",
     "output_type": "stream",
     "text": [
      "2023/MadhyaPradesh/MP_20JAN23_04FEB23/BhuvanFASAL20230204113509.zip\n"
     ]
    },
    {
     "name": "stdin",
     "output_type": "stream",
     "text": [
      "continue or skip c\n"
     ]
    },
    {
     "name": "stdout",
     "output_type": "stream",
     "text": [
      "BhuvanFASAL20230204113509.shp\n",
      "Available attributes: ['sid', 'date_time', 'apptype', 'photo1', 'photo2', 'rojectname', 'themename', 'rofilename', 'servername', 'org', 'mobileno', 'eationtime', 'uuid', 'deviceid', 'ictvillage', 'ieldsiteid', 'typeofcrop', 'fcropfield', 'rowthstage', 'hcondition', 'eronground', 'ropvariety', 'teofsowing', 'opsinfield', 'lcondition', 'herremarks', 'photos', 'photostext', 'geometry']\n",
      "Unique values in selected column: ['Mustard' 'Gram' 'Wheat' 'Wheet' 'Masur' 'Mustrad' nan 'GRAM' 'Beat'\n",
      " 'With' 'Lentil masur' 'Whet' 'Hybrid' 'Gran' 'White' 'Chana' 'Lantil'\n",
      " 'Masoor' 'Lentils' 'Tiora' 'Pea' 'Onion' 'Whewt' 'Sarso' 'Alsi'\n",
      " 'Coriander' 'Musturd' 'Linseed' 'Sugarcane' 'Maize' 'Dhaniya' 'Gr'\n",
      " 'Potato' 'Gobi' '20230128-3' 'Peanut' 'Makka' 'Chilly' 'Bangalgram'\n",
      " 'Arhar' 'Garlic' 'Ready to next crops' 'Blank' 'Coliflower' 'Turmeric'\n",
      " 'Masor' 'Banana' 'Demo' 'Kapas' 'Fallow land' 'Garrlic' '20230130-32'\n",
      " 'Watermalon' 'Bengal Gram' 'Tomato' 'Sarso harvested' 'Lentil' 'Garam'\n",
      " 'Wheat hills' 'Fellow land' 'Jai' 'Paddy' 'Wheat (jait)' 'Papaya'\n",
      " 'Tomatoes' 'Fallow' 'Pea and wheat' 'Chickpea' 'Onion garlic' 'Carrat'\n",
      " 'Patato' 'Cauliflower' 'Harvested' 'Gingar' 'Carrot' 'Oinion' 'Sugarcan'\n",
      " 'Bangal gram' 'gram']\n"
     ]
    },
    {
     "name": "stdin",
     "output_type": "stream",
     "text": [
      "Enter comma-separated unique values (or leave empty for all):  Paddy\n"
     ]
    },
    {
     "name": "stdout",
     "output_type": "stream",
     "text": [
      "2023/Maharashtra/MH_01JAN23_31JAN23/BhuvanFASAL2023030964308.zip\n"
     ]
    },
    {
     "name": "stdin",
     "output_type": "stream",
     "text": [
      "continue or skip c\n"
     ]
    },
    {
     "name": "stdout",
     "output_type": "stream",
     "text": [
      "BhuvanFASAL2023030964308.shp\n",
      "Available attributes: ['sid', 'date_time', 'apptype', 'photo1', 'photo2', 'rojectname', 'themename', 'rofilename', 'servername', 'org', 'mobileno', 'eationtime', 'uuid', 'deviceid', 'ictvillage', 'ieldsiteid', 'typeofcrop', 'fcropfield', 'rowthstage', 'hcondition', 'eronground', 'ropvariety', 'teofsowing', 'opsinfield', 'lcondition', 'herremarks', 'photos', 'photostext', 'geometry']\n",
      "Unique values in selected column: ['Gram' 'Bengal Gram' 'R jwari' 'Jwar' 'Harbhara' 'Jowar' 'Jawari'\n",
      " 'Rabbi jowar' 'Rabbi Jwari' 'jowar' nan 'Jawar' 'Rabbi jawar'\n",
      " 'Rabi Jowar' 'Rabbi Jowar' 'Pulse' 'Jawar land cover' 'Gram covered'\n",
      " 'Seasonal' 'Rabbi jawari' 'R.Jawar' 'R Jawar' 'Rabbi Jawar'\n",
      " 'Rabi sorghum' 'Sugarcane ratoon' 'Sugarcane suru' 'Pigeonpea(red gram)'\n",
      " 'Pigeon pea (redgram)' 'Sugarcane adsali' 'GRam' 'Pulses Gram'\n",
      " 'Pigeon pea(redgram)' 'Pigeonpea(redgram)' 'Sugarcane' 'Rose' 'Jowari'\n",
      " 'Garm' 'Bengal gram' 'Jawar coverd' 'Rabi jowar' 'Rabbi jwari'\n",
      " 'Rabbi Crop Jowar' 'Jvar' 'Sourgam' 'Sourgame' 'Rabbi Crop Gram' 'Tur'\n",
      " 'Rabi  Jowar' 'Kharif crop' 'Pulses' 'Rabbi jowar(sorghum)' 'Jawor'\n",
      " 'Sugarken' 'Rabi cereals' 'Sorghum' 'Bengal' 'Monocropping' 'Chana'\n",
      " 'Tur pigeon pea' 'Wheat' 'Maize' 'Annual Rabbi Jowar' 'Cotton' 'Nowar'\n",
      " 'O.40 ha Gram(Harbhara)' '0.40 Gram' 'Begal gram' 'Cereals Rabbi Jowar'\n",
      " 'Sorghum Jawar' 'Garam' 'Chick pea (Gram)' 'Chick pea' 'RABBI JOWAR'\n",
      " 'Rabbi' 'Weat' 'Onion' 'Tomato' 'Pulse ( Gram )' 'Chickpea' 'What' 'Gam'\n",
      " 'Bengalgram' 'Maiza' 'BengalGram' 'WHEAT' 'BENGAL GRAM' 'BENGALGRAM'\n",
      " 'ONION SEED' 'Irrigation' 'JAKI' 'Local' 'Oni' 'GRAM' 'Jowar sorghum'\n",
      " 'Sole' 'Javar' 'Pulses gram' 'Maka' 'BBENGAL GRAM' 'Gehu' 'Gran'\n",
      " 'Rabi jwari' 'Gahu' 'gram' 'jawar' 'Harabara' 'Grampulses' 'BENGAL Gram'\n",
      " 'Jewr' 'Rabbi jawar solo' 'Sugar ken' 'Rabbi gram solo' 'Kardaie'\n",
      " 'Rabbi Jawar solo' 'Rabbi jower' 'Mainz' 'Grapes' 'Bengel gram' 'Paddy'\n",
      " 'Jowae' 'Whet' 'Cereals' 'Mize' 'Makka' 'Ginger' 'Bajra' 'Meize'\n",
      " '20230129' 'Bingalgram' 'Wheet' 'Ukali']\n"
     ]
    },
    {
     "name": "stdin",
     "output_type": "stream",
     "text": [
      "Enter comma-separated unique values (or leave empty for all):  Paddy\n"
     ]
    },
    {
     "name": "stdout",
     "output_type": "stream",
     "text": [
      "2023/Odisha/1Jan_30April/BhuvanFASAL20230525114911.zip\n"
     ]
    },
    {
     "name": "stdin",
     "output_type": "stream",
     "text": [
      "continue or skip c\n"
     ]
    },
    {
     "name": "stdout",
     "output_type": "stream",
     "text": [
      "BhuvanFASAL20230525114911.shp\n",
      "Available attributes: ['sid', 'date_time', 'apptype', 'photo1', 'photo2', 'rojectname', 'themename', 'rofilename', 'servername', 'org', 'mobileno', 'eationtime', 'uuid', 'deviceid', 'ictvillage', 'ieldsiteid', 'typeofcrop', 'fcropfield', 'rowthstage', 'hcondition', 'eronground', 'ropvariety', 'teofsowing', 'opsinfield', 'lcondition', 'herremarks', 'photos', 'photostext', 'geometry']\n",
      "Unique values in selected column: ['Mustard']\n"
     ]
    },
    {
     "name": "stdin",
     "output_type": "stream",
     "text": [
      "Enter comma-separated unique values (or leave empty for all):  \n"
     ]
    },
    {
     "name": "stdout",
     "output_type": "stream",
     "text": [
      "2023/Punjab/1Jan_30April/BhuvanFASAL2023052650720.zip\n"
     ]
    },
    {
     "name": "stdin",
     "output_type": "stream",
     "text": [
      "continue or skip c\n"
     ]
    },
    {
     "name": "stdout",
     "output_type": "stream",
     "text": [
      "BhuvanFASAL2023052650720.shp\n",
      "Available attributes: ['sid', 'date_time', 'apptype', 'photo1', 'photo2', 'rojectname', 'themename', 'rofilename', 'servername', 'org', 'mobileno', 'eationtime', 'uuid', 'deviceid', 'ictvillage', 'ieldsiteid', 'typeofcrop', 'fcropfield', 'rowthstage', 'hcondition', 'eronground', 'ropvariety', 'teofsowing', 'opsinfield', 'lcondition', 'herremarks', 'photos', 'photostext', 'geometry']\n",
      "Unique values in selected column: ['Cereal Crop Wheat' 'WHEAT' 'Wheat' 'wheat' 'Whaet' nan 'Cereal'\n",
      " 'Cereal crop' 'Rabi season cereal wheat crop' 'vegetative' '187'\n",
      " 'Wheat HD 3086' 'Mustard' 'Rabi']\n"
     ]
    },
    {
     "name": "stdin",
     "output_type": "stream",
     "text": [
      "Enter comma-separated unique values (or leave empty for all):  \n"
     ]
    },
    {
     "name": "stdout",
     "output_type": "stream",
     "text": [
      "2023/Punjab/1June_9Aug2023/BhuvanFASAL2023080983441.zip\n"
     ]
    },
    {
     "name": "stdin",
     "output_type": "stream",
     "text": [
      "continue or skip s\n"
     ]
    },
    {
     "name": "stdout",
     "output_type": "stream",
     "text": [
      "2023/Punjab/PB_01FEB23_28FEB23/BhuvanFASAL20230310113542.zip\n"
     ]
    },
    {
     "name": "stdin",
     "output_type": "stream",
     "text": [
      "continue or skip c\n"
     ]
    },
    {
     "name": "stdout",
     "output_type": "stream",
     "text": [
      "BhuvanFASAL20230310113542.shp\n",
      "Available attributes: ['sid', 'date_time', 'apptype', 'photo1', 'photo2', 'rojectname', 'themename', 'rofilename', 'servername', 'org', 'mobileno', 'eationtime', 'uuid', 'deviceid', 'ictvillage', 'ieldsiteid', 'typeofcrop', 'fcropfield', 'rowthstage', 'hcondition', 'eronground', 'ropvariety', 'teofsowing', 'opsinfield', 'lcondition', 'herremarks', 'photos', 'photostext', 'geometry']\n",
      "Unique values in selected column: [nan 'Pady' 'Paddy' 'Cotton' 'Maize' 'Sunflower' 'Mango' 'Ffcg'\n",
      " 'Sunflower seed' 'Mung' 'Chilli' 'PADDY' 'Ridge guard' 'Broad beans'\n",
      " 'Black gram urdu' 'White jowar' 'Drumstick' 'Make' 'Ground nuts' 'Tomato'\n",
      " 'Peanuts' 'Pioneer' 'Pioneer p3301' 'Meiza ir' 'Meiza' 'Haibread'\n",
      " 'Hibread ganga kaveri' 'Local jowar' 'Hibread corp' 'Maize hibread'\n",
      " 'Pioneer P3001' 'Pioneer p3046' 'Pioneer p3001' 'Ganga Gk3155'\n",
      " 'Kaverikmh8322' 'Mazi' 'Mazie' 'Bengal gram' 'Deshi' 'Paddy IR'\n",
      " 'Maize IR' 'Maiz' 'Maze' 'Kaveri' 'Advankha' 'Bharath' '20221202'\n",
      " 'C chenta' 'No' 'Msize' 'Mize' 'Navatha' 'Ganga' 'Srighna' '20230224'\n",
      " 'Miaze' '.aize' 'Aize']\n"
     ]
    },
    {
     "name": "stdin",
     "output_type": "stream",
     "text": [
      "Enter comma-separated unique values (or leave empty for all):  Pady,Paddy,Paddy IR\n"
     ]
    },
    {
     "name": "stdout",
     "output_type": "stream",
     "text": [
      "2023/Rajasthan/1June_9Aug2023/BhuvanFASAL2023080990146.zip\n"
     ]
    },
    {
     "name": "stdin",
     "output_type": "stream",
     "text": [
      "continue or skip s\n"
     ]
    },
    {
     "name": "stdout",
     "output_type": "stream",
     "text": [
      "2023/Rajasthan/1June_9Aug2023/BhuvanFASAL20230810120327.zip\n"
     ]
    },
    {
     "name": "stdin",
     "output_type": "stream",
     "text": [
      "continue or skip s\n"
     ]
    },
    {
     "name": "stdout",
     "output_type": "stream",
     "text": [
      "2023/Rajasthan/RJ_01FEB23_28FEB23/BhuvanFASAL2023031644548.zip\n"
     ]
    },
    {
     "name": "stdin",
     "output_type": "stream",
     "text": [
      "continue or skip c\n"
     ]
    },
    {
     "name": "stdout",
     "output_type": "stream",
     "text": [
      "BhuvanFASAL2023031644548.shp\n",
      "Available attributes: ['sid', 'date_time', 'apptype', 'photo1', 'photo2', 'rojectname', 'themename', 'rofilename', 'servername', 'org', 'mobileno', 'eationtime', 'uuid', 'deviceid', 'ictvillage', 'ieldsiteid', 'typeofcrop', 'fcropfield', 'rowthstage', 'hcondition', 'eronground', 'ropvariety', 'teofsowing', 'opsinfield', 'lcondition', 'herremarks', 'photos', 'photostext', 'geometry']\n",
      "Unique values in selected column: ['Mustard' 'Wheat' nan 'Musterd rabi' 'Grasses' 'Oilseed musterd' 'Maize'\n",
      " 'Desi' 'Gram' 'MUSTARD' 'Oilseed mustard' 'Oilseed mustered'\n",
      " 'Grass wheat' 'Ishabgol' 'Bengal gram' 'Barley' 'Bengal geam'\n",
      " 'Grasses wheat' 'Wheet' 'wheet' 'Arugula' 'Wheat and Yellow Mustard'\n",
      " 'Argula' 'Bangalgram' 'GNG1958' 'Bangel gram' 'JG315' 'Bengal Gram'\n",
      " 'Jg315' 'Bangal gram' '315' 'Bangal gran' 'Collins' 'Bengal garm'\n",
      " 'Mustured' 'wheat' 'Urugula' 'Engal gram' 'Rye(Mustard)' 'Chickpea'\n",
      " 'Whear' 'Fallow' 'Cumin' 'Other' 'Lentil' 'fallow' 'Fennel seeds' 'cumin'\n",
      " 'Fenel seeds' 'Isabgol' 'isabgol' 'Fenugreek' 'Raya' 'Garm' 'Geam'\n",
      " 'Raj 3077 wheat' 'mustard' 'bengal fram' 'GRAM' 'WHEAT' 'Bengale gram'\n",
      " 'Bangla gram' 'bengal gram' 'Bengle gram' 'Cahna' 'Mursturd' 'Bengal'\n",
      " 'Balck gram' 'Black gram' '.Gram' 'lentil' 'B.Gram' 'Mustrd' 'Mustrad'\n",
      " 'Mustrud' 'Mastrad' 'Wehat' 'Cehna' 'Grm' 'Mus tard' 'Muatard' 'gram'\n",
      " 'Jeera' 'bengl gram' 'Isbgol' 'Mistard' 'Cereal Wheat' 'Rabi' 'MUSTRAD'\n",
      " 'Musterd' 'Chana' 'Taramira']\n"
     ]
    },
    {
     "name": "stdin",
     "output_type": "stream",
     "text": [
      "Enter comma-separated unique values (or leave empty for all):  \n"
     ]
    },
    {
     "name": "stdout",
     "output_type": "stream",
     "text": [
      "2023/Rajasthan/RJ_01JAN23_31JAN23/BhuvanFASAL2023041343136.zip\n"
     ]
    },
    {
     "name": "stdin",
     "output_type": "stream",
     "text": [
      "continue or skip c\n"
     ]
    },
    {
     "name": "stdout",
     "output_type": "stream",
     "text": [
      "BhuvanFASAL2023041343136.shp\n",
      "Available attributes: ['sid', 'date_time', 'apptype', 'photo1', 'photo2', 'rojectname', 'themename', 'rofilename', 'servername', 'org', 'mobileno', 'eationtime', 'uuid', 'deviceid', 'ictvillage', 'ieldsiteid', 'typeofcrop', 'fcropfield', 'rowthstage', 'hcondition', 'eronground', 'ropvariety', 'teofsowing', 'opsinfield', 'lcondition', 'herremarks', 'photos', 'photostext', 'geometry']\n",
      "Unique values in selected column: ['Mustard' 'MUSTURD' 'Wheat' 'MUSTARD' 'Carrot' 'Musturd' nan 'Barley'\n",
      " 'No' 'Musterd' 'Good' 'Mustard crop' 'Mustered' 'Rijka' 'Gram' 'Saunaph'\n",
      " 'Masturd' 'mustard' 'Barely' 'Shreeram' 'Bassi' 'Mustarf' 'MUSTRAD'\n",
      " 'Mustard rabi' 'Mustatd' 'Mustrad' 'musturd' 'wheat' 'Raya' 'M' 'Mastard'\n",
      " 'Lentil' 'Masoor' 'Wheat rabi' 'Rabi' 'Mustrud' 'LENTIL' 'GRAM' 'Mustrd'\n",
      " 'Mustred' 'Musrard' 'Muastard' 'Mustured' 'musterd' 'Mursted' 'Musteard'\n",
      " 'Normal' 'Wheet' 'WHEAT' 'Whea' 'Mus' 'Cereal crop' 'MUSTAD' 'Alsi'\n",
      " 'Weat' 'White' 'Oil seed' 'gram' 'Isabgol' 'Methi' 'Cummin'\n",
      " 'Cereal crops' 'Cereal' 'Oilseed mustard' 'Oilseed musturdt'\n",
      " 'Bengal gram' 'Cumin' 'Sonph' 'Whest' 'Taramira' 'Ishabgol' 'Bangalgraam'\n",
      " 'Hybrid' 'Jowar' 'Bengal Gram' 'Mastrd' 'Musters' 'Chummin' 'Chana'\n",
      " 'Gram crop' 'Whnoeat' 'Mus6' 'Arugula' 'Gehu' 'Sarsho' 'Bengalgram' 'Sof']\n"
     ]
    },
    {
     "name": "stdin",
     "output_type": "stream",
     "text": [
      "Enter comma-separated unique values (or leave empty for all):  \n"
     ]
    },
    {
     "name": "stdout",
     "output_type": "stream",
     "text": [
      "2023/Rajasthan/RJ_01MAR23_31MAR23/BhuvanFASAL2023041345200.zip\n"
     ]
    },
    {
     "name": "stdin",
     "output_type": "stream",
     "text": [
      "continue or skip c\n"
     ]
    },
    {
     "name": "stdout",
     "output_type": "stream",
     "text": [
      "BhuvanFASAL2023041345200.shp\n",
      "Available attributes: ['sid', 'date_time', 'apptype', 'photo1', 'photo2', 'rojectname', 'themename', 'rofilename', 'servername', 'org', 'mobileno', 'eationtime', 'uuid', 'deviceid', 'ictvillage', 'ieldsiteid', 'typeofcrop', 'fcropfield', 'rowthstage', 'hcondition', 'eronground', 'ropvariety', 'teofsowing', 'opsinfield', 'lcondition', 'herremarks', 'photos', 'photostext', 'geometry']\n",
      "Unique values in selected column: ['Mustard' 'Gram' 'Wheat' 'wheat' 'Mustarf' 'Chana' 'Barely' 'Barley'\n",
      " 'Mustred' nan 'Wheet' 'Pakav' 'Whear' 'White' 'MUSTARD' 'WHEAT' 'GRAM'\n",
      " 'Desi' 'Whaet' 'Chna' 'WHeat' 'bengal gram' 'Bengal gram']\n"
     ]
    },
    {
     "name": "stdin",
     "output_type": "stream",
     "text": [
      "Enter comma-separated unique values (or leave empty for all):  \n"
     ]
    },
    {
     "name": "stdout",
     "output_type": "stream",
     "text": [
      "2023/Tamil Nadu/TN_01DEC22_15FEB23/BhuvanFASAL20230216111606.zip\n"
     ]
    },
    {
     "name": "stdin",
     "output_type": "stream",
     "text": [
      "continue or skip c\n"
     ]
    },
    {
     "name": "stdout",
     "output_type": "stream",
     "text": [
      "BhuvanFASAL20230216111606.shp\n",
      "Available attributes: ['sid', 'date_time', 'apptype', 'photo1', 'photo2', 'rojectname', 'themename', 'rofilename', 'servername', 'org', 'mobileno', 'eationtime', 'uuid', 'deviceid', 'ictvillage', 'ieldsiteid', 'typeofcrop', 'fcropfield', 'rowthstage', 'hcondition', 'eronground', 'ropvariety', 'teofsowing', 'opsinfield', 'lcondition', 'herremarks', 'photos', 'photostext', 'geometry']\n",
      "Unique values in selected column: [nan 'Paddy' 'Banana' 'Paddy and banana' 'Apddy with banana' 'Pulses'\n",
      " 'Jowar' 'Maize' 'Bajra' 'Sesame' 'Maiz' 'Urad' 'Groundnut' 'Urd' 'Cotton'\n",
      " 'Chilli' 'Corton' 'Chill' 'Chill and onion' 'Coriander' 'Sunflower' 'Jw']\n"
     ]
    },
    {
     "name": "stdin",
     "output_type": "stream",
     "text": [
      "Enter comma-separated unique values (or leave empty for all):  Paddy\n"
     ]
    },
    {
     "name": "stdout",
     "output_type": "stream",
     "text": [
      "2023/Telangana/TL_01JAN23_31JAN23/BhuvanFASAL2023031352222.zip\n"
     ]
    },
    {
     "name": "stdin",
     "output_type": "stream",
     "text": [
      "continue or skip c\n"
     ]
    },
    {
     "name": "stdout",
     "output_type": "stream",
     "text": [
      "BhuvanFASAL2023031352222.shp\n",
      "Available attributes: ['sid', 'date_time', 'apptype', 'photo1', 'photo2', 'rojectname', 'themename', 'rofilename', 'servername', 'org', 'mobileno', 'eationtime', 'uuid', 'deviceid', 'ictvillage', 'ieldsiteid', 'typeofcrop', 'fcropfield', 'rowthstage', 'hcondition', 'eronground', 'ropvariety', 'teofsowing', 'opsinfield', 'lcondition', 'herremarks', 'photos', 'photostext', 'geometry']\n",
      "Unique values in selected column: ['Paddy' 'Maize' 'Cottan' 'Cottun' 'Cutton' 'Cotton' 'Pady' 'Tulashi'\n",
      " '1010' 'Mize' 'No' '20220111224' 'Mizz' nan 'Sugarcane' 'PADDY'\n",
      " 'Bittergourd' 'Tomato' 'Cowpea' 'MAIZE' 'Beans' 'Mallbore' 'Chilly'\n",
      " 'Bengal gram' 'Mango' 'Urad' 'Sri janta' 'Onion' 'Chilli'\n",
      " 'Sunflower seeds (kusuma crop)' 'Sunflower' 'Tamota' 'Rice' 'Formoil'\n",
      " 'Jowarfooder' 'Mango trees' 'Urdu' 'Maiz' 'Pasdy' 'Redgram' 'Bangalgram'\n",
      " 'Eucalyptus trees' 'Tamota pumpkin' 'Brinjal' 'Groundnut' '20230120138'\n",
      " 'Navatha' 'Dhanalaxmi' 'Navt' 'Coriander' 'Ganga Kaveri' 'Moog' 'Mustard'\n",
      " '20230122' 'Sreejanta' 'Navata' 'Ganga kaveri' 'Syngenta' 'Winner' 'Veda'\n",
      " 'Soni' '20230123' 'Jowar' 'Test' 'Maiza' 'Sreeganta' 'Senagalu'\n",
      " 'Onion steeds' 'Pioner hibred seeds' 'Hibread maize pioneer' 'Cp janta'\n",
      " 'Dhanush sun flower seeds' 'Dhanya seeganta' 'Wheat' 'Ganaga kaveri'\n",
      " 'Dhanalakshmi' 'Super65' 'Navtha' 'Padya' 'Sonalika' 'Jai sriram'\n",
      " 'Sriram' 'Sri ram' 'Ganga' 'Dhanush' 'Gagan' 'Arjun' '20230126' 'Navatah'\n",
      " 'Delta' 'Mung' 'Sinduja' 'Vikas' 'Suda' 'Jothi' 'Shivam' 'Delte' 'Cotto'\n",
      " 'Maize makka' 'Cott' 'Jower' 'Ganaga kaveri 3155' 'Weat ganga' 'Pioneer'\n",
      " 'Ganga kaveri 3155' 'Pioneer 3167' 'Ganga kaveri 3153' 'Sreejanta 4165'\n",
      " 'Corteva' 'Kaveri kmh8322' 'Pioneer p3302' 'Adam crop mh333' 'Venu seeds'\n",
      " 'Kaverikmh8322']\n"
     ]
    },
    {
     "name": "stdin",
     "output_type": "stream",
     "text": [
      "Enter comma-separated unique values (or leave empty for all):  Paddy,Pady,PADDY\n"
     ]
    },
    {
     "name": "stdout",
     "output_type": "stream",
     "text": [
      "2023/Uttar Pradesh/UP_01JAN23_17JAN23/BhuvanFASAL20230117115201.zip\n"
     ]
    },
    {
     "name": "stdin",
     "output_type": "stream",
     "text": [
      "continue or skip c\n"
     ]
    },
    {
     "name": "stdout",
     "output_type": "stream",
     "text": [
      "BhuvanFASAL20230117115201.shp\n",
      "Available attributes: ['sid', 'date_time', 'apptype', 'photo1', 'photo2', 'rojectname', 'themename', 'rofilename', 'servername', 'org', 'mobileno', 'eationtime', 'uuid', 'deviceid', 'ictvillage', 'ieldsiteid', 'typeofcrop', 'fcropfield', 'rowthstage', 'hcondition', 'eronground', 'ropvariety', 'teofsowing', 'opsinfield', 'lcondition', 'herremarks', 'photos', 'photostext', 'geometry']\n",
      "Unique values in selected column: ['Wheat' 'Maize' 'Mustard' 'Gram' 'Aaloo' 'Potato' 'M' 'Mustered' 'Sarso'\n",
      " nan 'Peas' 'Bassi' 'Pateto' 'Red chili' 'Wheet' 'Bengal gram' 'Test'\n",
      " 'Tomato' 'Red chilli' 'Shimla mirch' 'Musterd' 'mustard' 'Roag' 'Pabhe'\n",
      " 'Mustatd' '2023012 001' 'Pea pulse' '40x50' 'Desi' 'Mustrd' 'WHEAT'\n",
      " 'Bangal gram' 'Mustart' 'WHest' 'Sugarecane' 'Wheate']\n"
     ]
    },
    {
     "name": "stdin",
     "output_type": "stream",
     "text": [
      "Enter comma-separated unique values (or leave empty for all):  \n"
     ]
    },
    {
     "name": "stdout",
     "output_type": "stream",
     "text": [
      "2023/Uttar Pradesh/UP_18FEB23_15FEB23/BhuvanFASAL2023021661801.zip\n"
     ]
    },
    {
     "name": "stdin",
     "output_type": "stream",
     "text": [
      "continue or skip c\n"
     ]
    },
    {
     "name": "stdout",
     "output_type": "stream",
     "text": [
      "BhuvanFASAL2023021661801.shp\n",
      "Available attributes: ['sid', 'date_time', 'apptype', 'photo1', 'photo2', 'rojectname', 'themename', 'rofilename', 'servername', 'org', 'mobileno', 'eationtime', 'uuid', 'deviceid', 'ictvillage', 'ieldsiteid', 'typeofcrop', 'fcropfield', 'rowthstage', 'hcondition', 'eronground', 'ropvariety', 'teofsowing', 'opsinfield', 'lcondition', 'herremarks', 'photos', 'photostext', 'geometry']\n",
      "Unique values in selected column: ['Wheat' 'Mustard' 'Wheatz' 'Potato' 'Mustered' 'Pioneer' 'Sarso' nan\n",
      " 'Mustart' 'Brinjal' 'Bassi' 'WHEAT' 'Couliflowe' 'Couliflower'\n",
      " '20230121-017' 'Sugarcane' 'Sugar cane' 'Masted' 'Chukanadr' 'Whet'\n",
      " 'Mustar d' 'Eggplant' '20230124-011' 'Banana' 'Hy' '20230121-012'\n",
      " 'Sugarecane' 'Satso' 'Barseem' 'Gram' 'sar' 'Mastard' 'sarso' 'Mustured'\n",
      " 'Makka' 'Musstard' 'Mustars' 'Mustrad' 'Tur' 'wheat' 'Wheat and potato'\n",
      " 'Rapeseed mustard' 'Wkeat' 'Beat' 'Masatad' 'Weat' 'Muturd' 'Whear'\n",
      " 'Maize' 'M' 'Musterd' 'Whaet' 'Masoor Rabi pulse' 'Hybrid' 'Mustarf'\n",
      " 'MAIXE' 'Maixe' 'HYBRID' 'Jg315' 'Hyb' 'Mystard' 'Patato' 'Barley'\n",
      " 'Barely' 'Masturd' 'Gehu' 'Misterd' 'Mustred' 'Mistred'\n",
      " 'Maize Mustard beans' 'Muaterd' '315' 'mustred' 'Mistard'\n",
      " 'Wheat and Mustard' 'Chilli' 'Pea' 'Mustrda' 'mustered' 'Mutrad'\n",
      " 'Mustead' '46' 'Mustad' 'Lentol' 'No' 'Mistrad' 'Musterad']\n"
     ]
    },
    {
     "name": "stdin",
     "output_type": "stream",
     "text": [
      "Enter comma-separated unique values (or leave empty for all):  \n"
     ]
    },
    {
     "name": "stdout",
     "output_type": "stream",
     "text": [
      "2023/Uttar Pradesh/UP_1Mar_30April/BhuvanFASAL20230511112746.zip\n"
     ]
    },
    {
     "name": "stdin",
     "output_type": "stream",
     "text": [
      "continue or skip c\n"
     ]
    },
    {
     "name": "stdout",
     "output_type": "stream",
     "text": [
      "BhuvanFASAL20230511112746.shp\n",
      "Available attributes: ['sid', 'date_time', 'apptype', 'photo1', 'photo2', 'rojectname', 'themename', 'rofilename', 'servername', 'org', 'mobileno', 'eationtime', 'uuid', 'deviceid', 'ictvillage', 'ieldsiteid', 'typeofcrop', 'fcropfield', 'rowthstage', 'hcondition', 'eronground', 'ropvariety', 'teofsowing', 'opsinfield', 'lcondition', 'herremarks', 'photos', 'photostext', 'geometry']\n",
      "Unique values in selected column: ['Mustard' 'Mustered' 'Masur' 'Lentil' 'Gram' 'Wheat' nan 'Sugarcane']\n"
     ]
    },
    {
     "name": "stdin",
     "output_type": "stream",
     "text": [
      "Enter comma-separated unique values (or leave empty for all):  \n"
     ]
    },
    {
     "name": "stdout",
     "output_type": "stream",
     "text": [
      "2023/Uttarakhand/UK_01JAN23_31JAN23/BhuvanFASAL2023022155058.zip\n"
     ]
    },
    {
     "name": "stdin",
     "output_type": "stream",
     "text": [
      "continue or skip c\n"
     ]
    },
    {
     "name": "stdout",
     "output_type": "stream",
     "text": [
      "BhuvanFASAL2023022155058.shp\n",
      "Available attributes: ['sid', 'date_time', 'apptype', 'photo1', 'photo2', 'rojectname', 'themename', 'rofilename', 'servername', 'org', 'mobileno', 'eationtime', 'uuid', 'deviceid', 'ictvillage', 'ieldsiteid', 'typeofcrop', 'fcropfield', 'rowthstage', 'hcondition', 'eronground', 'ropvariety', 'teofsowing', 'opsinfield', 'lcondition', 'herremarks', 'photos', 'photostext', 'geometry']\n",
      "Unique values in selected column: ['Wheat' nan 'wheat' 'Local' 'Locla']\n"
     ]
    },
    {
     "name": "stdin",
     "output_type": "stream",
     "text": [
      "Enter comma-separated unique values (or leave empty for all):  \n"
     ]
    },
    {
     "name": "stdout",
     "output_type": "stream",
     "text": [
      "2023/West Bengal/1June_9Aug2023/BhuvanFASAL20230809102511.zip\n"
     ]
    },
    {
     "name": "stdin",
     "output_type": "stream",
     "text": [
      "continue or skip s\n"
     ]
    },
    {
     "name": "stdout",
     "output_type": "stream",
     "text": [
      "2023/West Bengal/WB_01JAN23_28FEB23/BhuvanFASAL2023032150405.zip\n"
     ]
    },
    {
     "name": "stdin",
     "output_type": "stream",
     "text": [
      "continue or skip c\n"
     ]
    },
    {
     "name": "stdout",
     "output_type": "stream",
     "text": [
      "BhuvanFASAL2023032150405.shp\n",
      "Available attributes: ['sid', 'date_time', 'apptype', 'photo1', 'photo2', 'rojectname', 'themename', 'rofilename', 'servername', 'org', 'mobileno', 'eationtime', 'uuid', 'deviceid', 'ictvillage', 'ieldsiteid', 'typeofcrop', 'fcropfield', 'rowthstage', 'hcondition', 'eronground', 'ropvariety', 'teofsowing', 'opsinfield', 'lcondition', 'herremarks', 'photos', 'photostext', 'geometry']\n",
      "Unique values in selected column: ['Mustard' 'Rapeseed Mustard' 'Rapeseed  and Mustard'\n",
      " 'Rapeseed and Mustard' 'MUSTATD' 'MUST ARD' 'Mustrd' 'Mustards' nan\n",
      " 'BORO PADDY' 'Boro Paddy' 'Boro paddy' 'Minikit' 'Boro  Paddy']\n"
     ]
    },
    {
     "name": "stdin",
     "output_type": "stream",
     "text": [
      "Enter comma-separated unique values (or leave empty for all):  BORO PADDY,Boro Paddy,Boro paddy,Boro Paddy\n"
     ]
    },
    {
     "name": "stdout",
     "output_type": "stream",
     "text": [
      "2023/West Bengal/WB_01MAR23_09JUL23/BhuvanFASAL2023071045430.zip\n"
     ]
    },
    {
     "name": "stdin",
     "output_type": "stream",
     "text": [
      "continue or skip c\n"
     ]
    },
    {
     "name": "stdout",
     "output_type": "stream",
     "text": [
      "BhuvanFASAL2023071045430.shp\n",
      "Available attributes: ['sid', 'date_time', 'apptype', 'photo1', 'photo2', 'rojectname', 'themename', 'rofilename', 'servername', 'org', 'mobileno', 'eationtime', 'uuid', 'deviceid', 'ictvillage', 'ieldsiteid', 'typeofcrop', 'fcropfield', 'rowthstage', 'hcondition', 'eronground', 'ropvariety', 'teofsowing', 'opsinfield', 'lcondition', 'herremarks', 'photos', 'photostext', 'geometry']\n",
      "Unique values in selected column: ['Boro paddy' 'Boro Paddy' 'Rabi Rice' 'BoroPaddy' 'Boro  Pafdy'\n",
      " 'Boro Pasdy' 'Vegetable' 'Maize' 'Boro  Paddy' 'Potato' 'BORO PADDY'\n",
      " 'Wheat' 'Boropaddy' 'Jute' 'Mesta' 'Tea' 'Tea   vegetable' 'JUTE' 'Jite'\n",
      " 'Forest' 'Dragon fruits']\n"
     ]
    },
    {
     "name": "stdin",
     "output_type": "stream",
     "text": [
      "Enter comma-separated unique values (or leave empty for all):  Boro paddy,Boro Paddy,Rabi Rice,BoroPaddy,Boro  Pafdy,Boro Pasdy,Boro  Paddy,BORO PADDY,Boropaddy\n"
     ]
    }
   ],
   "source": [
    "def get_zip_file_paths(folder_path):\n",
    "    zip_file_paths = []\n",
    "    \n",
    "    for root, dirs, files in os.walk(folder_path):\n",
    "        for file in files:\n",
    "            if file.endswith('.zip'):\n",
    "                zip_file_paths.append(os.path.join(root, file))\n",
    "    \n",
    "    return zip_file_paths\n",
    "\n",
    "folder_name = \"2023\"  # Replace with the desired folder path\n",
    "zip_paths = get_zip_file_paths(folder_name)\n",
    "print(zip_paths)\n",
    "# zip_read(zip_paths[0])\n",
    "# for file in zip_paths:\n",
    "#     print(file)\n",
    "#     choice = input(\"continue or skip\")\n",
    "#     if choice == 'c':\n",
    "#         zip_read(file)\n"
   ]
  },
  {
   "cell_type": "code",
   "execution_count": null,
   "id": "cf41b830-70b2-4409-b58d-d5e2067685f0",
   "metadata": {},
   "outputs": [],
   "source": [
    "os.chdir('')"
   ]
  },
  {
   "cell_type": "code",
   "execution_count": 9,
   "id": "1496813a-64db-494f-958a-ee6dd5b69bcb",
   "metadata": {},
   "outputs": [],
   "source": [
    "final_gdf = gpd.GeoDataFrame(pd.concat(results, ignore_index=True), geometry='geometry')\n",
    "final_gdf.to_csv('/wadhwani_kdss/c_drive/Users/user/abhijeeth/raw_rabi_data.csv',index=False)"
   ]
  },
  {
   "cell_type": "code",
   "execution_count": 12,
   "id": "b1d477cc-c988-4823-aa1f-4abef2cb4347",
   "metadata": {},
   "outputs": [],
   "source": [
    "final_gdf.drop(['sid','date_time','apptype','photo1','photo2','rojectname','servername','org'],axis=1,inplace=True)"
   ]
  },
  {
   "cell_type": "code",
   "execution_count": 14,
   "id": "e389dea3-eec5-40da-b1bb-4191c936c278",
   "metadata": {},
   "outputs": [],
   "source": [
    "final_gdf.drop(['themename','rofilename','mobileno','eationtime','uuid','deviceid','ictvillage','ieldsiteid','fcropfield'],axis=1,inplace=True)"
   ]
  },
  {
   "cell_type": "code",
   "execution_count": 19,
   "id": "c70ac35c-cf1c-4733-9269-30b9d77f6a09",
   "metadata": {},
   "outputs": [],
   "source": [
    "final_gdf.drop(['rowthstage','hcondition','eronground','ropvariety','teofsowing','opsinfield','lcondition','herremarks','photostext','latitude','longitude','selected_column'],axis=1,inplace=True)"
   ]
  },
  {
   "cell_type": "code",
   "execution_count": 23,
   "id": "9a1cad80-04d5-48c1-b7cf-1f26a22b36ef",
   "metadata": {},
   "outputs": [],
   "source": [
    "final_gdf.drop(['photos'],axis=1,inplace=True)"
   ]
  },
  {
   "cell_type": "code",
   "execution_count": 24,
   "id": "a54c58f5-e161-4980-a3df-6afb051dee15",
   "metadata": {},
   "outputs": [
    {
     "data": {
      "text/html": [
       "<div>\n",
       "<style scoped>\n",
       "    .dataframe tbody tr th:only-of-type {\n",
       "        vertical-align: middle;\n",
       "    }\n",
       "\n",
       "    .dataframe tbody tr th {\n",
       "        vertical-align: top;\n",
       "    }\n",
       "\n",
       "    .dataframe thead th {\n",
       "        text-align: right;\n",
       "    }\n",
       "</style>\n",
       "<table border=\"1\" class=\"dataframe\">\n",
       "  <thead>\n",
       "    <tr style=\"text-align: right;\">\n",
       "      <th></th>\n",
       "      <th>typeofcrop</th>\n",
       "      <th>geometry</th>\n",
       "    </tr>\n",
       "  </thead>\n",
       "  <tbody>\n",
       "    <tr>\n",
       "      <th>0</th>\n",
       "      <td>PADDY</td>\n",
       "      <td>POINT (79.24527 14.85073)</td>\n",
       "    </tr>\n",
       "    <tr>\n",
       "      <th>1</th>\n",
       "      <td>Paddy</td>\n",
       "      <td>POINT (81.50371 16.75232)</td>\n",
       "    </tr>\n",
       "    <tr>\n",
       "      <th>2</th>\n",
       "      <td>Paddy</td>\n",
       "      <td>POINT (81.62672 16.52915)</td>\n",
       "    </tr>\n",
       "    <tr>\n",
       "      <th>3</th>\n",
       "      <td>Paddy</td>\n",
       "      <td>POINT (81.50213 16.81272)</td>\n",
       "    </tr>\n",
       "    <tr>\n",
       "      <th>4</th>\n",
       "      <td>Paddy</td>\n",
       "      <td>POINT (81.41094 17.05991)</td>\n",
       "    </tr>\n",
       "    <tr>\n",
       "      <th>...</th>\n",
       "      <td>...</td>\n",
       "      <td>...</td>\n",
       "    </tr>\n",
       "    <tr>\n",
       "      <th>1321</th>\n",
       "      <td>Boro paddy</td>\n",
       "      <td>POINT (88.53570 23.80563)</td>\n",
       "    </tr>\n",
       "    <tr>\n",
       "      <th>1322</th>\n",
       "      <td>Boro paddy</td>\n",
       "      <td>POINT (88.54273 23.74530)</td>\n",
       "    </tr>\n",
       "    <tr>\n",
       "      <th>1323</th>\n",
       "      <td>Boro paddy</td>\n",
       "      <td>POINT (88.52739 23.68274)</td>\n",
       "    </tr>\n",
       "    <tr>\n",
       "      <th>1324</th>\n",
       "      <td>Boro paddy</td>\n",
       "      <td>POINT (88.52985 23.63979)</td>\n",
       "    </tr>\n",
       "    <tr>\n",
       "      <th>1325</th>\n",
       "      <td>Boro paddy</td>\n",
       "      <td>POINT (88.52245 23.58597)</td>\n",
       "    </tr>\n",
       "  </tbody>\n",
       "</table>\n",
       "<p>1326 rows × 2 columns</p>\n",
       "</div>"
      ],
      "text/plain": [
       "      typeofcrop                   geometry\n",
       "0          PADDY  POINT (79.24527 14.85073)\n",
       "1          Paddy  POINT (81.50371 16.75232)\n",
       "2          Paddy  POINT (81.62672 16.52915)\n",
       "3          Paddy  POINT (81.50213 16.81272)\n",
       "4          Paddy  POINT (81.41094 17.05991)\n",
       "...          ...                        ...\n",
       "1321  Boro paddy  POINT (88.53570 23.80563)\n",
       "1322  Boro paddy  POINT (88.54273 23.74530)\n",
       "1323  Boro paddy  POINT (88.52739 23.68274)\n",
       "1324  Boro paddy  POINT (88.52985 23.63979)\n",
       "1325  Boro paddy  POINT (88.52245 23.58597)\n",
       "\n",
       "[1326 rows x 2 columns]"
      ]
     },
     "execution_count": 24,
     "metadata": {},
     "output_type": "execute_result"
    }
   ],
   "source": [
    "final_gdf"
   ]
  },
  {
   "cell_type": "code",
   "execution_count": 26,
   "id": "54ef20e0-b02d-498c-aa1e-a2b4363fdf1d",
   "metadata": {},
   "outputs": [],
   "source": [
    "final_gdf.to_csv('/wadhwani_kdss/c_drive/Users/user/abhijeeth/rabi_rice_2023.csv',index=False)"
   ]
  },
  {
   "cell_type": "code",
   "execution_count": 22,
   "id": "a62bee49-d614-4e73-a927-487f87f948bb",
   "metadata": {},
   "outputs": [
    {
     "data": {
      "text/plain": [
       "'/wadhwani_kdss/e_drive/MNCFC_GT_CCE_Repository'"
      ]
     },
     "execution_count": 22,
     "metadata": {},
     "output_type": "execute_result"
    }
   ],
   "source": [
    "os.getcwd()"
   ]
  },
  {
   "cell_type": "code",
   "execution_count": null,
   "id": "09792c11-f500-4cb7-8a17-13c104921770",
   "metadata": {},
   "outputs": [],
   "source": []
  }
 ],
 "metadata": {
  "kernelspec": {
   "display_name": "Python 3 (ipykernel)",
   "language": "python",
   "name": "python3"
  },
  "language_info": {
   "codemirror_mode": {
    "name": "ipython",
    "version": 3
   },
   "file_extension": ".py",
   "mimetype": "text/x-python",
   "name": "python",
   "nbconvert_exporter": "python",
   "pygments_lexer": "ipython3",
   "version": "3.9.17"
  }
 },
 "nbformat": 4,
 "nbformat_minor": 5
}
